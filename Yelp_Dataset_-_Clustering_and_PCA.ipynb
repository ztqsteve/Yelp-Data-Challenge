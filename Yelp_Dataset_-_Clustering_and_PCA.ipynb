{
 "cells": [
  {
   "cell_type": "markdown",
   "metadata": {},
   "source": [
    "# Yelp Data Challenge - Clustering and PCA"
   ]
  },
  {
   "cell_type": "code",
   "execution_count": 1,
   "metadata": {
    "collapsed": true
   },
   "outputs": [],
   "source": [
    "import pandas as pd\n",
    "import numpy as np\n",
    "import matplotlib.pyplot as plt\n",
    "% matplotlib inline\n",
    "plt.style.use(\"ggplot\")"
   ]
  },
  {
   "cell_type": "code",
   "execution_count": 2,
   "metadata": {
    "collapsed": true
   },
   "outputs": [],
   "source": [
    "df = pd.read_csv('data/last_2_years_restaurant_reviews.csv')"
   ]
  },
  {
   "cell_type": "code",
   "execution_count": 3,
   "metadata": {},
   "outputs": [
    {
     "data": {
      "text/html": [
       "<div>\n",
       "<table border=\"1\" class=\"dataframe\">\n",
       "  <thead>\n",
       "    <tr style=\"text-align: right;\">\n",
       "      <th></th>\n",
       "      <th>business_id</th>\n",
       "      <th>name</th>\n",
       "      <th>categories</th>\n",
       "      <th>avg_stars</th>\n",
       "      <th>cool</th>\n",
       "      <th>date</th>\n",
       "      <th>funny</th>\n",
       "      <th>review_id</th>\n",
       "      <th>stars</th>\n",
       "      <th>text</th>\n",
       "      <th>type</th>\n",
       "      <th>useful</th>\n",
       "      <th>user_id</th>\n",
       "    </tr>\n",
       "  </thead>\n",
       "  <tbody>\n",
       "    <tr>\n",
       "      <th>0</th>\n",
       "      <td>--9e1ONYQuAa-CB_Rrw7Tw</td>\n",
       "      <td>Delmonico Steakhouse</td>\n",
       "      <td>[Steakhouses, Restaurants, Cajun/Creole]</td>\n",
       "      <td>4.0</td>\n",
       "      <td>0</td>\n",
       "      <td>2015-06-26</td>\n",
       "      <td>0</td>\n",
       "      <td>nCqdz-NW64KazpxqnDr0sQ</td>\n",
       "      <td>1</td>\n",
       "      <td>I mainly went for the ceasar salad prepared ta...</td>\n",
       "      <td>review</td>\n",
       "      <td>0</td>\n",
       "      <td>0XVzm4kVIAaH4eQAxWbhvw</td>\n",
       "    </tr>\n",
       "    <tr>\n",
       "      <th>1</th>\n",
       "      <td>--9e1ONYQuAa-CB_Rrw7Tw</td>\n",
       "      <td>Delmonico Steakhouse</td>\n",
       "      <td>[Steakhouses, Restaurants, Cajun/Creole]</td>\n",
       "      <td>4.0</td>\n",
       "      <td>0</td>\n",
       "      <td>2015-06-29</td>\n",
       "      <td>0</td>\n",
       "      <td>iwx6s6yQxc7yjS7NFANZig</td>\n",
       "      <td>4</td>\n",
       "      <td>Nice atmosphere and wonderful service. I had t...</td>\n",
       "      <td>review</td>\n",
       "      <td>0</td>\n",
       "      <td>2aeNFntqY2QDZLADNo8iQQ</td>\n",
       "    </tr>\n",
       "    <tr>\n",
       "      <th>2</th>\n",
       "      <td>--9e1ONYQuAa-CB_Rrw7Tw</td>\n",
       "      <td>Delmonico Steakhouse</td>\n",
       "      <td>[Steakhouses, Restaurants, Cajun/Creole]</td>\n",
       "      <td>4.0</td>\n",
       "      <td>0</td>\n",
       "      <td>2015-04-05</td>\n",
       "      <td>0</td>\n",
       "      <td>2HrBENXZTiitcCJfzkELgA</td>\n",
       "      <td>2</td>\n",
       "      <td>To be honest it really quit aweful. First the ...</td>\n",
       "      <td>review</td>\n",
       "      <td>0</td>\n",
       "      <td>WFhv5pMJRDPWSyLnKiWFXA</td>\n",
       "    </tr>\n",
       "    <tr>\n",
       "      <th>3</th>\n",
       "      <td>--9e1ONYQuAa-CB_Rrw7Tw</td>\n",
       "      <td>Delmonico Steakhouse</td>\n",
       "      <td>[Steakhouses, Restaurants, Cajun/Creole]</td>\n",
       "      <td>4.0</td>\n",
       "      <td>0</td>\n",
       "      <td>2016-02-16</td>\n",
       "      <td>0</td>\n",
       "      <td>6YNPXoq41qTMZ2TEi0BYUA</td>\n",
       "      <td>2</td>\n",
       "      <td>The food was decent, but the service was defin...</td>\n",
       "      <td>review</td>\n",
       "      <td>0</td>\n",
       "      <td>2S6gWE-K3DHNcKYYSgN7xA</td>\n",
       "    </tr>\n",
       "    <tr>\n",
       "      <th>4</th>\n",
       "      <td>--9e1ONYQuAa-CB_Rrw7Tw</td>\n",
       "      <td>Delmonico Steakhouse</td>\n",
       "      <td>[Steakhouses, Restaurants, Cajun/Creole]</td>\n",
       "      <td>4.0</td>\n",
       "      <td>0</td>\n",
       "      <td>2016-02-08</td>\n",
       "      <td>1</td>\n",
       "      <td>4bQrVUiRZ642odcKCS0OhQ</td>\n",
       "      <td>2</td>\n",
       "      <td>If you're looking for craptastic service and m...</td>\n",
       "      <td>review</td>\n",
       "      <td>1</td>\n",
       "      <td>rCTVWx_Tws2jWi-K89iEyw</td>\n",
       "    </tr>\n",
       "  </tbody>\n",
       "</table>\n",
       "</div>"
      ],
      "text/plain": [
       "              business_id                  name  \\\n",
       "0  --9e1ONYQuAa-CB_Rrw7Tw  Delmonico Steakhouse   \n",
       "1  --9e1ONYQuAa-CB_Rrw7Tw  Delmonico Steakhouse   \n",
       "2  --9e1ONYQuAa-CB_Rrw7Tw  Delmonico Steakhouse   \n",
       "3  --9e1ONYQuAa-CB_Rrw7Tw  Delmonico Steakhouse   \n",
       "4  --9e1ONYQuAa-CB_Rrw7Tw  Delmonico Steakhouse   \n",
       "\n",
       "                                 categories  avg_stars  cool        date  \\\n",
       "0  [Steakhouses, Restaurants, Cajun/Creole]        4.0     0  2015-06-26   \n",
       "1  [Steakhouses, Restaurants, Cajun/Creole]        4.0     0  2015-06-29   \n",
       "2  [Steakhouses, Restaurants, Cajun/Creole]        4.0     0  2015-04-05   \n",
       "3  [Steakhouses, Restaurants, Cajun/Creole]        4.0     0  2016-02-16   \n",
       "4  [Steakhouses, Restaurants, Cajun/Creole]        4.0     0  2016-02-08   \n",
       "\n",
       "   funny               review_id  stars  \\\n",
       "0      0  nCqdz-NW64KazpxqnDr0sQ      1   \n",
       "1      0  iwx6s6yQxc7yjS7NFANZig      4   \n",
       "2      0  2HrBENXZTiitcCJfzkELgA      2   \n",
       "3      0  6YNPXoq41qTMZ2TEi0BYUA      2   \n",
       "4      1  4bQrVUiRZ642odcKCS0OhQ      2   \n",
       "\n",
       "                                                text    type  useful  \\\n",
       "0  I mainly went for the ceasar salad prepared ta...  review       0   \n",
       "1  Nice atmosphere and wonderful service. I had t...  review       0   \n",
       "2  To be honest it really quit aweful. First the ...  review       0   \n",
       "3  The food was decent, but the service was defin...  review       0   \n",
       "4  If you're looking for craptastic service and m...  review       1   \n",
       "\n",
       "                  user_id  \n",
       "0  0XVzm4kVIAaH4eQAxWbhvw  \n",
       "1  2aeNFntqY2QDZLADNo8iQQ  \n",
       "2  WFhv5pMJRDPWSyLnKiWFXA  \n",
       "3  2S6gWE-K3DHNcKYYSgN7xA  \n",
       "4  rCTVWx_Tws2jWi-K89iEyw  "
      ]
     },
     "execution_count": 3,
     "metadata": {},
     "output_type": "execute_result"
    }
   ],
   "source": [
    "df.head()"
   ]
  },
  {
   "cell_type": "markdown",
   "metadata": {},
   "source": [
    "## 1. Cluster the review text data for all the restaurants"
   ]
  },
  {
   "cell_type": "code",
   "execution_count": 4,
   "metadata": {
    "collapsed": true
   },
   "outputs": [],
   "source": [
    "# Take the values of the column that contains review text data\n",
    "documents = df['text'].values "
   ]
  },
  {
   "cell_type": "markdown",
   "metadata": {},
   "source": [
    "#### For example, I am interested in perfect (5 stars) and imperfect (1-4 stars) rating"
   ]
  },
  {
   "cell_type": "code",
   "execution_count": 5,
   "metadata": {
    "collapsed": true
   },
   "outputs": [],
   "source": [
    "# Make a column and take the values\n",
    "df['perfection'] = df['stars'].apply(lambda x : int(x == 5))\n",
    "target = df['perfection'].values"
   ]
  },
  {
   "cell_type": "markdown",
   "metadata": {},
   "source": [
    "#### Look at the statistic of the target variable"
   ]
  },
  {
   "cell_type": "code",
   "execution_count": 6,
   "metadata": {},
   "outputs": [
    {
     "data": {
      "text/plain": [
       "(0.46076595352958266, (347619,))"
      ]
     },
     "execution_count": 6,
     "metadata": {},
     "output_type": "execute_result"
    }
   ],
   "source": [
    "target.mean(),target.shape\n"
   ]
  },
  {
   "cell_type": "markdown",
   "metadata": {},
   "source": [
    "### Create training dataset and test dataset"
   ]
  },
  {
   "cell_type": "code",
   "execution_count": 7,
   "metadata": {},
   "outputs": [
    {
     "name": "stderr",
     "output_type": "stream",
     "text": [
      "/Users/zhangtianqi/anaconda/lib/python2.7/site-packages/sklearn/cross_validation.py:44: DeprecationWarning: This module was deprecated in version 0.18 in favor of the model_selection module into which all the refactored classes and functions are moved. Also note that the interface of the new CV iterators are different from that of this module. This module will be removed in 0.20.\n",
      "  \"This module will be removed in 0.20.\", DeprecationWarning)\n"
     ]
    }
   ],
   "source": [
    "from sklearn.cross_validation import train_test_split"
   ]
  },
  {
   "cell_type": "code",
   "execution_count": 8,
   "metadata": {
    "collapsed": true
   },
   "outputs": [],
   "source": [
    "documents_train, documents_test, target_train, target_test = train_test_split(documents, target, \n",
    "                                                                              test_size=0.8, random_state=42)"
   ]
  },
  {
   "cell_type": "markdown",
   "metadata": {},
   "source": [
    "### Get NLP representation of the documents"
   ]
  },
  {
   "cell_type": "code",
   "execution_count": 9,
   "metadata": {
    "collapsed": true
   },
   "outputs": [],
   "source": [
    "from sklearn.feature_extraction.text import TfidfVectorizer"
   ]
  },
  {
   "cell_type": "code",
   "execution_count": 10,
   "metadata": {},
   "outputs": [],
   "source": [
    "# Create TfidfVectorizer\n",
    "vectorizer = TfidfVectorizer(stop_words='english', max_features = 1000)"
   ]
  },
  {
   "cell_type": "code",
   "execution_count": 11,
   "metadata": {
    "collapsed": true
   },
   "outputs": [],
   "source": [
    "# Train the model with training data\n",
    "vectors_train = vectorizer.fit_transform(documents_train).toarray()"
   ]
  },
  {
   "cell_type": "code",
   "execution_count": 12,
   "metadata": {
    "collapsed": true
   },
   "outputs": [],
   "source": [
    "# Get the vocab of tfidf\n",
    "words = vectorizer.get_feature_names()"
   ]
  },
  {
   "cell_type": "code",
   "execution_count": 13,
   "metadata": {
    "collapsed": true
   },
   "outputs": [],
   "source": [
    "# Use the trained model to transform all the reviews\n",
    "vectors_all = vectorizer.transform(documents).toarray()"
   ]
  },
  {
   "cell_type": "markdown",
   "metadata": {},
   "source": [
    "### Cluster reviews with KMeans"
   ]
  },
  {
   "cell_type": "markdown",
   "metadata": {},
   "source": [
    "#### Fit k-means clustering with the training vectors and apply it on all the data"
   ]
  },
  {
   "cell_type": "code",
   "execution_count": 14,
   "metadata": {},
   "outputs": [
    {
     "data": {
      "text/plain": [
       "KMeans(algorithm='auto', copy_x=True, init='k-means++', max_iter=300,\n",
       "    n_clusters=8, n_init=10, n_jobs=1, precompute_distances='auto',\n",
       "    random_state=None, tol=0.0001, verbose=0)"
      ]
     },
     "execution_count": 14,
     "metadata": {},
     "output_type": "execute_result"
    }
   ],
   "source": [
    "from sklearn.cluster import KMeans\n",
    "kmeans = KMeans()\n",
    "kmeans.fit(vectors_train)"
   ]
  },
  {
   "cell_type": "markdown",
   "metadata": {},
   "source": [
    "#### Make predictions on all  data"
   ]
  },
  {
   "cell_type": "code",
   "execution_count": 15,
   "metadata": {
    "collapsed": true
   },
   "outputs": [],
   "source": [
    "assigned_cluster = kmeans.predict(vectors_all)"
   ]
  },
  {
   "cell_type": "markdown",
   "metadata": {},
   "source": [
    "#### Inspect the centroids\n",
    "To find out what \"topics\" Kmeans has discovered we must inspect the centroids. Print out the centroids of the Kmeans clustering.\n",
    "\n",
    "   These centroids are simply a bunch of vectors.  To make any sense of them we need to map these vectors back into our 'word space'."
   ]
  },
  {
   "cell_type": "code",
   "execution_count": 16,
   "metadata": {},
   "outputs": [
    {
     "name": "stdout",
     "output_type": "stream",
     "text": [
      "cluster centers:\n",
      "[[ 0.00337159  0.00684302  0.00164322 ...,  0.00157069  0.00244199\n",
      "   0.00765274]\n",
      " [ 0.00256369  0.00801464  0.00241301 ...,  0.00060816  0.00342729\n",
      "   0.0067543 ]\n",
      " [ 0.00216754  0.00810863  0.00162009 ...,  0.00156751  0.00703803\n",
      "   0.0100752 ]\n",
      " ..., \n",
      " [ 0.00237309  0.00586968  0.00241838 ...,  0.00132061  0.00441404\n",
      "   0.00724778]\n",
      " [ 0.00477644  0.01954789  0.00292402 ...,  0.00348316  0.00079302\n",
      "   0.00174514]\n",
      " [ 0.00214876  0.00507666  0.00180902 ...,  0.00149254  0.00287365\n",
      "   0.00579855]]\n"
     ]
    }
   ],
   "source": [
    "print \"cluster centers:\"\n",
    "print kmeans.cluster_centers_"
   ]
  },
  {
   "cell_type": "markdown",
   "metadata": {},
   "source": [
    "#### Find the top 10 features for each cluster.\n",
    "For topics we are only really interested in the most present words, i.e. features/dimensions with the greatest representation in the centroid.\n",
    "\n",
    "* Sort each centroid vector to find the top 10 features\n",
    "* Go back to vectorizer object to find out what words each of these features corresponds to.\n"
   ]
  },
  {
   "cell_type": "code",
   "execution_count": 17,
   "metadata": {},
   "outputs": [
    {
     "name": "stdout",
     "output_type": "stream",
     "text": [
      "top features for each cluster:\n",
      "0: pizza, crust, place, great, good, best, slice, cheese, just, ordered\n",
      "1: burger, fries, burgers, good, cheese, shake, place, great, food, just\n",
      "2: chicken, fried, food, good, rice, place, ordered, great, delicious, sauce\n",
      "3: great, food, service, place, amazing, awesome, friendly, love, staff, atmosphere\n",
      "4: sushi, roll, place, rolls, great, ayce, fresh, eat, good, service\n",
      "5: food, place, best, vegas, delicious, amazing, love, service, like, time\n",
      "6: food, order, time, minutes, just, service, came, got, didn, table\n",
      "7: good, food, really, place, service, nice, pretty, like, just, time\n"
     ]
    }
   ],
   "source": [
    "top_centroids = kmeans.cluster_centers_.argsort()[:,-1:-11:-1]\n",
    "print \"top features for each cluster:\"\n",
    "for num, centroid in enumerate(top_centroids):\n",
    "    print \"%d: %s\" % (num, \", \".join(words[i] for i in centroid))"
   ]
  },
  {
   "cell_type": "markdown",
   "metadata": {},
   "source": [
    "#### Try different k\n"
   ]
  },
  {
   "cell_type": "code",
   "execution_count": 18,
   "metadata": {},
   "outputs": [
    {
     "data": {
      "text/plain": [
       "KMeans(algorithm='auto', copy_x=True, init='k-means++', max_iter=300,\n",
       "    n_clusters=10, n_init=10, n_jobs=1, precompute_distances='auto',\n",
       "    random_state=None, tol=0.0001, verbose=0)"
      ]
     },
     "execution_count": 18,
     "metadata": {},
     "output_type": "execute_result"
    }
   ],
   "source": [
    "kmeans = KMeans(n_clusters=10)\n",
    "kmeans.fit(vectors_train)"
   ]
  },
  {
   "cell_type": "code",
   "execution_count": 19,
   "metadata": {},
   "outputs": [
    {
     "name": "stdout",
     "output_type": "stream",
     "text": [
      "top features for each cluster:\n",
      "0: good, food, really, place, service, nice, pretty, like, just, time\n",
      "1: amazing, food, place, service, great, best, vegas, love, definitely, delicious\n",
      "2: breakfast, eggs, place, great, food, good, coffee, pancakes, service, vegas\n",
      "3: chicken, fried, food, good, rice, place, ordered, great, sauce, delicious\n",
      "4: food, order, minutes, time, service, just, came, table, got, asked\n",
      "5: pizza, crust, place, good, great, best, slice, cheese, just, order\n",
      "6: burger, fries, burgers, good, cheese, shake, place, great, food, just\n",
      "7: great, food, service, place, awesome, friendly, love, atmosphere, staff, good\n",
      "8: food, place, vegas, best, like, delicious, just, love, service, time\n",
      "9: sushi, roll, rolls, place, ayce, great, fresh, eat, good, service\n"
     ]
    }
   ],
   "source": [
    "top_centroids = kmeans.cluster_centers_.argsort()[:,-1:-11:-1]\n",
    "print \"top features for each cluster:\"\n",
    "for num, centroid in enumerate(top_centroids):\n",
    "    print \"%d: %s\" % (num, \", \".join(words[i] for i in centroid))"
   ]
  },
  {
   "cell_type": "markdown",
   "metadata": {},
   "source": [
    "#### Print out the rating and review of a random sample of the reviews assigned to each cluster to get a sense of the cluster."
   ]
  },
  {
   "cell_type": "code",
   "execution_count": 20,
   "metadata": {},
   "outputs": [],
   "source": [
    "assigned_cluster = kmeans.predict(vectors_all)"
   ]
  },
  {
   "cell_type": "code",
   "execution_count": 106,
   "metadata": {},
   "outputs": [
    {
     "name": "stdout",
     "output_type": "stream",
     "text": [
      "cluster 0:\n",
      "rate:1 -     My co-workers and I placed an order for delivery today from store #691 or maryland pkwy.  We were completely dissatisfied.  We placed our order online at approximately 12:45 with a promise delivery time of 1:30.  After about 3 minutes we received a phone call asking would it be ok for our delivery time to be between 2 and 2:15.  We agreed to the revised time.  At approximately 2:35 we called the store to inquire what was taking so long.  We were told that the food was on the way and that there was no estimated time of arrival.  Totally unprofessional!  We then called a second time at 3:15 and spoke to the assistant manager who informed us the delivery was 2 minutes away.  When we finally received our food it was cold.  This is very unprofessional and unacceptable!  The avocado on the turkey sandwich had begun to turn brown and the bread on the muffaletta was soggy from sitting so long.  The manager didn't even have the decency to offer us any type of compensation for our troubles or a simple apology.  We would greatly appreciate a response and an explanation for our troubles.\n",
      "rate:4 -     I was pleasantly surprised to eat at this buffet in the Orleans Hotel and casino. It was moderately priced not much of a long wait and really, really decent.\n",
      "\n",
      "I went for breakfast, primarily. I enjoyed the really crispy bacon, the scrambled eggs we're perfectly scrambled and fluffy. I also enjoyed the buttermilk pancakes. I've been to buffets in Vegas such as Caesars Palace, the Bellagio, Winn, Harrah's, The Flamingo, Rio, pH, etc. This one was nearly half the cost and was about as good as most. Nothing fancy but good and satisfying.\n",
      "\n",
      "The service, on the other hand, was very lacking and almost non-existent. I basically got up and got my own coffee and tipped accordingly.\n",
      "rate:5 -     One of my favorite downtown spots!  Always great food and one of my favorite Thai places in Las Vegas.\n",
      "cluster 1:\n",
      "rate:5 -     This is an awesome place for vegetarians. You will probably get the best Falafel in Las Vegas here. We had Falafel wrap and Baklava. \n",
      "\n",
      "Very responsive staff. They are also very happy to tell you about what goes into each of the ingredients. Very happy with this place.\n",
      "rate:2 -     At first sight, this buffet was everything I could dream of, but that quickly turned to disappointment. There were a lot of stations with different types of cuisine like Mexican, American, Chinese, and Italian, and I tried all of them.  The problem was that while they all looked great at their stations, as soon as they were back at our table, they were cold and dry. I did admire their selection and stuff myself with food. I just wish it would have tasted as good as it looked.\n",
      "rate:3 -     Been here many times over the past decades. It's huge with tons of options. It used to be one of the best places to chow down with family and friends. The quality has slipped a bit and the lines have declined. \n",
      "\n",
      "With the consolidation of most hotels to pretty much four main companies in the strip, buffets no longer have a uniqueness to them. \n",
      "\n",
      "I remember being amazed as a child but as an adult and after visited other buffets in Vegas, I was sad to see that this place has lost a bit of its luster. \n",
      "\n",
      "I will add though that the service has always been great! \n",
      "\n",
      "If you're in the MGM and have a huge appetite, then you've come to the right place. \n",
      "\n",
      "If you play slots or tables, you'll want to join their players card and earn a free meal as well as discounts to their rooms. What's good is you can earn comps at any of the MGM properties and redeem at their other spots.\n",
      "\n",
      "Depending on your status you may not have to wait long in line.\n",
      "cluster 2:\n",
      "rate:3 -     My wife and I ate here on a Monday night while I was on a business trip.  The venue is about a mile east of the Desert Inn Road hotels where we were staying.  Service was friendly and prompt.  My order of kitfo and gomen was excellent.  I like my food spicy and they met my expectations.  My wife opted for their fish selection, flavored mildly, and it was well prepared.  I brought my own wine and offered to pay a corkage fee.  They let me do so, but asked me in future not to bring my wine, but order theirs.  I am picky about wines, so I probably will not return for that reason, especially since there was no Ethiopian honey wine on the menu as an option.  Parking is easy and the price is very reasonable.  I rate this restaurant as average as compared to other restaurants of this type that we frequent in other cities.\n",
      "rate:1 -     Over rated americanized Thai food.  Lack required spice's for proper Thai food. But hey its Las Vegas. ^=^\n",
      "rate:5 -     Not sure why this place doesn't have a better review. 5 stars with me. The pho here is very clean, soup clean, portions good, sandwiches good, employees friendly. The pho was not oily and tasted really good. \n",
      "\n",
      "Imo, way better than other local pho places that are known to be famous because their 24/7. Other places overprice, with small portions, and their soup straight up is oily and msg because i get thirty. \n",
      "\n",
      "Kinh Do underrated and definitely deserve a try guys.\n"
     ]
    }
   ],
   "source": [
    "for i in range(kmeans.n_clusters):\n",
    "    cluster = np.arange(0, vectors_all.shape[0])[assigned_cluster==i]\n",
    "    sample_reviews = np.random.choice(cluster, 3, replace=False)\n",
    "    print \"cluster %d:\" % i\n",
    "    for reviews in sample_reviews:\n",
    "        print 'rate:%d -' % df.ix[reviews]['stars'],\n",
    "        print \"    %s\" % df.ix[reviews]['text']\n"
   ]
  },
  {
   "cell_type": "markdown",
   "metadata": {},
   "source": [
    "## 2. Cluster all the reviews of the most reviewed restaurant"
   ]
  },
  {
   "cell_type": "code",
   "execution_count": 22,
   "metadata": {},
   "outputs": [],
   "source": [
    "df['count'] = 1\n",
    "df_count = df.groupby('business_id').sum()\n",
    "top_review_business = df_count['count'].argmax()\n",
    "df_top_restaurant = df[df['business_id'] == top_review_business]"
   ]
  },
  {
   "cell_type": "code",
   "execution_count": 107,
   "metadata": {},
   "outputs": [
    {
     "data": {
      "text/html": [
       "<div>\n",
       "<table border=\"1\" class=\"dataframe\">\n",
       "  <thead>\n",
       "    <tr style=\"text-align: right;\">\n",
       "      <th></th>\n",
       "      <th>business_id</th>\n",
       "      <th>name</th>\n",
       "      <th>categories</th>\n",
       "      <th>avg_stars</th>\n",
       "      <th>cool</th>\n",
       "      <th>date</th>\n",
       "      <th>funny</th>\n",
       "      <th>review_id</th>\n",
       "      <th>stars</th>\n",
       "      <th>text</th>\n",
       "      <th>type</th>\n",
       "      <th>useful</th>\n",
       "      <th>user_id</th>\n",
       "      <th>perfection</th>\n",
       "      <th>count</th>\n",
       "    </tr>\n",
       "  </thead>\n",
       "  <tbody>\n",
       "    <tr>\n",
       "      <th>258158</th>\n",
       "      <td>hihud--QRriCYZw1zZvW4g</td>\n",
       "      <td>Gangnam Asian BBQ Dining</td>\n",
       "      <td>[Korean, Japanese, Restaurants, Tapas/Small Pl...</td>\n",
       "      <td>4.5</td>\n",
       "      <td>0</td>\n",
       "      <td>2016-10-01</td>\n",
       "      <td>0</td>\n",
       "      <td>xgeXscn1gdG5I9w-p2tqig</td>\n",
       "      <td>5</td>\n",
       "      <td>Excellent food with great service that's near ...</td>\n",
       "      <td>review</td>\n",
       "      <td>1</td>\n",
       "      <td>mtGw8bQTQToVR_1KWD7F7A</td>\n",
       "      <td>1</td>\n",
       "      <td>1</td>\n",
       "    </tr>\n",
       "    <tr>\n",
       "      <th>258159</th>\n",
       "      <td>hihud--QRriCYZw1zZvW4g</td>\n",
       "      <td>Gangnam Asian BBQ Dining</td>\n",
       "      <td>[Korean, Japanese, Restaurants, Tapas/Small Pl...</td>\n",
       "      <td>4.5</td>\n",
       "      <td>0</td>\n",
       "      <td>2016-08-20</td>\n",
       "      <td>0</td>\n",
       "      <td>jHeg2v19v4RsN2UnDlCsFQ</td>\n",
       "      <td>5</td>\n",
       "      <td>We were in town for the weekend and really enj...</td>\n",
       "      <td>review</td>\n",
       "      <td>0</td>\n",
       "      <td>RVGxGRTnVOeCLMPT4JAYuw</td>\n",
       "      <td>1</td>\n",
       "      <td>1</td>\n",
       "    </tr>\n",
       "    <tr>\n",
       "      <th>258160</th>\n",
       "      <td>hihud--QRriCYZw1zZvW4g</td>\n",
       "      <td>Gangnam Asian BBQ Dining</td>\n",
       "      <td>[Korean, Japanese, Restaurants, Tapas/Small Pl...</td>\n",
       "      <td>4.5</td>\n",
       "      <td>0</td>\n",
       "      <td>2015-05-23</td>\n",
       "      <td>0</td>\n",
       "      <td>Gd26BHrDr-6uh2nyA8q5TQ</td>\n",
       "      <td>5</td>\n",
       "      <td>Yum yum yum this place is so good I love every...</td>\n",
       "      <td>review</td>\n",
       "      <td>0</td>\n",
       "      <td>q4DPOg5VPygvIEqWbvT8FA</td>\n",
       "      <td>1</td>\n",
       "      <td>1</td>\n",
       "    </tr>\n",
       "    <tr>\n",
       "      <th>258161</th>\n",
       "      <td>hihud--QRriCYZw1zZvW4g</td>\n",
       "      <td>Gangnam Asian BBQ Dining</td>\n",
       "      <td>[Korean, Japanese, Restaurants, Tapas/Small Pl...</td>\n",
       "      <td>4.5</td>\n",
       "      <td>1</td>\n",
       "      <td>2015-11-21</td>\n",
       "      <td>1</td>\n",
       "      <td>UtE7cxs402ZeuXJbjVTB9g</td>\n",
       "      <td>5</td>\n",
       "      <td>We came here for happy hour and I was starving...</td>\n",
       "      <td>review</td>\n",
       "      <td>3</td>\n",
       "      <td>h_c7PjnpUnF_-LAegBv7CA</td>\n",
       "      <td>1</td>\n",
       "      <td>1</td>\n",
       "    </tr>\n",
       "    <tr>\n",
       "      <th>258162</th>\n",
       "      <td>hihud--QRriCYZw1zZvW4g</td>\n",
       "      <td>Gangnam Asian BBQ Dining</td>\n",
       "      <td>[Korean, Japanese, Restaurants, Tapas/Small Pl...</td>\n",
       "      <td>4.5</td>\n",
       "      <td>0</td>\n",
       "      <td>2016-04-15</td>\n",
       "      <td>0</td>\n",
       "      <td>5InDLk1xQJmg6IqLcowW4Q</td>\n",
       "      <td>5</td>\n",
       "      <td>Service was great very attentive staff. Food w...</td>\n",
       "      <td>review</td>\n",
       "      <td>0</td>\n",
       "      <td>K_kaV4WlOr2RxGUxNuwdqA</td>\n",
       "      <td>1</td>\n",
       "      <td>1</td>\n",
       "    </tr>\n",
       "    <tr>\n",
       "      <th>258163</th>\n",
       "      <td>hihud--QRriCYZw1zZvW4g</td>\n",
       "      <td>Gangnam Asian BBQ Dining</td>\n",
       "      <td>[Korean, Japanese, Restaurants, Tapas/Small Pl...</td>\n",
       "      <td>4.5</td>\n",
       "      <td>0</td>\n",
       "      <td>2016-11-11</td>\n",
       "      <td>0</td>\n",
       "      <td>G6EpvRrtUbzxUVzyk8qsAw</td>\n",
       "      <td>5</td>\n",
       "      <td>Wow!!!this restaurant is on my top five best, ...</td>\n",
       "      <td>review</td>\n",
       "      <td>0</td>\n",
       "      <td>TIFzeoY3JqWmZjFBbeOYiw</td>\n",
       "      <td>1</td>\n",
       "      <td>1</td>\n",
       "    </tr>\n",
       "    <tr>\n",
       "      <th>258164</th>\n",
       "      <td>hihud--QRriCYZw1zZvW4g</td>\n",
       "      <td>Gangnam Asian BBQ Dining</td>\n",
       "      <td>[Korean, Japanese, Restaurants, Tapas/Small Pl...</td>\n",
       "      <td>4.5</td>\n",
       "      <td>0</td>\n",
       "      <td>2016-03-03</td>\n",
       "      <td>0</td>\n",
       "      <td>FMlrcrKxc9SZHx3J2CbGOQ</td>\n",
       "      <td>5</td>\n",
       "      <td>This place never fail for big party and meat l...</td>\n",
       "      <td>review</td>\n",
       "      <td>0</td>\n",
       "      <td>4ywi4cK7V4CZNtrL1XqfJQ</td>\n",
       "      <td>1</td>\n",
       "      <td>1</td>\n",
       "    </tr>\n",
       "    <tr>\n",
       "      <th>258165</th>\n",
       "      <td>hihud--QRriCYZw1zZvW4g</td>\n",
       "      <td>Gangnam Asian BBQ Dining</td>\n",
       "      <td>[Korean, Japanese, Restaurants, Tapas/Small Pl...</td>\n",
       "      <td>4.5</td>\n",
       "      <td>0</td>\n",
       "      <td>2015-12-13</td>\n",
       "      <td>0</td>\n",
       "      <td>UyEeuM000fMqV6bQSsIQqA</td>\n",
       "      <td>5</td>\n",
       "      <td>The food was delicious, service was speedy, re...</td>\n",
       "      <td>review</td>\n",
       "      <td>0</td>\n",
       "      <td>IJHf-VprrPACRMD-jSHenA</td>\n",
       "      <td>1</td>\n",
       "      <td>1</td>\n",
       "    </tr>\n",
       "    <tr>\n",
       "      <th>258166</th>\n",
       "      <td>hihud--QRriCYZw1zZvW4g</td>\n",
       "      <td>Gangnam Asian BBQ Dining</td>\n",
       "      <td>[Korean, Japanese, Restaurants, Tapas/Small Pl...</td>\n",
       "      <td>4.5</td>\n",
       "      <td>0</td>\n",
       "      <td>2015-08-24</td>\n",
       "      <td>0</td>\n",
       "      <td>aB4i-vIbPCuUg4Sr4jz3DQ</td>\n",
       "      <td>3</td>\n",
       "      <td>This is one of the better korean bbq restauran...</td>\n",
       "      <td>review</td>\n",
       "      <td>0</td>\n",
       "      <td>nJRtRgvelFCcyzKyT3wfrg</td>\n",
       "      <td>0</td>\n",
       "      <td>1</td>\n",
       "    </tr>\n",
       "    <tr>\n",
       "      <th>258167</th>\n",
       "      <td>hihud--QRriCYZw1zZvW4g</td>\n",
       "      <td>Gangnam Asian BBQ Dining</td>\n",
       "      <td>[Korean, Japanese, Restaurants, Tapas/Small Pl...</td>\n",
       "      <td>4.5</td>\n",
       "      <td>0</td>\n",
       "      <td>2016-10-15</td>\n",
       "      <td>0</td>\n",
       "      <td>j_skfznARdMJvzWG1hy38w</td>\n",
       "      <td>4</td>\n",
       "      <td>This was our first meal in Vegas and really, n...</td>\n",
       "      <td>review</td>\n",
       "      <td>1</td>\n",
       "      <td>INPppZR6jwq_oR5u88ObuA</td>\n",
       "      <td>0</td>\n",
       "      <td>1</td>\n",
       "    </tr>\n",
       "    <tr>\n",
       "      <th>258168</th>\n",
       "      <td>hihud--QRriCYZw1zZvW4g</td>\n",
       "      <td>Gangnam Asian BBQ Dining</td>\n",
       "      <td>[Korean, Japanese, Restaurants, Tapas/Small Pl...</td>\n",
       "      <td>4.5</td>\n",
       "      <td>1</td>\n",
       "      <td>2015-08-10</td>\n",
       "      <td>1</td>\n",
       "      <td>xiTaRoedciOmIJxeJvLgqw</td>\n",
       "      <td>4</td>\n",
       "      <td>Friends and I just finished having lunch here....</td>\n",
       "      <td>review</td>\n",
       "      <td>1</td>\n",
       "      <td>hjJULwAKSrz7jscP-e2u5A</td>\n",
       "      <td>0</td>\n",
       "      <td>1</td>\n",
       "    </tr>\n",
       "    <tr>\n",
       "      <th>258169</th>\n",
       "      <td>hihud--QRriCYZw1zZvW4g</td>\n",
       "      <td>Gangnam Asian BBQ Dining</td>\n",
       "      <td>[Korean, Japanese, Restaurants, Tapas/Small Pl...</td>\n",
       "      <td>4.5</td>\n",
       "      <td>0</td>\n",
       "      <td>2016-01-23</td>\n",
       "      <td>0</td>\n",
       "      <td>rehZPAiw-49TdnCVEfvm8Q</td>\n",
       "      <td>4</td>\n",
       "      <td>The quality of food here is very good. I had a...</td>\n",
       "      <td>review</td>\n",
       "      <td>0</td>\n",
       "      <td>9GHen-9oLZJiRXX5rwzzkA</td>\n",
       "      <td>0</td>\n",
       "      <td>1</td>\n",
       "    </tr>\n",
       "    <tr>\n",
       "      <th>258170</th>\n",
       "      <td>hihud--QRriCYZw1zZvW4g</td>\n",
       "      <td>Gangnam Asian BBQ Dining</td>\n",
       "      <td>[Korean, Japanese, Restaurants, Tapas/Small Pl...</td>\n",
       "      <td>4.5</td>\n",
       "      <td>0</td>\n",
       "      <td>2016-02-18</td>\n",
       "      <td>0</td>\n",
       "      <td>qU1LPkooHKiEK0bTFPoWCg</td>\n",
       "      <td>4</td>\n",
       "      <td>We got the combo for 4, it was a lot of variet...</td>\n",
       "      <td>review</td>\n",
       "      <td>0</td>\n",
       "      <td>MOr40pF8QRV0xQ3ROfLPuQ</td>\n",
       "      <td>0</td>\n",
       "      <td>1</td>\n",
       "    </tr>\n",
       "    <tr>\n",
       "      <th>258171</th>\n",
       "      <td>hihud--QRriCYZw1zZvW4g</td>\n",
       "      <td>Gangnam Asian BBQ Dining</td>\n",
       "      <td>[Korean, Japanese, Restaurants, Tapas/Small Pl...</td>\n",
       "      <td>4.5</td>\n",
       "      <td>0</td>\n",
       "      <td>2016-08-19</td>\n",
       "      <td>0</td>\n",
       "      <td>O5QVoQkGNpLSeaB_u7p3Rg</td>\n",
       "      <td>5</td>\n",
       "      <td>I'm never disappointed whenever I dine here. M...</td>\n",
       "      <td>review</td>\n",
       "      <td>0</td>\n",
       "      <td>CXzDMPKfGqZUw-jefNrbCA</td>\n",
       "      <td>1</td>\n",
       "      <td>1</td>\n",
       "    </tr>\n",
       "    <tr>\n",
       "      <th>258172</th>\n",
       "      <td>hihud--QRriCYZw1zZvW4g</td>\n",
       "      <td>Gangnam Asian BBQ Dining</td>\n",
       "      <td>[Korean, Japanese, Restaurants, Tapas/Small Pl...</td>\n",
       "      <td>4.5</td>\n",
       "      <td>0</td>\n",
       "      <td>2016-05-08</td>\n",
       "      <td>0</td>\n",
       "      <td>W2NEgTD5vRLEyQ2ZmZQTYg</td>\n",
       "      <td>5</td>\n",
       "      <td>love it so much. I will come back this restaur...</td>\n",
       "      <td>review</td>\n",
       "      <td>0</td>\n",
       "      <td>1jZq7Fcrex5DU3F2dmRhzw</td>\n",
       "      <td>1</td>\n",
       "      <td>1</td>\n",
       "    </tr>\n",
       "    <tr>\n",
       "      <th>258173</th>\n",
       "      <td>hihud--QRriCYZw1zZvW4g</td>\n",
       "      <td>Gangnam Asian BBQ Dining</td>\n",
       "      <td>[Korean, Japanese, Restaurants, Tapas/Small Pl...</td>\n",
       "      <td>4.5</td>\n",
       "      <td>0</td>\n",
       "      <td>2016-06-18</td>\n",
       "      <td>0</td>\n",
       "      <td>DKqcxgIb2YNdSCWCffPJGg</td>\n",
       "      <td>5</td>\n",
       "      <td>Woooo! After a night of party party party, Gan...</td>\n",
       "      <td>review</td>\n",
       "      <td>0</td>\n",
       "      <td>uxDH9FSuy8JXjIQJsPgz0g</td>\n",
       "      <td>1</td>\n",
       "      <td>1</td>\n",
       "    </tr>\n",
       "    <tr>\n",
       "      <th>258174</th>\n",
       "      <td>hihud--QRriCYZw1zZvW4g</td>\n",
       "      <td>Gangnam Asian BBQ Dining</td>\n",
       "      <td>[Korean, Japanese, Restaurants, Tapas/Small Pl...</td>\n",
       "      <td>4.5</td>\n",
       "      <td>0</td>\n",
       "      <td>2016-05-09</td>\n",
       "      <td>0</td>\n",
       "      <td>x5DKQcWtNlVgHwx8uQLy4A</td>\n",
       "      <td>5</td>\n",
       "      <td>Awesome food, great service! And the Las Vegas...</td>\n",
       "      <td>review</td>\n",
       "      <td>0</td>\n",
       "      <td>vp81E6ALmL5LfWlP5zs9vw</td>\n",
       "      <td>1</td>\n",
       "      <td>1</td>\n",
       "    </tr>\n",
       "    <tr>\n",
       "      <th>258175</th>\n",
       "      <td>hihud--QRriCYZw1zZvW4g</td>\n",
       "      <td>Gangnam Asian BBQ Dining</td>\n",
       "      <td>[Korean, Japanese, Restaurants, Tapas/Small Pl...</td>\n",
       "      <td>4.5</td>\n",
       "      <td>0</td>\n",
       "      <td>2016-09-16</td>\n",
       "      <td>0</td>\n",
       "      <td>xhIDGRRLwRF8_Vy7PWBnLQ</td>\n",
       "      <td>5</td>\n",
       "      <td>This place is as good as it gets for Korean BB...</td>\n",
       "      <td>review</td>\n",
       "      <td>0</td>\n",
       "      <td>LaSNbYWlaRwxuCICO4-yQQ</td>\n",
       "      <td>1</td>\n",
       "      <td>1</td>\n",
       "    </tr>\n",
       "    <tr>\n",
       "      <th>258176</th>\n",
       "      <td>hihud--QRriCYZw1zZvW4g</td>\n",
       "      <td>Gangnam Asian BBQ Dining</td>\n",
       "      <td>[Korean, Japanese, Restaurants, Tapas/Small Pl...</td>\n",
       "      <td>4.5</td>\n",
       "      <td>0</td>\n",
       "      <td>2015-09-27</td>\n",
       "      <td>0</td>\n",
       "      <td>r0BLGPSMnLQI6_pWQEUGww</td>\n",
       "      <td>5</td>\n",
       "      <td>Bulgogi, toro, come hungry and leave happy.\\n\\...</td>\n",
       "      <td>review</td>\n",
       "      <td>0</td>\n",
       "      <td>OqZD6bm6MZcRqQVGmhA0Kw</td>\n",
       "      <td>1</td>\n",
       "      <td>1</td>\n",
       "    </tr>\n",
       "    <tr>\n",
       "      <th>258177</th>\n",
       "      <td>hihud--QRriCYZw1zZvW4g</td>\n",
       "      <td>Gangnam Asian BBQ Dining</td>\n",
       "      <td>[Korean, Japanese, Restaurants, Tapas/Small Pl...</td>\n",
       "      <td>4.5</td>\n",
       "      <td>0</td>\n",
       "      <td>2015-10-08</td>\n",
       "      <td>0</td>\n",
       "      <td>qHzE6DqrxhsulOnGsWqBCA</td>\n",
       "      <td>5</td>\n",
       "      <td>Found this place during a conference. It was d...</td>\n",
       "      <td>review</td>\n",
       "      <td>0</td>\n",
       "      <td>TuXcc7s1SXXRz7iE9FnLhg</td>\n",
       "      <td>1</td>\n",
       "      <td>1</td>\n",
       "    </tr>\n",
       "    <tr>\n",
       "      <th>258178</th>\n",
       "      <td>hihud--QRriCYZw1zZvW4g</td>\n",
       "      <td>Gangnam Asian BBQ Dining</td>\n",
       "      <td>[Korean, Japanese, Restaurants, Tapas/Small Pl...</td>\n",
       "      <td>4.5</td>\n",
       "      <td>0</td>\n",
       "      <td>2015-02-27</td>\n",
       "      <td>0</td>\n",
       "      <td>HTyyxQPpBjCIQNKjQkBJAg</td>\n",
       "      <td>5</td>\n",
       "      <td>Hands down the best korean bbq I've tried in V...</td>\n",
       "      <td>review</td>\n",
       "      <td>0</td>\n",
       "      <td>6M0Ge-1VDL-0AvndlAWofw</td>\n",
       "      <td>1</td>\n",
       "      <td>1</td>\n",
       "    </tr>\n",
       "    <tr>\n",
       "      <th>258179</th>\n",
       "      <td>hihud--QRriCYZw1zZvW4g</td>\n",
       "      <td>Gangnam Asian BBQ Dining</td>\n",
       "      <td>[Korean, Japanese, Restaurants, Tapas/Small Pl...</td>\n",
       "      <td>4.5</td>\n",
       "      <td>0</td>\n",
       "      <td>2015-11-28</td>\n",
       "      <td>0</td>\n",
       "      <td>3dwFdEOlFyudvLDX4JR2aA</td>\n",
       "      <td>5</td>\n",
       "      <td>Awesome meat quality and great appetizers! Wil...</td>\n",
       "      <td>review</td>\n",
       "      <td>1</td>\n",
       "      <td>7aPU0VOfvsVijgELhDdR5g</td>\n",
       "      <td>1</td>\n",
       "      <td>1</td>\n",
       "    </tr>\n",
       "    <tr>\n",
       "      <th>258180</th>\n",
       "      <td>hihud--QRriCYZw1zZvW4g</td>\n",
       "      <td>Gangnam Asian BBQ Dining</td>\n",
       "      <td>[Korean, Japanese, Restaurants, Tapas/Small Pl...</td>\n",
       "      <td>4.5</td>\n",
       "      <td>0</td>\n",
       "      <td>2015-05-26</td>\n",
       "      <td>0</td>\n",
       "      <td>_o8rsSfxC0b2XoktTzOrvw</td>\n",
       "      <td>4</td>\n",
       "      <td>When looking for great Korean BBQ in Vegas, th...</td>\n",
       "      <td>review</td>\n",
       "      <td>0</td>\n",
       "      <td>YyG25v_CEeF1TQ_A6X9VAg</td>\n",
       "      <td>0</td>\n",
       "      <td>1</td>\n",
       "    </tr>\n",
       "    <tr>\n",
       "      <th>258181</th>\n",
       "      <td>hihud--QRriCYZw1zZvW4g</td>\n",
       "      <td>Gangnam Asian BBQ Dining</td>\n",
       "      <td>[Korean, Japanese, Restaurants, Tapas/Small Pl...</td>\n",
       "      <td>4.5</td>\n",
       "      <td>1</td>\n",
       "      <td>2016-07-25</td>\n",
       "      <td>1</td>\n",
       "      <td>UAwN937XgIkvZfWq9oVepQ</td>\n",
       "      <td>2</td>\n",
       "      <td>Just came here for lunch. Mediocre at best com...</td>\n",
       "      <td>review</td>\n",
       "      <td>1</td>\n",
       "      <td>t2nPIKI2iy8VG_cfFD0Vmg</td>\n",
       "      <td>0</td>\n",
       "      <td>1</td>\n",
       "    </tr>\n",
       "    <tr>\n",
       "      <th>258182</th>\n",
       "      <td>hihud--QRriCYZw1zZvW4g</td>\n",
       "      <td>Gangnam Asian BBQ Dining</td>\n",
       "      <td>[Korean, Japanese, Restaurants, Tapas/Small Pl...</td>\n",
       "      <td>4.5</td>\n",
       "      <td>0</td>\n",
       "      <td>2015-09-06</td>\n",
       "      <td>0</td>\n",
       "      <td>EydT0fIVrRNgYp49LN7fug</td>\n",
       "      <td>5</td>\n",
       "      <td>The ambiance of the restaurant was really nice...</td>\n",
       "      <td>review</td>\n",
       "      <td>0</td>\n",
       "      <td>jxOXXcZOYyoA0CgTl-WdyQ</td>\n",
       "      <td>1</td>\n",
       "      <td>1</td>\n",
       "    </tr>\n",
       "    <tr>\n",
       "      <th>258183</th>\n",
       "      <td>hihud--QRriCYZw1zZvW4g</td>\n",
       "      <td>Gangnam Asian BBQ Dining</td>\n",
       "      <td>[Korean, Japanese, Restaurants, Tapas/Small Pl...</td>\n",
       "      <td>4.5</td>\n",
       "      <td>1</td>\n",
       "      <td>2016-05-22</td>\n",
       "      <td>0</td>\n",
       "      <td>dR-qiH1rjH8rJEzQXcizbA</td>\n",
       "      <td>5</td>\n",
       "      <td>Great atmosphere for groups or even just grab ...</td>\n",
       "      <td>review</td>\n",
       "      <td>0</td>\n",
       "      <td>1c7l8gngD75Idj7DwE-NBA</td>\n",
       "      <td>1</td>\n",
       "      <td>1</td>\n",
       "    </tr>\n",
       "    <tr>\n",
       "      <th>258184</th>\n",
       "      <td>hihud--QRriCYZw1zZvW4g</td>\n",
       "      <td>Gangnam Asian BBQ Dining</td>\n",
       "      <td>[Korean, Japanese, Restaurants, Tapas/Small Pl...</td>\n",
       "      <td>4.5</td>\n",
       "      <td>0</td>\n",
       "      <td>2016-03-27</td>\n",
       "      <td>0</td>\n",
       "      <td>OHoaMucwcemyi6fwNTioMA</td>\n",
       "      <td>5</td>\n",
       "      <td>Awesomeness.  Prices were decent. Food was fil...</td>\n",
       "      <td>review</td>\n",
       "      <td>0</td>\n",
       "      <td>zBL8odjByr7ZKvXAR0yNdw</td>\n",
       "      <td>1</td>\n",
       "      <td>1</td>\n",
       "    </tr>\n",
       "    <tr>\n",
       "      <th>258185</th>\n",
       "      <td>hihud--QRriCYZw1zZvW4g</td>\n",
       "      <td>Gangnam Asian BBQ Dining</td>\n",
       "      <td>[Korean, Japanese, Restaurants, Tapas/Small Pl...</td>\n",
       "      <td>4.5</td>\n",
       "      <td>0</td>\n",
       "      <td>2015-12-31</td>\n",
       "      <td>0</td>\n",
       "      <td>OXUQHe9iCSSLdXGoc-V2VQ</td>\n",
       "      <td>5</td>\n",
       "      <td>Great price for the amount of food they serve....</td>\n",
       "      <td>review</td>\n",
       "      <td>0</td>\n",
       "      <td>ckBfWTxndkliIGHsA8W7GA</td>\n",
       "      <td>1</td>\n",
       "      <td>1</td>\n",
       "    </tr>\n",
       "    <tr>\n",
       "      <th>258186</th>\n",
       "      <td>hihud--QRriCYZw1zZvW4g</td>\n",
       "      <td>Gangnam Asian BBQ Dining</td>\n",
       "      <td>[Korean, Japanese, Restaurants, Tapas/Small Pl...</td>\n",
       "      <td>4.5</td>\n",
       "      <td>0</td>\n",
       "      <td>2015-11-07</td>\n",
       "      <td>0</td>\n",
       "      <td>URZUxGYf1VZam1mPitGZmg</td>\n",
       "      <td>5</td>\n",
       "      <td>This place gets better and better. Happy hour ...</td>\n",
       "      <td>review</td>\n",
       "      <td>0</td>\n",
       "      <td>hPoyOGAnbjJ6IKbJQ1UABQ</td>\n",
       "      <td>1</td>\n",
       "      <td>1</td>\n",
       "    </tr>\n",
       "    <tr>\n",
       "      <th>258187</th>\n",
       "      <td>hihud--QRriCYZw1zZvW4g</td>\n",
       "      <td>Gangnam Asian BBQ Dining</td>\n",
       "      <td>[Korean, Japanese, Restaurants, Tapas/Small Pl...</td>\n",
       "      <td>4.5</td>\n",
       "      <td>1</td>\n",
       "      <td>2016-03-15</td>\n",
       "      <td>0</td>\n",
       "      <td>ST_5hjgzYrDaipPST-UqyA</td>\n",
       "      <td>3</td>\n",
       "      <td>I went in here for some BBQ, but rather for th...</td>\n",
       "      <td>review</td>\n",
       "      <td>1</td>\n",
       "      <td>B1829_hxXSEpDPEDJtYeIw</td>\n",
       "      <td>0</td>\n",
       "      <td>1</td>\n",
       "    </tr>\n",
       "    <tr>\n",
       "      <th>...</th>\n",
       "      <td>...</td>\n",
       "      <td>...</td>\n",
       "      <td>...</td>\n",
       "      <td>...</td>\n",
       "      <td>...</td>\n",
       "      <td>...</td>\n",
       "      <td>...</td>\n",
       "      <td>...</td>\n",
       "      <td>...</td>\n",
       "      <td>...</td>\n",
       "      <td>...</td>\n",
       "      <td>...</td>\n",
       "      <td>...</td>\n",
       "      <td>...</td>\n",
       "      <td>...</td>\n",
       "    </tr>\n",
       "    <tr>\n",
       "      <th>262143</th>\n",
       "      <td>hihud--QRriCYZw1zZvW4g</td>\n",
       "      <td>Gangnam Asian BBQ Dining</td>\n",
       "      <td>[Korean, Japanese, Restaurants, Tapas/Small Pl...</td>\n",
       "      <td>4.5</td>\n",
       "      <td>0</td>\n",
       "      <td>2016-08-05</td>\n",
       "      <td>0</td>\n",
       "      <td>pb4hzOu-vc0IeRLwBEaJIw</td>\n",
       "      <td>5</td>\n",
       "      <td>My wife and I were trying to get off strip. Co...</td>\n",
       "      <td>review</td>\n",
       "      <td>0</td>\n",
       "      <td>fz_waNe_BXqb4KiyeXXZIQ</td>\n",
       "      <td>1</td>\n",
       "      <td>1</td>\n",
       "    </tr>\n",
       "    <tr>\n",
       "      <th>262144</th>\n",
       "      <td>hihud--QRriCYZw1zZvW4g</td>\n",
       "      <td>Gangnam Asian BBQ Dining</td>\n",
       "      <td>[Korean, Japanese, Restaurants, Tapas/Small Pl...</td>\n",
       "      <td>4.5</td>\n",
       "      <td>0</td>\n",
       "      <td>2016-01-08</td>\n",
       "      <td>0</td>\n",
       "      <td>OmXlw2eQGeeeoSJ34nB8vg</td>\n",
       "      <td>5</td>\n",
       "      <td>Had a fantastic dinner here tonight.  We order...</td>\n",
       "      <td>review</td>\n",
       "      <td>0</td>\n",
       "      <td>688IMmbijViyZZ8ypPLGxA</td>\n",
       "      <td>1</td>\n",
       "      <td>1</td>\n",
       "    </tr>\n",
       "    <tr>\n",
       "      <th>262145</th>\n",
       "      <td>hihud--QRriCYZw1zZvW4g</td>\n",
       "      <td>Gangnam Asian BBQ Dining</td>\n",
       "      <td>[Korean, Japanese, Restaurants, Tapas/Small Pl...</td>\n",
       "      <td>4.5</td>\n",
       "      <td>0</td>\n",
       "      <td>2016-04-09</td>\n",
       "      <td>0</td>\n",
       "      <td>1Mpz9Ncb0r2YgK6jq9667A</td>\n",
       "      <td>5</td>\n",
       "      <td>Best Korean restraunt next to campus! Great qu...</td>\n",
       "      <td>review</td>\n",
       "      <td>0</td>\n",
       "      <td>pI6gsYhQaTBZV6NERoFvtQ</td>\n",
       "      <td>1</td>\n",
       "      <td>1</td>\n",
       "    </tr>\n",
       "    <tr>\n",
       "      <th>262146</th>\n",
       "      <td>hihud--QRriCYZw1zZvW4g</td>\n",
       "      <td>Gangnam Asian BBQ Dining</td>\n",
       "      <td>[Korean, Japanese, Restaurants, Tapas/Small Pl...</td>\n",
       "      <td>4.5</td>\n",
       "      <td>0</td>\n",
       "      <td>2016-02-18</td>\n",
       "      <td>0</td>\n",
       "      <td>ne0zv-zzi-fFNk4fKlhD-Q</td>\n",
       "      <td>5</td>\n",
       "      <td>As a first timer to Korean bbq I was thoroughl...</td>\n",
       "      <td>review</td>\n",
       "      <td>0</td>\n",
       "      <td>vTAkgKGVfJSTsnTfRVR7dA</td>\n",
       "      <td>1</td>\n",
       "      <td>1</td>\n",
       "    </tr>\n",
       "    <tr>\n",
       "      <th>262147</th>\n",
       "      <td>hihud--QRriCYZw1zZvW4g</td>\n",
       "      <td>Gangnam Asian BBQ Dining</td>\n",
       "      <td>[Korean, Japanese, Restaurants, Tapas/Small Pl...</td>\n",
       "      <td>4.5</td>\n",
       "      <td>0</td>\n",
       "      <td>2015-11-21</td>\n",
       "      <td>0</td>\n",
       "      <td>D21bOj0A2pDmdmQZTEWfaw</td>\n",
       "      <td>5</td>\n",
       "      <td>Great and attentive staff. Wide range of varie...</td>\n",
       "      <td>review</td>\n",
       "      <td>0</td>\n",
       "      <td>UUcr0u5Y5Vm2CLMI5YUXGw</td>\n",
       "      <td>1</td>\n",
       "      <td>1</td>\n",
       "    </tr>\n",
       "    <tr>\n",
       "      <th>262148</th>\n",
       "      <td>hihud--QRriCYZw1zZvW4g</td>\n",
       "      <td>Gangnam Asian BBQ Dining</td>\n",
       "      <td>[Korean, Japanese, Restaurants, Tapas/Small Pl...</td>\n",
       "      <td>4.5</td>\n",
       "      <td>0</td>\n",
       "      <td>2015-12-30</td>\n",
       "      <td>0</td>\n",
       "      <td>L8sW2oHeTAA-JDILg75AnQ</td>\n",
       "      <td>5</td>\n",
       "      <td>Great food, friendly service, great happy hour...</td>\n",
       "      <td>review</td>\n",
       "      <td>0</td>\n",
       "      <td>AUWrpboMltugoxnAOD9xEw</td>\n",
       "      <td>1</td>\n",
       "      <td>1</td>\n",
       "    </tr>\n",
       "    <tr>\n",
       "      <th>262149</th>\n",
       "      <td>hihud--QRriCYZw1zZvW4g</td>\n",
       "      <td>Gangnam Asian BBQ Dining</td>\n",
       "      <td>[Korean, Japanese, Restaurants, Tapas/Small Pl...</td>\n",
       "      <td>4.5</td>\n",
       "      <td>0</td>\n",
       "      <td>2015-12-10</td>\n",
       "      <td>0</td>\n",
       "      <td>LXVDEEBLxJSIIhf61A-SBg</td>\n",
       "      <td>5</td>\n",
       "      <td>Great food!! Had the Gangnam set, said it was ...</td>\n",
       "      <td>review</td>\n",
       "      <td>0</td>\n",
       "      <td>voYIq2C9eAAeoQZaSyYQ8Q</td>\n",
       "      <td>1</td>\n",
       "      <td>1</td>\n",
       "    </tr>\n",
       "    <tr>\n",
       "      <th>262150</th>\n",
       "      <td>hihud--QRriCYZw1zZvW4g</td>\n",
       "      <td>Gangnam Asian BBQ Dining</td>\n",
       "      <td>[Korean, Japanese, Restaurants, Tapas/Small Pl...</td>\n",
       "      <td>4.5</td>\n",
       "      <td>0</td>\n",
       "      <td>2016-03-14</td>\n",
       "      <td>0</td>\n",
       "      <td>rUb8y_tpgNamPowpOdSnSw</td>\n",
       "      <td>5</td>\n",
       "      <td>LOVE THEM. :) good service.\\nAlways crowded th...</td>\n",
       "      <td>review</td>\n",
       "      <td>1</td>\n",
       "      <td>o565HqGiaWOjDchRST05TQ</td>\n",
       "      <td>1</td>\n",
       "      <td>1</td>\n",
       "    </tr>\n",
       "    <tr>\n",
       "      <th>262151</th>\n",
       "      <td>hihud--QRriCYZw1zZvW4g</td>\n",
       "      <td>Gangnam Asian BBQ Dining</td>\n",
       "      <td>[Korean, Japanese, Restaurants, Tapas/Small Pl...</td>\n",
       "      <td>4.5</td>\n",
       "      <td>0</td>\n",
       "      <td>2015-08-22</td>\n",
       "      <td>0</td>\n",
       "      <td>Sf_7iuh4sB4mrg-9ZwtGsA</td>\n",
       "      <td>5</td>\n",
       "      <td>Good prices and great side dishes.  Nice atmos...</td>\n",
       "      <td>review</td>\n",
       "      <td>1</td>\n",
       "      <td>3Eow-5X1d6BMRi4as1Xy2Q</td>\n",
       "      <td>1</td>\n",
       "      <td>1</td>\n",
       "    </tr>\n",
       "    <tr>\n",
       "      <th>262152</th>\n",
       "      <td>hihud--QRriCYZw1zZvW4g</td>\n",
       "      <td>Gangnam Asian BBQ Dining</td>\n",
       "      <td>[Korean, Japanese, Restaurants, Tapas/Small Pl...</td>\n",
       "      <td>4.5</td>\n",
       "      <td>0</td>\n",
       "      <td>2015-08-20</td>\n",
       "      <td>0</td>\n",
       "      <td>LTSEQ-MA8nj3hQ_VX-ZqaA</td>\n",
       "      <td>4</td>\n",
       "      <td>Great service, well seasoned food, decent pric...</td>\n",
       "      <td>review</td>\n",
       "      <td>0</td>\n",
       "      <td>F4DjrMmTFuLWCQzpOk7R-Q</td>\n",
       "      <td>0</td>\n",
       "      <td>1</td>\n",
       "    </tr>\n",
       "    <tr>\n",
       "      <th>262153</th>\n",
       "      <td>hihud--QRriCYZw1zZvW4g</td>\n",
       "      <td>Gangnam Asian BBQ Dining</td>\n",
       "      <td>[Korean, Japanese, Restaurants, Tapas/Small Pl...</td>\n",
       "      <td>4.5</td>\n",
       "      <td>0</td>\n",
       "      <td>2015-11-13</td>\n",
       "      <td>0</td>\n",
       "      <td>yDcsv65t9S4yW2ShE8wL5Q</td>\n",
       "      <td>5</td>\n",
       "      <td>Seriously, one of the best Asian BBQ houses I'...</td>\n",
       "      <td>review</td>\n",
       "      <td>0</td>\n",
       "      <td>ol4-TssALCIADCXN-WjeXQ</td>\n",
       "      <td>1</td>\n",
       "      <td>1</td>\n",
       "    </tr>\n",
       "    <tr>\n",
       "      <th>262154</th>\n",
       "      <td>hihud--QRriCYZw1zZvW4g</td>\n",
       "      <td>Gangnam Asian BBQ Dining</td>\n",
       "      <td>[Korean, Japanese, Restaurants, Tapas/Small Pl...</td>\n",
       "      <td>4.5</td>\n",
       "      <td>0</td>\n",
       "      <td>2016-06-03</td>\n",
       "      <td>0</td>\n",
       "      <td>6slmBJ27RKo13HEPd4X-kQ</td>\n",
       "      <td>5</td>\n",
       "      <td>Loved this place! My aunt and uncle recommende...</td>\n",
       "      <td>review</td>\n",
       "      <td>0</td>\n",
       "      <td>pn6_W53UraZODIfRy5HcGA</td>\n",
       "      <td>1</td>\n",
       "      <td>1</td>\n",
       "    </tr>\n",
       "    <tr>\n",
       "      <th>262155</th>\n",
       "      <td>hihud--QRriCYZw1zZvW4g</td>\n",
       "      <td>Gangnam Asian BBQ Dining</td>\n",
       "      <td>[Korean, Japanese, Restaurants, Tapas/Small Pl...</td>\n",
       "      <td>4.5</td>\n",
       "      <td>0</td>\n",
       "      <td>2016-02-28</td>\n",
       "      <td>0</td>\n",
       "      <td>QzZvtaQqbDDOLt3TiOgmPw</td>\n",
       "      <td>4</td>\n",
       "      <td>Omg the beef Toro is to die for! And you get a...</td>\n",
       "      <td>review</td>\n",
       "      <td>0</td>\n",
       "      <td>Mi6VnlIFtA6nKqM5UzJAmA</td>\n",
       "      <td>0</td>\n",
       "      <td>1</td>\n",
       "    </tr>\n",
       "    <tr>\n",
       "      <th>262156</th>\n",
       "      <td>hihud--QRriCYZw1zZvW4g</td>\n",
       "      <td>Gangnam Asian BBQ Dining</td>\n",
       "      <td>[Korean, Japanese, Restaurants, Tapas/Small Pl...</td>\n",
       "      <td>4.5</td>\n",
       "      <td>0</td>\n",
       "      <td>2016-05-12</td>\n",
       "      <td>0</td>\n",
       "      <td>lIGw473mpjZzQm0hIOXH1Q</td>\n",
       "      <td>5</td>\n",
       "      <td>If you love Korean food or even if you've neve...</td>\n",
       "      <td>review</td>\n",
       "      <td>0</td>\n",
       "      <td>mwkbA_SdcBayobZui9fm-g</td>\n",
       "      <td>1</td>\n",
       "      <td>1</td>\n",
       "    </tr>\n",
       "    <tr>\n",
       "      <th>262157</th>\n",
       "      <td>hihud--QRriCYZw1zZvW4g</td>\n",
       "      <td>Gangnam Asian BBQ Dining</td>\n",
       "      <td>[Korean, Japanese, Restaurants, Tapas/Small Pl...</td>\n",
       "      <td>4.5</td>\n",
       "      <td>0</td>\n",
       "      <td>2016-07-09</td>\n",
       "      <td>0</td>\n",
       "      <td>neb3uWOt9h8s7nKjKJzMkA</td>\n",
       "      <td>5</td>\n",
       "      <td>Best Korean BBQ in Vegas. No matter you are in...</td>\n",
       "      <td>review</td>\n",
       "      <td>0</td>\n",
       "      <td>rdOWC9wBLLuOooHxgdUz9g</td>\n",
       "      <td>1</td>\n",
       "      <td>1</td>\n",
       "    </tr>\n",
       "    <tr>\n",
       "      <th>262158</th>\n",
       "      <td>hihud--QRriCYZw1zZvW4g</td>\n",
       "      <td>Gangnam Asian BBQ Dining</td>\n",
       "      <td>[Korean, Japanese, Restaurants, Tapas/Small Pl...</td>\n",
       "      <td>4.5</td>\n",
       "      <td>0</td>\n",
       "      <td>2015-06-27</td>\n",
       "      <td>0</td>\n",
       "      <td>zYzaYMjGrY-UwM5X1lByDg</td>\n",
       "      <td>5</td>\n",
       "      <td>Great service! Lots of good food ! With very r...</td>\n",
       "      <td>review</td>\n",
       "      <td>0</td>\n",
       "      <td>We5SCvqe9NMPmhTYVjW-7w</td>\n",
       "      <td>1</td>\n",
       "      <td>1</td>\n",
       "    </tr>\n",
       "    <tr>\n",
       "      <th>262159</th>\n",
       "      <td>hihud--QRriCYZw1zZvW4g</td>\n",
       "      <td>Gangnam Asian BBQ Dining</td>\n",
       "      <td>[Korean, Japanese, Restaurants, Tapas/Small Pl...</td>\n",
       "      <td>4.5</td>\n",
       "      <td>0</td>\n",
       "      <td>2016-09-08</td>\n",
       "      <td>0</td>\n",
       "      <td>JTqGLs4EN8_ojG3t-yGrBA</td>\n",
       "      <td>5</td>\n",
       "      <td>Great food! Really cool experience! So much fo...</td>\n",
       "      <td>review</td>\n",
       "      <td>0</td>\n",
       "      <td>5lmeirQjWgUYSqCboC15Mw</td>\n",
       "      <td>1</td>\n",
       "      <td>1</td>\n",
       "    </tr>\n",
       "    <tr>\n",
       "      <th>262160</th>\n",
       "      <td>hihud--QRriCYZw1zZvW4g</td>\n",
       "      <td>Gangnam Asian BBQ Dining</td>\n",
       "      <td>[Korean, Japanese, Restaurants, Tapas/Small Pl...</td>\n",
       "      <td>4.5</td>\n",
       "      <td>0</td>\n",
       "      <td>2016-08-10</td>\n",
       "      <td>0</td>\n",
       "      <td>CcPNuxCz_vyM42v5haHG1w</td>\n",
       "      <td>5</td>\n",
       "      <td>I'm a big fan of KBBQ places and this one dese...</td>\n",
       "      <td>review</td>\n",
       "      <td>0</td>\n",
       "      <td>DrwhNI-9ivWwDYXkFo0CyQ</td>\n",
       "      <td>1</td>\n",
       "      <td>1</td>\n",
       "    </tr>\n",
       "    <tr>\n",
       "      <th>262161</th>\n",
       "      <td>hihud--QRriCYZw1zZvW4g</td>\n",
       "      <td>Gangnam Asian BBQ Dining</td>\n",
       "      <td>[Korean, Japanese, Restaurants, Tapas/Small Pl...</td>\n",
       "      <td>4.5</td>\n",
       "      <td>0</td>\n",
       "      <td>2016-03-17</td>\n",
       "      <td>0</td>\n",
       "      <td>NRYTCnwq-qJ1VUPSVOZpOQ</td>\n",
       "      <td>5</td>\n",
       "      <td>Def a must try, absolutely f'n DELICIOUS. Had ...</td>\n",
       "      <td>review</td>\n",
       "      <td>0</td>\n",
       "      <td>dsws94_uKFylGUtxDGfpRw</td>\n",
       "      <td>1</td>\n",
       "      <td>1</td>\n",
       "    </tr>\n",
       "    <tr>\n",
       "      <th>262162</th>\n",
       "      <td>hihud--QRriCYZw1zZvW4g</td>\n",
       "      <td>Gangnam Asian BBQ Dining</td>\n",
       "      <td>[Korean, Japanese, Restaurants, Tapas/Small Pl...</td>\n",
       "      <td>4.5</td>\n",
       "      <td>0</td>\n",
       "      <td>2016-01-27</td>\n",
       "      <td>0</td>\n",
       "      <td>T7UfB9mise28Y85B2GQrbA</td>\n",
       "      <td>5</td>\n",
       "      <td>I read other's review before choose restaurant...</td>\n",
       "      <td>review</td>\n",
       "      <td>0</td>\n",
       "      <td>jC-kGJEfLWQlMNVYR7kALQ</td>\n",
       "      <td>1</td>\n",
       "      <td>1</td>\n",
       "    </tr>\n",
       "    <tr>\n",
       "      <th>262163</th>\n",
       "      <td>hihud--QRriCYZw1zZvW4g</td>\n",
       "      <td>Gangnam Asian BBQ Dining</td>\n",
       "      <td>[Korean, Japanese, Restaurants, Tapas/Small Pl...</td>\n",
       "      <td>4.5</td>\n",
       "      <td>0</td>\n",
       "      <td>2016-04-04</td>\n",
       "      <td>0</td>\n",
       "      <td>xFIw5OxQc-__OhbE9MUFhA</td>\n",
       "      <td>5</td>\n",
       "      <td>This was the best korean bbq I've had in las v...</td>\n",
       "      <td>review</td>\n",
       "      <td>0</td>\n",
       "      <td>mjcWalVsLGil9ZivgXVAQA</td>\n",
       "      <td>1</td>\n",
       "      <td>1</td>\n",
       "    </tr>\n",
       "    <tr>\n",
       "      <th>262164</th>\n",
       "      <td>hihud--QRriCYZw1zZvW4g</td>\n",
       "      <td>Gangnam Asian BBQ Dining</td>\n",
       "      <td>[Korean, Japanese, Restaurants, Tapas/Small Pl...</td>\n",
       "      <td>4.5</td>\n",
       "      <td>0</td>\n",
       "      <td>2016-05-27</td>\n",
       "      <td>0</td>\n",
       "      <td>5QZMkTnDxr-ZDaroX609kg</td>\n",
       "      <td>4</td>\n",
       "      <td>Visiting from SF Bay Area and the food was del...</td>\n",
       "      <td>review</td>\n",
       "      <td>0</td>\n",
       "      <td>b43g7CwewrY1sPVxLVlBpg</td>\n",
       "      <td>0</td>\n",
       "      <td>1</td>\n",
       "    </tr>\n",
       "    <tr>\n",
       "      <th>262165</th>\n",
       "      <td>hihud--QRriCYZw1zZvW4g</td>\n",
       "      <td>Gangnam Asian BBQ Dining</td>\n",
       "      <td>[Korean, Japanese, Restaurants, Tapas/Small Pl...</td>\n",
       "      <td>4.5</td>\n",
       "      <td>0</td>\n",
       "      <td>2015-12-28</td>\n",
       "      <td>0</td>\n",
       "      <td>5TA2R9eWqfchRveHkUWiwQ</td>\n",
       "      <td>5</td>\n",
       "      <td>There's a lot of peoole on Sunday afternoon bu...</td>\n",
       "      <td>review</td>\n",
       "      <td>0</td>\n",
       "      <td>tZ6iNNU0C8cNzC2Hs_8vhw</td>\n",
       "      <td>1</td>\n",
       "      <td>1</td>\n",
       "    </tr>\n",
       "    <tr>\n",
       "      <th>262166</th>\n",
       "      <td>hihud--QRriCYZw1zZvW4g</td>\n",
       "      <td>Gangnam Asian BBQ Dining</td>\n",
       "      <td>[Korean, Japanese, Restaurants, Tapas/Small Pl...</td>\n",
       "      <td>4.5</td>\n",
       "      <td>0</td>\n",
       "      <td>2015-11-25</td>\n",
       "      <td>0</td>\n",
       "      <td>7vWE4tObocTlrKwwimIhWA</td>\n",
       "      <td>4</td>\n",
       "      <td>Very tasty food.\\nDon't like that they charge ...</td>\n",
       "      <td>review</td>\n",
       "      <td>1</td>\n",
       "      <td>CVSq30-UD8Leg16_egoqdA</td>\n",
       "      <td>0</td>\n",
       "      <td>1</td>\n",
       "    </tr>\n",
       "    <tr>\n",
       "      <th>262167</th>\n",
       "      <td>hihud--QRriCYZw1zZvW4g</td>\n",
       "      <td>Gangnam Asian BBQ Dining</td>\n",
       "      <td>[Korean, Japanese, Restaurants, Tapas/Small Pl...</td>\n",
       "      <td>4.5</td>\n",
       "      <td>0</td>\n",
       "      <td>2015-05-05</td>\n",
       "      <td>0</td>\n",
       "      <td>zJMOGm-_rY1Y8kl3FRMzUw</td>\n",
       "      <td>4</td>\n",
       "      <td>Theres a nice variety of korean dishes!The ath...</td>\n",
       "      <td>review</td>\n",
       "      <td>0</td>\n",
       "      <td>QKlw_kTWeeQC_oC1PGh4pA</td>\n",
       "      <td>0</td>\n",
       "      <td>1</td>\n",
       "    </tr>\n",
       "    <tr>\n",
       "      <th>262168</th>\n",
       "      <td>hihud--QRriCYZw1zZvW4g</td>\n",
       "      <td>Gangnam Asian BBQ Dining</td>\n",
       "      <td>[Korean, Japanese, Restaurants, Tapas/Small Pl...</td>\n",
       "      <td>4.5</td>\n",
       "      <td>0</td>\n",
       "      <td>2016-07-10</td>\n",
       "      <td>0</td>\n",
       "      <td>yhoubRWLbwnbvZsi6Qc0ww</td>\n",
       "      <td>5</td>\n",
       "      <td>Great service &amp; great food. Be sure to come fo...</td>\n",
       "      <td>review</td>\n",
       "      <td>0</td>\n",
       "      <td>iYr0M5aQ3hfSyJHtn3AYtQ</td>\n",
       "      <td>1</td>\n",
       "      <td>1</td>\n",
       "    </tr>\n",
       "    <tr>\n",
       "      <th>262169</th>\n",
       "      <td>hihud--QRriCYZw1zZvW4g</td>\n",
       "      <td>Gangnam Asian BBQ Dining</td>\n",
       "      <td>[Korean, Japanese, Restaurants, Tapas/Small Pl...</td>\n",
       "      <td>4.5</td>\n",
       "      <td>0</td>\n",
       "      <td>2016-05-16</td>\n",
       "      <td>0</td>\n",
       "      <td>pRlWTYNluidpshlsDNP3Sw</td>\n",
       "      <td>5</td>\n",
       "      <td>We ordered the gangnam combo and the meat was ...</td>\n",
       "      <td>review</td>\n",
       "      <td>0</td>\n",
       "      <td>WVdPjpqPrVGkQl4KkAwxeQ</td>\n",
       "      <td>1</td>\n",
       "      <td>1</td>\n",
       "    </tr>\n",
       "    <tr>\n",
       "      <th>262170</th>\n",
       "      <td>hihud--QRriCYZw1zZvW4g</td>\n",
       "      <td>Gangnam Asian BBQ Dining</td>\n",
       "      <td>[Korean, Japanese, Restaurants, Tapas/Small Pl...</td>\n",
       "      <td>4.5</td>\n",
       "      <td>0</td>\n",
       "      <td>2016-05-30</td>\n",
       "      <td>0</td>\n",
       "      <td>MfEjhn9DXbknrSMlDTAVOg</td>\n",
       "      <td>3</td>\n",
       "      <td>Slow service. This is around 2pm non rush hour...</td>\n",
       "      <td>review</td>\n",
       "      <td>0</td>\n",
       "      <td>hnt5d2JrKleBW4IfNCnUfQ</td>\n",
       "      <td>0</td>\n",
       "      <td>1</td>\n",
       "    </tr>\n",
       "    <tr>\n",
       "      <th>262171</th>\n",
       "      <td>hihud--QRriCYZw1zZvW4g</td>\n",
       "      <td>Gangnam Asian BBQ Dining</td>\n",
       "      <td>[Korean, Japanese, Restaurants, Tapas/Small Pl...</td>\n",
       "      <td>4.5</td>\n",
       "      <td>0</td>\n",
       "      <td>2016-02-17</td>\n",
       "      <td>0</td>\n",
       "      <td>-5vz03TLDbaSYqrhtN5Wkg</td>\n",
       "      <td>5</td>\n",
       "      <td>Great food, comfortable atmosphere and very fr...</td>\n",
       "      <td>review</td>\n",
       "      <td>0</td>\n",
       "      <td>0WiJKjTqAyvJHawhxm1cag</td>\n",
       "      <td>1</td>\n",
       "      <td>1</td>\n",
       "    </tr>\n",
       "    <tr>\n",
       "      <th>262172</th>\n",
       "      <td>hihud--QRriCYZw1zZvW4g</td>\n",
       "      <td>Gangnam Asian BBQ Dining</td>\n",
       "      <td>[Korean, Japanese, Restaurants, Tapas/Small Pl...</td>\n",
       "      <td>4.5</td>\n",
       "      <td>0</td>\n",
       "      <td>2016-06-21</td>\n",
       "      <td>0</td>\n",
       "      <td>4EKoPr1g5vxsA4exontBTA</td>\n",
       "      <td>5</td>\n",
       "      <td>The food is great, and the combo comes with a ...</td>\n",
       "      <td>review</td>\n",
       "      <td>0</td>\n",
       "      <td>hBxdJTnbX2Yl6ckeM-iEVA</td>\n",
       "      <td>1</td>\n",
       "      <td>1</td>\n",
       "    </tr>\n",
       "  </tbody>\n",
       "</table>\n",
       "<p>4015 rows × 15 columns</p>\n",
       "</div>"
      ],
      "text/plain": [
       "                   business_id                      name  \\\n",
       "258158  hihud--QRriCYZw1zZvW4g  Gangnam Asian BBQ Dining   \n",
       "258159  hihud--QRriCYZw1zZvW4g  Gangnam Asian BBQ Dining   \n",
       "258160  hihud--QRriCYZw1zZvW4g  Gangnam Asian BBQ Dining   \n",
       "258161  hihud--QRriCYZw1zZvW4g  Gangnam Asian BBQ Dining   \n",
       "258162  hihud--QRriCYZw1zZvW4g  Gangnam Asian BBQ Dining   \n",
       "258163  hihud--QRriCYZw1zZvW4g  Gangnam Asian BBQ Dining   \n",
       "258164  hihud--QRriCYZw1zZvW4g  Gangnam Asian BBQ Dining   \n",
       "258165  hihud--QRriCYZw1zZvW4g  Gangnam Asian BBQ Dining   \n",
       "258166  hihud--QRriCYZw1zZvW4g  Gangnam Asian BBQ Dining   \n",
       "258167  hihud--QRriCYZw1zZvW4g  Gangnam Asian BBQ Dining   \n",
       "258168  hihud--QRriCYZw1zZvW4g  Gangnam Asian BBQ Dining   \n",
       "258169  hihud--QRriCYZw1zZvW4g  Gangnam Asian BBQ Dining   \n",
       "258170  hihud--QRriCYZw1zZvW4g  Gangnam Asian BBQ Dining   \n",
       "258171  hihud--QRriCYZw1zZvW4g  Gangnam Asian BBQ Dining   \n",
       "258172  hihud--QRriCYZw1zZvW4g  Gangnam Asian BBQ Dining   \n",
       "258173  hihud--QRriCYZw1zZvW4g  Gangnam Asian BBQ Dining   \n",
       "258174  hihud--QRriCYZw1zZvW4g  Gangnam Asian BBQ Dining   \n",
       "258175  hihud--QRriCYZw1zZvW4g  Gangnam Asian BBQ Dining   \n",
       "258176  hihud--QRriCYZw1zZvW4g  Gangnam Asian BBQ Dining   \n",
       "258177  hihud--QRriCYZw1zZvW4g  Gangnam Asian BBQ Dining   \n",
       "258178  hihud--QRriCYZw1zZvW4g  Gangnam Asian BBQ Dining   \n",
       "258179  hihud--QRriCYZw1zZvW4g  Gangnam Asian BBQ Dining   \n",
       "258180  hihud--QRriCYZw1zZvW4g  Gangnam Asian BBQ Dining   \n",
       "258181  hihud--QRriCYZw1zZvW4g  Gangnam Asian BBQ Dining   \n",
       "258182  hihud--QRriCYZw1zZvW4g  Gangnam Asian BBQ Dining   \n",
       "258183  hihud--QRriCYZw1zZvW4g  Gangnam Asian BBQ Dining   \n",
       "258184  hihud--QRriCYZw1zZvW4g  Gangnam Asian BBQ Dining   \n",
       "258185  hihud--QRriCYZw1zZvW4g  Gangnam Asian BBQ Dining   \n",
       "258186  hihud--QRriCYZw1zZvW4g  Gangnam Asian BBQ Dining   \n",
       "258187  hihud--QRriCYZw1zZvW4g  Gangnam Asian BBQ Dining   \n",
       "...                        ...                       ...   \n",
       "262143  hihud--QRriCYZw1zZvW4g  Gangnam Asian BBQ Dining   \n",
       "262144  hihud--QRriCYZw1zZvW4g  Gangnam Asian BBQ Dining   \n",
       "262145  hihud--QRriCYZw1zZvW4g  Gangnam Asian BBQ Dining   \n",
       "262146  hihud--QRriCYZw1zZvW4g  Gangnam Asian BBQ Dining   \n",
       "262147  hihud--QRriCYZw1zZvW4g  Gangnam Asian BBQ Dining   \n",
       "262148  hihud--QRriCYZw1zZvW4g  Gangnam Asian BBQ Dining   \n",
       "262149  hihud--QRriCYZw1zZvW4g  Gangnam Asian BBQ Dining   \n",
       "262150  hihud--QRriCYZw1zZvW4g  Gangnam Asian BBQ Dining   \n",
       "262151  hihud--QRriCYZw1zZvW4g  Gangnam Asian BBQ Dining   \n",
       "262152  hihud--QRriCYZw1zZvW4g  Gangnam Asian BBQ Dining   \n",
       "262153  hihud--QRriCYZw1zZvW4g  Gangnam Asian BBQ Dining   \n",
       "262154  hihud--QRriCYZw1zZvW4g  Gangnam Asian BBQ Dining   \n",
       "262155  hihud--QRriCYZw1zZvW4g  Gangnam Asian BBQ Dining   \n",
       "262156  hihud--QRriCYZw1zZvW4g  Gangnam Asian BBQ Dining   \n",
       "262157  hihud--QRriCYZw1zZvW4g  Gangnam Asian BBQ Dining   \n",
       "262158  hihud--QRriCYZw1zZvW4g  Gangnam Asian BBQ Dining   \n",
       "262159  hihud--QRriCYZw1zZvW4g  Gangnam Asian BBQ Dining   \n",
       "262160  hihud--QRriCYZw1zZvW4g  Gangnam Asian BBQ Dining   \n",
       "262161  hihud--QRriCYZw1zZvW4g  Gangnam Asian BBQ Dining   \n",
       "262162  hihud--QRriCYZw1zZvW4g  Gangnam Asian BBQ Dining   \n",
       "262163  hihud--QRriCYZw1zZvW4g  Gangnam Asian BBQ Dining   \n",
       "262164  hihud--QRriCYZw1zZvW4g  Gangnam Asian BBQ Dining   \n",
       "262165  hihud--QRriCYZw1zZvW4g  Gangnam Asian BBQ Dining   \n",
       "262166  hihud--QRriCYZw1zZvW4g  Gangnam Asian BBQ Dining   \n",
       "262167  hihud--QRriCYZw1zZvW4g  Gangnam Asian BBQ Dining   \n",
       "262168  hihud--QRriCYZw1zZvW4g  Gangnam Asian BBQ Dining   \n",
       "262169  hihud--QRriCYZw1zZvW4g  Gangnam Asian BBQ Dining   \n",
       "262170  hihud--QRriCYZw1zZvW4g  Gangnam Asian BBQ Dining   \n",
       "262171  hihud--QRriCYZw1zZvW4g  Gangnam Asian BBQ Dining   \n",
       "262172  hihud--QRriCYZw1zZvW4g  Gangnam Asian BBQ Dining   \n",
       "\n",
       "                                               categories  avg_stars  cool  \\\n",
       "258158  [Korean, Japanese, Restaurants, Tapas/Small Pl...        4.5     0   \n",
       "258159  [Korean, Japanese, Restaurants, Tapas/Small Pl...        4.5     0   \n",
       "258160  [Korean, Japanese, Restaurants, Tapas/Small Pl...        4.5     0   \n",
       "258161  [Korean, Japanese, Restaurants, Tapas/Small Pl...        4.5     1   \n",
       "258162  [Korean, Japanese, Restaurants, Tapas/Small Pl...        4.5     0   \n",
       "258163  [Korean, Japanese, Restaurants, Tapas/Small Pl...        4.5     0   \n",
       "258164  [Korean, Japanese, Restaurants, Tapas/Small Pl...        4.5     0   \n",
       "258165  [Korean, Japanese, Restaurants, Tapas/Small Pl...        4.5     0   \n",
       "258166  [Korean, Japanese, Restaurants, Tapas/Small Pl...        4.5     0   \n",
       "258167  [Korean, Japanese, Restaurants, Tapas/Small Pl...        4.5     0   \n",
       "258168  [Korean, Japanese, Restaurants, Tapas/Small Pl...        4.5     1   \n",
       "258169  [Korean, Japanese, Restaurants, Tapas/Small Pl...        4.5     0   \n",
       "258170  [Korean, Japanese, Restaurants, Tapas/Small Pl...        4.5     0   \n",
       "258171  [Korean, Japanese, Restaurants, Tapas/Small Pl...        4.5     0   \n",
       "258172  [Korean, Japanese, Restaurants, Tapas/Small Pl...        4.5     0   \n",
       "258173  [Korean, Japanese, Restaurants, Tapas/Small Pl...        4.5     0   \n",
       "258174  [Korean, Japanese, Restaurants, Tapas/Small Pl...        4.5     0   \n",
       "258175  [Korean, Japanese, Restaurants, Tapas/Small Pl...        4.5     0   \n",
       "258176  [Korean, Japanese, Restaurants, Tapas/Small Pl...        4.5     0   \n",
       "258177  [Korean, Japanese, Restaurants, Tapas/Small Pl...        4.5     0   \n",
       "258178  [Korean, Japanese, Restaurants, Tapas/Small Pl...        4.5     0   \n",
       "258179  [Korean, Japanese, Restaurants, Tapas/Small Pl...        4.5     0   \n",
       "258180  [Korean, Japanese, Restaurants, Tapas/Small Pl...        4.5     0   \n",
       "258181  [Korean, Japanese, Restaurants, Tapas/Small Pl...        4.5     1   \n",
       "258182  [Korean, Japanese, Restaurants, Tapas/Small Pl...        4.5     0   \n",
       "258183  [Korean, Japanese, Restaurants, Tapas/Small Pl...        4.5     1   \n",
       "258184  [Korean, Japanese, Restaurants, Tapas/Small Pl...        4.5     0   \n",
       "258185  [Korean, Japanese, Restaurants, Tapas/Small Pl...        4.5     0   \n",
       "258186  [Korean, Japanese, Restaurants, Tapas/Small Pl...        4.5     0   \n",
       "258187  [Korean, Japanese, Restaurants, Tapas/Small Pl...        4.5     1   \n",
       "...                                                   ...        ...   ...   \n",
       "262143  [Korean, Japanese, Restaurants, Tapas/Small Pl...        4.5     0   \n",
       "262144  [Korean, Japanese, Restaurants, Tapas/Small Pl...        4.5     0   \n",
       "262145  [Korean, Japanese, Restaurants, Tapas/Small Pl...        4.5     0   \n",
       "262146  [Korean, Japanese, Restaurants, Tapas/Small Pl...        4.5     0   \n",
       "262147  [Korean, Japanese, Restaurants, Tapas/Small Pl...        4.5     0   \n",
       "262148  [Korean, Japanese, Restaurants, Tapas/Small Pl...        4.5     0   \n",
       "262149  [Korean, Japanese, Restaurants, Tapas/Small Pl...        4.5     0   \n",
       "262150  [Korean, Japanese, Restaurants, Tapas/Small Pl...        4.5     0   \n",
       "262151  [Korean, Japanese, Restaurants, Tapas/Small Pl...        4.5     0   \n",
       "262152  [Korean, Japanese, Restaurants, Tapas/Small Pl...        4.5     0   \n",
       "262153  [Korean, Japanese, Restaurants, Tapas/Small Pl...        4.5     0   \n",
       "262154  [Korean, Japanese, Restaurants, Tapas/Small Pl...        4.5     0   \n",
       "262155  [Korean, Japanese, Restaurants, Tapas/Small Pl...        4.5     0   \n",
       "262156  [Korean, Japanese, Restaurants, Tapas/Small Pl...        4.5     0   \n",
       "262157  [Korean, Japanese, Restaurants, Tapas/Small Pl...        4.5     0   \n",
       "262158  [Korean, Japanese, Restaurants, Tapas/Small Pl...        4.5     0   \n",
       "262159  [Korean, Japanese, Restaurants, Tapas/Small Pl...        4.5     0   \n",
       "262160  [Korean, Japanese, Restaurants, Tapas/Small Pl...        4.5     0   \n",
       "262161  [Korean, Japanese, Restaurants, Tapas/Small Pl...        4.5     0   \n",
       "262162  [Korean, Japanese, Restaurants, Tapas/Small Pl...        4.5     0   \n",
       "262163  [Korean, Japanese, Restaurants, Tapas/Small Pl...        4.5     0   \n",
       "262164  [Korean, Japanese, Restaurants, Tapas/Small Pl...        4.5     0   \n",
       "262165  [Korean, Japanese, Restaurants, Tapas/Small Pl...        4.5     0   \n",
       "262166  [Korean, Japanese, Restaurants, Tapas/Small Pl...        4.5     0   \n",
       "262167  [Korean, Japanese, Restaurants, Tapas/Small Pl...        4.5     0   \n",
       "262168  [Korean, Japanese, Restaurants, Tapas/Small Pl...        4.5     0   \n",
       "262169  [Korean, Japanese, Restaurants, Tapas/Small Pl...        4.5     0   \n",
       "262170  [Korean, Japanese, Restaurants, Tapas/Small Pl...        4.5     0   \n",
       "262171  [Korean, Japanese, Restaurants, Tapas/Small Pl...        4.5     0   \n",
       "262172  [Korean, Japanese, Restaurants, Tapas/Small Pl...        4.5     0   \n",
       "\n",
       "              date  funny               review_id  stars  \\\n",
       "258158  2016-10-01      0  xgeXscn1gdG5I9w-p2tqig      5   \n",
       "258159  2016-08-20      0  jHeg2v19v4RsN2UnDlCsFQ      5   \n",
       "258160  2015-05-23      0  Gd26BHrDr-6uh2nyA8q5TQ      5   \n",
       "258161  2015-11-21      1  UtE7cxs402ZeuXJbjVTB9g      5   \n",
       "258162  2016-04-15      0  5InDLk1xQJmg6IqLcowW4Q      5   \n",
       "258163  2016-11-11      0  G6EpvRrtUbzxUVzyk8qsAw      5   \n",
       "258164  2016-03-03      0  FMlrcrKxc9SZHx3J2CbGOQ      5   \n",
       "258165  2015-12-13      0  UyEeuM000fMqV6bQSsIQqA      5   \n",
       "258166  2015-08-24      0  aB4i-vIbPCuUg4Sr4jz3DQ      3   \n",
       "258167  2016-10-15      0  j_skfznARdMJvzWG1hy38w      4   \n",
       "258168  2015-08-10      1  xiTaRoedciOmIJxeJvLgqw      4   \n",
       "258169  2016-01-23      0  rehZPAiw-49TdnCVEfvm8Q      4   \n",
       "258170  2016-02-18      0  qU1LPkooHKiEK0bTFPoWCg      4   \n",
       "258171  2016-08-19      0  O5QVoQkGNpLSeaB_u7p3Rg      5   \n",
       "258172  2016-05-08      0  W2NEgTD5vRLEyQ2ZmZQTYg      5   \n",
       "258173  2016-06-18      0  DKqcxgIb2YNdSCWCffPJGg      5   \n",
       "258174  2016-05-09      0  x5DKQcWtNlVgHwx8uQLy4A      5   \n",
       "258175  2016-09-16      0  xhIDGRRLwRF8_Vy7PWBnLQ      5   \n",
       "258176  2015-09-27      0  r0BLGPSMnLQI6_pWQEUGww      5   \n",
       "258177  2015-10-08      0  qHzE6DqrxhsulOnGsWqBCA      5   \n",
       "258178  2015-02-27      0  HTyyxQPpBjCIQNKjQkBJAg      5   \n",
       "258179  2015-11-28      0  3dwFdEOlFyudvLDX4JR2aA      5   \n",
       "258180  2015-05-26      0  _o8rsSfxC0b2XoktTzOrvw      4   \n",
       "258181  2016-07-25      1  UAwN937XgIkvZfWq9oVepQ      2   \n",
       "258182  2015-09-06      0  EydT0fIVrRNgYp49LN7fug      5   \n",
       "258183  2016-05-22      0  dR-qiH1rjH8rJEzQXcizbA      5   \n",
       "258184  2016-03-27      0  OHoaMucwcemyi6fwNTioMA      5   \n",
       "258185  2015-12-31      0  OXUQHe9iCSSLdXGoc-V2VQ      5   \n",
       "258186  2015-11-07      0  URZUxGYf1VZam1mPitGZmg      5   \n",
       "258187  2016-03-15      0  ST_5hjgzYrDaipPST-UqyA      3   \n",
       "...            ...    ...                     ...    ...   \n",
       "262143  2016-08-05      0  pb4hzOu-vc0IeRLwBEaJIw      5   \n",
       "262144  2016-01-08      0  OmXlw2eQGeeeoSJ34nB8vg      5   \n",
       "262145  2016-04-09      0  1Mpz9Ncb0r2YgK6jq9667A      5   \n",
       "262146  2016-02-18      0  ne0zv-zzi-fFNk4fKlhD-Q      5   \n",
       "262147  2015-11-21      0  D21bOj0A2pDmdmQZTEWfaw      5   \n",
       "262148  2015-12-30      0  L8sW2oHeTAA-JDILg75AnQ      5   \n",
       "262149  2015-12-10      0  LXVDEEBLxJSIIhf61A-SBg      5   \n",
       "262150  2016-03-14      0  rUb8y_tpgNamPowpOdSnSw      5   \n",
       "262151  2015-08-22      0  Sf_7iuh4sB4mrg-9ZwtGsA      5   \n",
       "262152  2015-08-20      0  LTSEQ-MA8nj3hQ_VX-ZqaA      4   \n",
       "262153  2015-11-13      0  yDcsv65t9S4yW2ShE8wL5Q      5   \n",
       "262154  2016-06-03      0  6slmBJ27RKo13HEPd4X-kQ      5   \n",
       "262155  2016-02-28      0  QzZvtaQqbDDOLt3TiOgmPw      4   \n",
       "262156  2016-05-12      0  lIGw473mpjZzQm0hIOXH1Q      5   \n",
       "262157  2016-07-09      0  neb3uWOt9h8s7nKjKJzMkA      5   \n",
       "262158  2015-06-27      0  zYzaYMjGrY-UwM5X1lByDg      5   \n",
       "262159  2016-09-08      0  JTqGLs4EN8_ojG3t-yGrBA      5   \n",
       "262160  2016-08-10      0  CcPNuxCz_vyM42v5haHG1w      5   \n",
       "262161  2016-03-17      0  NRYTCnwq-qJ1VUPSVOZpOQ      5   \n",
       "262162  2016-01-27      0  T7UfB9mise28Y85B2GQrbA      5   \n",
       "262163  2016-04-04      0  xFIw5OxQc-__OhbE9MUFhA      5   \n",
       "262164  2016-05-27      0  5QZMkTnDxr-ZDaroX609kg      4   \n",
       "262165  2015-12-28      0  5TA2R9eWqfchRveHkUWiwQ      5   \n",
       "262166  2015-11-25      0  7vWE4tObocTlrKwwimIhWA      4   \n",
       "262167  2015-05-05      0  zJMOGm-_rY1Y8kl3FRMzUw      4   \n",
       "262168  2016-07-10      0  yhoubRWLbwnbvZsi6Qc0ww      5   \n",
       "262169  2016-05-16      0  pRlWTYNluidpshlsDNP3Sw      5   \n",
       "262170  2016-05-30      0  MfEjhn9DXbknrSMlDTAVOg      3   \n",
       "262171  2016-02-17      0  -5vz03TLDbaSYqrhtN5Wkg      5   \n",
       "262172  2016-06-21      0  4EKoPr1g5vxsA4exontBTA      5   \n",
       "\n",
       "                                                     text    type  useful  \\\n",
       "258158  Excellent food with great service that's near ...  review       1   \n",
       "258159  We were in town for the weekend and really enj...  review       0   \n",
       "258160  Yum yum yum this place is so good I love every...  review       0   \n",
       "258161  We came here for happy hour and I was starving...  review       3   \n",
       "258162  Service was great very attentive staff. Food w...  review       0   \n",
       "258163  Wow!!!this restaurant is on my top five best, ...  review       0   \n",
       "258164  This place never fail for big party and meat l...  review       0   \n",
       "258165  The food was delicious, service was speedy, re...  review       0   \n",
       "258166  This is one of the better korean bbq restauran...  review       0   \n",
       "258167  This was our first meal in Vegas and really, n...  review       1   \n",
       "258168  Friends and I just finished having lunch here....  review       1   \n",
       "258169  The quality of food here is very good. I had a...  review       0   \n",
       "258170  We got the combo for 4, it was a lot of variet...  review       0   \n",
       "258171  I'm never disappointed whenever I dine here. M...  review       0   \n",
       "258172  love it so much. I will come back this restaur...  review       0   \n",
       "258173  Woooo! After a night of party party party, Gan...  review       0   \n",
       "258174  Awesome food, great service! And the Las Vegas...  review       0   \n",
       "258175  This place is as good as it gets for Korean BB...  review       0   \n",
       "258176  Bulgogi, toro, come hungry and leave happy.\\n\\...  review       0   \n",
       "258177  Found this place during a conference. It was d...  review       0   \n",
       "258178  Hands down the best korean bbq I've tried in V...  review       0   \n",
       "258179  Awesome meat quality and great appetizers! Wil...  review       1   \n",
       "258180  When looking for great Korean BBQ in Vegas, th...  review       0   \n",
       "258181  Just came here for lunch. Mediocre at best com...  review       1   \n",
       "258182  The ambiance of the restaurant was really nice...  review       0   \n",
       "258183  Great atmosphere for groups or even just grab ...  review       0   \n",
       "258184  Awesomeness.  Prices were decent. Food was fil...  review       0   \n",
       "258185  Great price for the amount of food they serve....  review       0   \n",
       "258186  This place gets better and better. Happy hour ...  review       0   \n",
       "258187  I went in here for some BBQ, but rather for th...  review       1   \n",
       "...                                                   ...     ...     ...   \n",
       "262143  My wife and I were trying to get off strip. Co...  review       0   \n",
       "262144  Had a fantastic dinner here tonight.  We order...  review       0   \n",
       "262145  Best Korean restraunt next to campus! Great qu...  review       0   \n",
       "262146  As a first timer to Korean bbq I was thoroughl...  review       0   \n",
       "262147  Great and attentive staff. Wide range of varie...  review       0   \n",
       "262148  Great food, friendly service, great happy hour...  review       0   \n",
       "262149  Great food!! Had the Gangnam set, said it was ...  review       0   \n",
       "262150  LOVE THEM. :) good service.\\nAlways crowded th...  review       1   \n",
       "262151  Good prices and great side dishes.  Nice atmos...  review       1   \n",
       "262152  Great service, well seasoned food, decent pric...  review       0   \n",
       "262153  Seriously, one of the best Asian BBQ houses I'...  review       0   \n",
       "262154  Loved this place! My aunt and uncle recommende...  review       0   \n",
       "262155  Omg the beef Toro is to die for! And you get a...  review       0   \n",
       "262156  If you love Korean food or even if you've neve...  review       0   \n",
       "262157  Best Korean BBQ in Vegas. No matter you are in...  review       0   \n",
       "262158  Great service! Lots of good food ! With very r...  review       0   \n",
       "262159  Great food! Really cool experience! So much fo...  review       0   \n",
       "262160  I'm a big fan of KBBQ places and this one dese...  review       0   \n",
       "262161  Def a must try, absolutely f'n DELICIOUS. Had ...  review       0   \n",
       "262162  I read other's review before choose restaurant...  review       0   \n",
       "262163  This was the best korean bbq I've had in las v...  review       0   \n",
       "262164  Visiting from SF Bay Area and the food was del...  review       0   \n",
       "262165  There's a lot of peoole on Sunday afternoon bu...  review       0   \n",
       "262166  Very tasty food.\\nDon't like that they charge ...  review       1   \n",
       "262167  Theres a nice variety of korean dishes!The ath...  review       0   \n",
       "262168  Great service & great food. Be sure to come fo...  review       0   \n",
       "262169  We ordered the gangnam combo and the meat was ...  review       0   \n",
       "262170  Slow service. This is around 2pm non rush hour...  review       0   \n",
       "262171  Great food, comfortable atmosphere and very fr...  review       0   \n",
       "262172  The food is great, and the combo comes with a ...  review       0   \n",
       "\n",
       "                       user_id  perfection  count  \n",
       "258158  mtGw8bQTQToVR_1KWD7F7A           1      1  \n",
       "258159  RVGxGRTnVOeCLMPT4JAYuw           1      1  \n",
       "258160  q4DPOg5VPygvIEqWbvT8FA           1      1  \n",
       "258161  h_c7PjnpUnF_-LAegBv7CA           1      1  \n",
       "258162  K_kaV4WlOr2RxGUxNuwdqA           1      1  \n",
       "258163  TIFzeoY3JqWmZjFBbeOYiw           1      1  \n",
       "258164  4ywi4cK7V4CZNtrL1XqfJQ           1      1  \n",
       "258165  IJHf-VprrPACRMD-jSHenA           1      1  \n",
       "258166  nJRtRgvelFCcyzKyT3wfrg           0      1  \n",
       "258167  INPppZR6jwq_oR5u88ObuA           0      1  \n",
       "258168  hjJULwAKSrz7jscP-e2u5A           0      1  \n",
       "258169  9GHen-9oLZJiRXX5rwzzkA           0      1  \n",
       "258170  MOr40pF8QRV0xQ3ROfLPuQ           0      1  \n",
       "258171  CXzDMPKfGqZUw-jefNrbCA           1      1  \n",
       "258172  1jZq7Fcrex5DU3F2dmRhzw           1      1  \n",
       "258173  uxDH9FSuy8JXjIQJsPgz0g           1      1  \n",
       "258174  vp81E6ALmL5LfWlP5zs9vw           1      1  \n",
       "258175  LaSNbYWlaRwxuCICO4-yQQ           1      1  \n",
       "258176  OqZD6bm6MZcRqQVGmhA0Kw           1      1  \n",
       "258177  TuXcc7s1SXXRz7iE9FnLhg           1      1  \n",
       "258178  6M0Ge-1VDL-0AvndlAWofw           1      1  \n",
       "258179  7aPU0VOfvsVijgELhDdR5g           1      1  \n",
       "258180  YyG25v_CEeF1TQ_A6X9VAg           0      1  \n",
       "258181  t2nPIKI2iy8VG_cfFD0Vmg           0      1  \n",
       "258182  jxOXXcZOYyoA0CgTl-WdyQ           1      1  \n",
       "258183  1c7l8gngD75Idj7DwE-NBA           1      1  \n",
       "258184  zBL8odjByr7ZKvXAR0yNdw           1      1  \n",
       "258185  ckBfWTxndkliIGHsA8W7GA           1      1  \n",
       "258186  hPoyOGAnbjJ6IKbJQ1UABQ           1      1  \n",
       "258187  B1829_hxXSEpDPEDJtYeIw           0      1  \n",
       "...                        ...         ...    ...  \n",
       "262143  fz_waNe_BXqb4KiyeXXZIQ           1      1  \n",
       "262144  688IMmbijViyZZ8ypPLGxA           1      1  \n",
       "262145  pI6gsYhQaTBZV6NERoFvtQ           1      1  \n",
       "262146  vTAkgKGVfJSTsnTfRVR7dA           1      1  \n",
       "262147  UUcr0u5Y5Vm2CLMI5YUXGw           1      1  \n",
       "262148  AUWrpboMltugoxnAOD9xEw           1      1  \n",
       "262149  voYIq2C9eAAeoQZaSyYQ8Q           1      1  \n",
       "262150  o565HqGiaWOjDchRST05TQ           1      1  \n",
       "262151  3Eow-5X1d6BMRi4as1Xy2Q           1      1  \n",
       "262152  F4DjrMmTFuLWCQzpOk7R-Q           0      1  \n",
       "262153  ol4-TssALCIADCXN-WjeXQ           1      1  \n",
       "262154  pn6_W53UraZODIfRy5HcGA           1      1  \n",
       "262155  Mi6VnlIFtA6nKqM5UzJAmA           0      1  \n",
       "262156  mwkbA_SdcBayobZui9fm-g           1      1  \n",
       "262157  rdOWC9wBLLuOooHxgdUz9g           1      1  \n",
       "262158  We5SCvqe9NMPmhTYVjW-7w           1      1  \n",
       "262159  5lmeirQjWgUYSqCboC15Mw           1      1  \n",
       "262160  DrwhNI-9ivWwDYXkFo0CyQ           1      1  \n",
       "262161  dsws94_uKFylGUtxDGfpRw           1      1  \n",
       "262162  jC-kGJEfLWQlMNVYR7kALQ           1      1  \n",
       "262163  mjcWalVsLGil9ZivgXVAQA           1      1  \n",
       "262164  b43g7CwewrY1sPVxLVlBpg           0      1  \n",
       "262165  tZ6iNNU0C8cNzC2Hs_8vhw           1      1  \n",
       "262166  CVSq30-UD8Leg16_egoqdA           0      1  \n",
       "262167  QKlw_kTWeeQC_oC1PGh4pA           0      1  \n",
       "262168  iYr0M5aQ3hfSyJHtn3AYtQ           1      1  \n",
       "262169  WVdPjpqPrVGkQl4KkAwxeQ           1      1  \n",
       "262170  hnt5d2JrKleBW4IfNCnUfQ           0      1  \n",
       "262171  0WiJKjTqAyvJHawhxm1cag           1      1  \n",
       "262172  hBxdJTnbX2Yl6ckeM-iEVA           1      1  \n",
       "\n",
       "[4015 rows x 15 columns]"
      ]
     },
     "execution_count": 107,
     "metadata": {},
     "output_type": "execute_result"
    }
   ],
   "source": [
    "df_top_restaurant"
   ]
  },
  {
   "cell_type": "markdown",
   "metadata": {},
   "source": [
    "### Vectorize the text feature"
   ]
  },
  {
   "cell_type": "code",
   "execution_count": 24,
   "metadata": {},
   "outputs": [],
   "source": [
    "documents_top_restaurant = df_top_restaurant['text'].values"
   ]
  },
  {
   "cell_type": "markdown",
   "metadata": {},
   "source": [
    "### Define target variable (for later classification use)"
   ]
  },
  {
   "cell_type": "markdown",
   "metadata": {},
   "source": [
    "#### Again, we look at perfect (5 stars) and imperfect (1-4 stars) rating"
   ]
  },
  {
   "cell_type": "code",
   "execution_count": 25,
   "metadata": {},
   "outputs": [
    {
     "name": "stderr",
     "output_type": "stream",
     "text": [
      "/Users/zhangtianqi/anaconda/lib/python2.7/site-packages/ipykernel/__main__.py:2: SettingWithCopyWarning: \n",
      "A value is trying to be set on a copy of a slice from a DataFrame.\n",
      "Try using .loc[row_indexer,col_indexer] = value instead\n",
      "\n",
      "See the caveats in the documentation: http://pandas.pydata.org/pandas-docs/stable/indexing.html#indexing-view-versus-copy\n",
      "  from ipykernel import kernelapp as app\n"
     ]
    }
   ],
   "source": [
    "df_top_restaurant['perfection'] = df_top_restaurant['stars'].apply(lambda x : int(x == 5))\n",
    "target_top_restaurtant = df_top_restaurant['perfection'].values"
   ]
  },
  {
   "cell_type": "markdown",
   "metadata": {},
   "source": [
    "#### Check the statistic of the target variable"
   ]
  },
  {
   "cell_type": "code",
   "execution_count": 26,
   "metadata": {},
   "outputs": [
    {
     "data": {
      "text/plain": [
       "0.76463262764632622"
      ]
     },
     "execution_count": 26,
     "metadata": {},
     "output_type": "execute_result"
    }
   ],
   "source": [
    "target_top_restaurtant.mean()\n"
   ]
  },
  {
   "cell_type": "markdown",
   "metadata": {},
   "source": [
    "### Create training dataset and test dataset"
   ]
  },
  {
   "cell_type": "code",
   "execution_count": 27,
   "metadata": {
    "collapsed": true
   },
   "outputs": [],
   "source": [
    "from sklearn.cross_validation import train_test_split"
   ]
  },
  {
   "cell_type": "code",
   "execution_count": 28,
   "metadata": {},
   "outputs": [],
   "source": [
    "documents_train, documents_test, target_train, target_test = train_test_split(\n",
    "    documents_top_restaurant, target_top_restaurtant, test_size=0.3, random_state=42)"
   ]
  },
  {
   "cell_type": "markdown",
   "metadata": {},
   "source": [
    "### Get NLP representation of the documents"
   ]
  },
  {
   "cell_type": "code",
   "execution_count": 29,
   "metadata": {
    "collapsed": true
   },
   "outputs": [],
   "source": [
    "from sklearn.feature_extraction.text import TfidfVectorizer"
   ]
  },
  {
   "cell_type": "code",
   "execution_count": 30,
   "metadata": {},
   "outputs": [],
   "source": [
    "from nltk.corpus import stopwords\n",
    "\n",
    "stop = set(stopwords.words('english'))\n",
    "stop.add(u\"food\")\n",
    "stop.add(u\"good\")\n",
    "stop.add(u\"service\")\n",
    "stop.add(u\"place\")"
   ]
  },
  {
   "cell_type": "code",
   "execution_count": 31,
   "metadata": {
    "collapsed": true
   },
   "outputs": [],
   "source": [
    "# Create TfidfVectorizer\n",
    "vectorizer = TfidfVectorizer(stop_words=stop,max_features=1000)"
   ]
  },
  {
   "cell_type": "code",
   "execution_count": 32,
   "metadata": {
    "collapsed": true
   },
   "outputs": [],
   "source": [
    "# Train the model with training data\n",
    "vectors_train = vectorizer.fit_transform(documents_train).toarray()"
   ]
  },
  {
   "cell_type": "code",
   "execution_count": 33,
   "metadata": {},
   "outputs": [],
   "source": [
    "# Get the vocab of tfidf\n",
    "words = vectorizer.get_feature_names()\n"
   ]
  },
  {
   "cell_type": "code",
   "execution_count": 34,
   "metadata": {
    "collapsed": true
   },
   "outputs": [],
   "source": [
    "# Use the trained model to transform the test data\n",
    "vectors_test = vectorizer.transform(documents_test).toarray()"
   ]
  },
  {
   "cell_type": "code",
   "execution_count": 35,
   "metadata": {
    "collapsed": true
   },
   "outputs": [],
   "source": [
    "# Use the trained model to transform all the data\n",
    "vectors_all = vectorizer.transform(documents_top_restaurant).toarray()"
   ]
  },
  {
   "cell_type": "markdown",
   "metadata": {},
   "source": [
    "### Cluster reviews with KMeans"
   ]
  },
  {
   "cell_type": "markdown",
   "metadata": {},
   "source": [
    "#### Fit k-means clustering on the training vectors and make predictions on all data"
   ]
  },
  {
   "cell_type": "code",
   "execution_count": 36,
   "metadata": {},
   "outputs": [
    {
     "data": {
      "text/plain": [
       "KMeans(algorithm='auto', copy_x=True, init='k-means++', max_iter=2000,\n",
       "    n_clusters=3, n_init=10, n_jobs=1, precompute_distances='auto',\n",
       "    random_state=42, tol=0.0001, verbose=0)"
      ]
     },
     "execution_count": 36,
     "metadata": {},
     "output_type": "execute_result"
    }
   ],
   "source": [
    "kmeans = KMeans(n_clusters=3,max_iter=2000,random_state=42)\n",
    "kmeans.fit(vectors_train)"
   ]
  },
  {
   "cell_type": "markdown",
   "metadata": {},
   "source": [
    "#### Make predictions on all data"
   ]
  },
  {
   "cell_type": "code",
   "execution_count": 37,
   "metadata": {},
   "outputs": [],
   "source": [
    "assigned_cluster = kmeans.predict(vectors_all)\n"
   ]
  },
  {
   "cell_type": "code",
   "execution_count": 38,
   "metadata": {},
   "outputs": [
    {
     "data": {
      "text/plain": [
       "0.0071246225482234707"
      ]
     },
     "execution_count": 38,
     "metadata": {},
     "output_type": "execute_result"
    }
   ],
   "source": [
    "from sklearn.metrics import silhouette_score\n",
    "silhouette_score(vectors_all, assigned_cluster)\n"
   ]
  },
  {
   "cell_type": "markdown",
   "metadata": {},
   "source": [
    "#### Inspect the centroids"
   ]
  },
  {
   "cell_type": "code",
   "execution_count": 39,
   "metadata": {},
   "outputs": [
    {
     "data": {
      "text/plain": [
       "array([[  6.28837260e-18,   6.27907115e-03,  -9.75781955e-18, ...,\n",
       "          1.44932237e-03,   8.64116609e-03,   9.50944802e-04],\n",
       "       [  1.08095514e-03,   6.19831156e-03,   2.96083002e-03, ...,\n",
       "          1.33149214e-03,   5.60763137e-03,   1.62630326e-18],\n",
       "       [  1.22078657e-03,   5.16713630e-03,   1.69289860e-03, ...,\n",
       "          5.31414842e-03,   9.35027413e-03,   1.18206335e-03]])"
      ]
     },
     "execution_count": 39,
     "metadata": {},
     "output_type": "execute_result"
    }
   ],
   "source": [
    "# To be implemented\n",
    "kmeans.cluster_centers_\n"
   ]
  },
  {
   "cell_type": "markdown",
   "metadata": {},
   "source": [
    "#### Find the top 10 features for each cluster."
   ]
  },
  {
   "cell_type": "code",
   "execution_count": 40,
   "metadata": {},
   "outputs": [
    {
     "name": "stdout",
     "output_type": "stream",
     "text": [
      "top features for each cluster:\n",
      "0: great, back, come, time, definitely, amazing, first, really, delicious, vegas\n",
      "1: korean, bbq, best, vegas, las, great, restaurant, ever, one, quality\n",
      "2: meat, great, beef, delicious, ordered, really, dishes, nice, happy, korean\n"
     ]
    }
   ],
   "source": [
    "top_centroids = kmeans.cluster_centers_.argsort()[:,-1:-11:-1]\n",
    "print \"top features for each cluster:\"\n",
    "for num, centroid in enumerate(top_centroids):\n",
    "    print \"%d: %s\" % (num, \", \".join(words[i] for i in centroid))"
   ]
  },
  {
   "cell_type": "markdown",
   "metadata": {},
   "source": [
    "#### Print out the rating and review of a random sample of the reviews assigned to each cluster to get a sense of the cluster."
   ]
  },
  {
   "cell_type": "code",
   "execution_count": 41,
   "metadata": {},
   "outputs": [
    {
     "name": "stdout",
     "output_type": "stream",
     "text": [
      "cluster 0:\n",
      "rate: 5:\n",
      "    We are very satisfied with our experience here! The bugolgi especially is very delicious and flavourful, and so is the salmon bacon! This place is a must try! We will definitely be back!\n",
      "rate: 5:\n",
      "    Amazing sides.  Amazing meat. Grilled!\n",
      "\n",
      "This place is great.   Two visits in my three day visits to Vegas.\n",
      "rate: 3:\n",
      "    First time trying this place. My friends loved it. It was an ok experience for me. The bulgogi was really amazing and well flavored. The other meat was ok. Overall if you love Korean BBQ with a bunch of different meats and vegetables this place is definitely for you.\n",
      "cluster 1:\n",
      "rate: 5:\n",
      "    Best Korean BBQ hands down. Really friendly staff and a trendy atmosphere. Really good quality meats and all side dishes were very fresh! Miso paste soup was to die for. The menu is huge with a really nice selection. I love that you can order a al carte style. If ever in the mood for Korean I'll definitely come back.\n",
      "rate: 5:\n",
      "    Best Korean restaurant in Vegas. Clean and quiet, good for family. Food is delicious, waiters are polite and responsive. Two days in a row already, definitely will come again.\n",
      "rate: 5:\n",
      "    Best korean bbq I've ever had! Way better than anything you can get from houston. Meat is high quality and very delicious. I would recommend the Korean prime kalbi and sukiyaki noodles and bulgolgi. Those were the best, but even then, the rest of the meats were really good too! Place to go to satisfy korean bbq cravings.\n",
      "cluster 2:\n",
      "rate: 5:\n",
      "    We shares the gangnam #1 between 3 ppl and it was really good.  The sauses were nice.  Kimchi and everything was good.\n",
      "rate: 5:\n",
      "    This is the best Korean restaurant I've ever been!!!!!!!! The side dishes are great; the appetizers are awesome; the BBQ meat is so fresh and juicy. \n",
      "\n",
      "We ordered steamed egg, chicken karage, and tuna kimbap for starters. Omgosh, they were all a fantastic. We ordered scallops, Korean prime kalbi, sweet corn, and enoki with bacon. I have never had such great kalbi before. The meat is so juicy and palatable, and I ate the meat with the sesame veggies in the house... it's like a taste of heaven. \n",
      "\n",
      "Recommend recommend recommend!!!!\n",
      "rate: 4:\n",
      "    Good panchans. Great sauces. Lots of variety. Fresh fish. Clean decor and good ventilation. Non charcoal grill. No ayce option.\n"
     ]
    }
   ],
   "source": [
    "for i in range(kmeans.n_clusters):\n",
    "    cluster = np.arange(df_top_restaurant.index[0], df_top_restaurant.index[-1]+1)[assigned_cluster==i]\n",
    "    sample_reviews = np.random.choice(cluster, 3, replace=False)\n",
    "    print \"cluster %d:\" % i\n",
    "    for reviews in sample_reviews:\n",
    "        print 'rate: %d:' % df_top_restaurant.ix[reviews]['stars']\n",
    "        print \"    %s\" % df_top_restaurant.ix[reviews]['text']\n",
    "\n"
   ]
  },
  {
   "cell_type": "markdown",
   "metadata": {},
   "source": [
    "## 3. Use PCA to reduce dimensionality"
   ]
  },
  {
   "cell_type": "markdown",
   "metadata": {},
   "source": [
    "### Stardardize features"
   ]
  },
  {
   "cell_type": "code",
   "execution_count": 42,
   "metadata": {},
   "outputs": [],
   "source": [
    "from sklearn.preprocessing import StandardScaler\n",
    "\n",
    "scaler = StandardScaler()\n",
    "\n",
    "vectors_train_scaled = scaler.fit_transform(vectors_train)\n",
    "vectors_test_scaled = scaler.fit_transform(vectors_test)\n",
    "\n"
   ]
  },
  {
   "cell_type": "markdown",
   "metadata": {},
   "source": [
    "### Use PCA to transform data (train and test) and get princial components"
   ]
  },
  {
   "cell_type": "code",
   "execution_count": 43,
   "metadata": {
    "collapsed": true
   },
   "outputs": [],
   "source": [
    "from sklearn.decomposition import PCA\n",
    "\n",
    "# pick a n_components\n",
    "n_components = 50\n",
    "\n",
    "pca = PCA(n_components = n_components)\n",
    "train_components = pca.fit_transform(vectors_train_scaled)\n",
    "test_components = pca.transform(vectors_test_scaled)\n",
    "\n"
   ]
  },
  {
   "cell_type": "code",
   "execution_count": 44,
   "metadata": {},
   "outputs": [
    {
     "data": {
      "text/plain": [
       "(2810, 50)"
      ]
     },
     "execution_count": 44,
     "metadata": {},
     "output_type": "execute_result"
    }
   ],
   "source": [
    "train_components.shape"
   ]
  },
  {
   "cell_type": "markdown",
   "metadata": {},
   "source": [
    "### See how much (and how much percentage of) variance the principal components explain"
   ]
  },
  {
   "cell_type": "code",
   "execution_count": 45,
   "metadata": {},
   "outputs": [
    {
     "data": {
      "text/plain": [
       "<matplotlib.text.Text at 0x11707a710>"
      ]
     },
     "execution_count": 45,
     "metadata": {},
     "output_type": "execute_result"
    },
    {
     "data": {
      "image/png": "[encoded data removed]",
      "text/plain": [
       "<matplotlib.figure.Figure at 0x11fa8fcd0>"
      ]
     },
     "metadata": {},
     "output_type": "display_data"
    }
   ],
   "source": [
    "pca_range = np.arange(n_components) + 1\n",
    "\n",
    "pca_names = ['PCA_%s' % i for i in pca_range]\n",
    "\n",
    "fig, ax = plt.subplots(figsize=(13,6))\n",
    "ax.bar(pca_range, pca.explained_variance_, align='center')\n",
    "\n",
    "ax.set_xticks(pca_range)\n",
    "ax.set_xticklabels(pca_names,rotation =90)\n",
    "ax.set_ylabel('Variance Explained')\n"
   ]
  },
  {
   "cell_type": "code",
   "execution_count": 46,
   "metadata": {},
   "outputs": [
    {
     "data": {
      "text/plain": [
       "<matplotlib.text.Text at 0x11aedd710>"
      ]
     },
     "execution_count": 46,
     "metadata": {},
     "output_type": "execute_result"
    },
    {
     "data": {
      "image/png": "[encoded data removed]",
      "text/plain": [
       "<matplotlib.figure.Figure at 0x11a1cc610>"
      ]
     },
     "metadata": {},
     "output_type": "display_data"
    }
   ],
   "source": [
    "pca_range = np.arange(n_components) + 1\n",
    "\n",
    "pca_names = ['PCA_%s' % i for i in pca_range]\n",
    "\n",
    "fig, ax = plt.subplots(figsize=(13,6))\n",
    "ax.bar(pca_range, pca.explained_variance_ratio_, align='center')\n",
    "\n",
    "ax.set_xticks(pca_range)\n",
    "ax.set_xticklabels(pca_names,rotation =90)\n",
    "ax.set_ylabel('Percentage of Variance Explained')\n",
    "\n"
   ]
  },
  {
   "cell_type": "markdown",
   "metadata": {},
   "source": [
    "### Viz: plot proportion of variance explained with top principal components\n"
   ]
  },
  {
   "cell_type": "code",
   "execution_count": 47,
   "metadata": {},
   "outputs": [
    {
     "data": {
      "text/plain": [
       "<matplotlib.text.Text at 0x11e8f3bd0>"
      ]
     },
     "execution_count": 47,
     "metadata": {},
     "output_type": "execute_result"
    },
    {
     "data": {
      "image/png": "[encoded data removed]",
      "text/plain": [
       "<matplotlib.figure.Figure at 0x11af92650>"
      ]
     },
     "metadata": {},
     "output_type": "display_data"
    }
   ],
   "source": [
    "\n",
    "pca_range = np.arange(n_components) + 1\n",
    "\n",
    "pca_names = ['PCA_%s' % i for i in pca_range]\n",
    "\n",
    "fig, ax = plt.subplots(figsize=(13,6))\n",
    "ax.bar(pca_range, np.cumsum(pca.explained_variance_ratio_), align='center')\n",
    "\n",
    "ax.set_xticks(pca_range)\n",
    "ax.set_xticklabels(pca_names,rotation =90)\n",
    "ax.set_ylabel('Proportion of Variance Explained with top principal components')\n",
    "\n"
   ]
  },
  {
   "cell_type": "markdown",
   "metadata": {},
   "source": [
    "## Classifying positive/negative review with PCA preprocessing"
   ]
  },
  {
   "cell_type": "markdown",
   "metadata": {},
   "source": [
    "### Logistic Regression Classifier\n",
    "#### Use standardized tf-idf vectors as features"
   ]
  },
  {
   "cell_type": "code",
   "execution_count": 48,
   "metadata": {},
   "outputs": [
    {
     "data": {
      "text/plain": [
       "LogisticRegression(C=1.0, class_weight=None, dual=False, fit_intercept=True,\n",
       "          intercept_scaling=1, max_iter=100, multi_class='ovr', n_jobs=1,\n",
       "          penalty='l2', random_state=None, solver='liblinear', tol=0.0001,\n",
       "          verbose=0, warm_start=False)"
      ]
     },
     "execution_count": 48,
     "metadata": {},
     "output_type": "execute_result"
    }
   ],
   "source": [
    "# Build a Logistic Regression Classifier, train with standardized tf-idf vectors\n",
    "\n",
    "from sklearn.linear_model import LogisticRegression\n",
    "\n",
    "lr = LogisticRegression()\n",
    "lr.fit(vectors_train_scaled,target_train)"
   ]
  },
  {
   "cell_type": "code",
   "execution_count": 49,
   "metadata": {},
   "outputs": [
    {
     "data": {
      "text/plain": [
       "0.9711743772241993"
      ]
     },
     "execution_count": 49,
     "metadata": {},
     "output_type": "execute_result"
    }
   ],
   "source": [
    "# Get score for training set\n",
    "lr.score(vectors_train_scaled,target_train)"
   ]
  },
  {
   "cell_type": "code",
   "execution_count": 50,
   "metadata": {
    "scrolled": true
   },
   "outputs": [
    {
     "data": {
      "text/plain": [
       "0.68796680497925311"
      ]
     },
     "execution_count": 50,
     "metadata": {},
     "output_type": "execute_result"
    }
   ],
   "source": [
    "# Get score for test set\n",
    "lr.score(vectors_test_scaled,target_test)"
   ]
  },
  {
   "cell_type": "markdown",
   "metadata": {},
   "source": [
    "#### Use (Stardardized + PCA) tf-idf vectors as features"
   ]
  },
  {
   "cell_type": "code",
   "execution_count": 51,
   "metadata": {},
   "outputs": [
    {
     "data": {
      "text/plain": [
       "LogisticRegression(C=1.0, class_weight=None, dual=False, fit_intercept=True,\n",
       "          intercept_scaling=1, max_iter=100, multi_class='ovr', n_jobs=1,\n",
       "          penalty='l2', random_state=None, solver='liblinear', tol=0.0001,\n",
       "          verbose=0, warm_start=False)"
      ]
     },
     "execution_count": 51,
     "metadata": {},
     "output_type": "execute_result"
    }
   ],
   "source": [
    "# Build a Logistic Regression Classifier, train with PCA tranformed X\n",
    "\n",
    "from sklearn.linear_model import LogisticRegression\n",
    "\n",
    "# To be implemented\n",
    "lr_pca = LogisticRegression()\n",
    "lr_pca.fit(train_components,target_train)"
   ]
  },
  {
   "cell_type": "code",
   "execution_count": 52,
   "metadata": {},
   "outputs": [
    {
     "data": {
      "text/plain": [
       "0.80640569395017792"
      ]
     },
     "execution_count": 52,
     "metadata": {},
     "output_type": "execute_result"
    }
   ],
   "source": [
    "# Get score for training set\n",
    "lr_pca.score(train_components,target_train)"
   ]
  },
  {
   "cell_type": "code",
   "execution_count": 53,
   "metadata": {},
   "outputs": [
    {
     "data": {
      "text/plain": [
       "0.78423236514522821"
      ]
     },
     "execution_count": 53,
     "metadata": {},
     "output_type": "execute_result"
    }
   ],
   "source": [
    "# Get score for test set, REMEMBER to use PCA-transformed X!\n",
    "lr_pca.score(test_components,target_test)"
   ]
  },
  {
   "cell_type": "markdown",
   "metadata": {},
   "source": [
    "Comments: Without PCA, the model overfits the training set. With PCA, the model does not overfit."
   ]
  },
  {
   "cell_type": "markdown",
   "metadata": {},
   "source": [
    "#### Plot the coefficients against principal components\n"
   ]
  },
  {
   "cell_type": "code",
   "execution_count": 54,
   "metadata": {},
   "outputs": [
    {
     "data": {
      "text/plain": [
       "<matplotlib.text.Text at 0x120a33dd0>"
      ]
     },
     "execution_count": 54,
     "metadata": {},
     "output_type": "execute_result"
    },
    {
     "data": {
      "image/png": "[encoded data removed]",
      "text/plain": [
       "<matplotlib.figure.Figure at 0x11fa8f590>"
      ]
     },
     "metadata": {},
     "output_type": "display_data"
    }
   ],
   "source": [
    "pca_range = np.arange(n_components) + 1\n",
    "\n",
    "pca_names = ['PCA_%s' % i for i in pca_range]\n",
    "\n",
    "fig, ax = plt.subplots(figsize=(13,6))\n",
    "ax.bar(pca_range, lr_pca.coef_[0], align='center')\n",
    "\n",
    "ax.set_xticks(pca_range)\n",
    "ax.set_xticklabels(pca_names,rotation =90)\n",
    "ax.set_ylabel('Logistic Regression Model Coefficients')\n",
    "\n"
   ]
  },
  {
   "cell_type": "markdown",
   "metadata": {},
   "source": [
    "### Random Forest Classifier\n",
    "#### Use standardized tf-idf vectors as features"
   ]
  },
  {
   "cell_type": "code",
   "execution_count": 55,
   "metadata": {},
   "outputs": [
    {
     "data": {
      "text/plain": [
       "RandomForestClassifier(bootstrap=True, class_weight=None, criterion='gini',\n",
       "            max_depth=None, max_features='auto', max_leaf_nodes=None,\n",
       "            min_impurity_split=1e-07, min_samples_leaf=1,\n",
       "            min_samples_split=2, min_weight_fraction_leaf=0.0,\n",
       "            n_estimators=10, n_jobs=1, oob_score=False, random_state=None,\n",
       "            verbose=0, warm_start=False)"
      ]
     },
     "execution_count": 55,
     "metadata": {},
     "output_type": "execute_result"
    }
   ],
   "source": [
    "# Build a Random Forest Classifier\n",
    "\n",
    "from sklearn.ensemble import RandomForestClassifier\n",
    "\n",
    "rf = RandomForestClassifier()\n",
    "rf.fit(vectors_train_scaled,target_train)"
   ]
  },
  {
   "cell_type": "code",
   "execution_count": 56,
   "metadata": {},
   "outputs": [
    {
     "data": {
      "text/plain": [
       "0.99288256227758009"
      ]
     },
     "execution_count": 56,
     "metadata": {},
     "output_type": "execute_result"
    }
   ],
   "source": [
    "# Get score for training set\n",
    "rf.score(vectors_train_scaled,target_train)"
   ]
  },
  {
   "cell_type": "code",
   "execution_count": 57,
   "metadata": {
    "scrolled": true
   },
   "outputs": [
    {
     "data": {
      "text/plain": [
       "0.77178423236514526"
      ]
     },
     "execution_count": 57,
     "metadata": {},
     "output_type": "execute_result"
    }
   ],
   "source": [
    "# Get score for test set\n",
    "rf.score(vectors_test_scaled,target_test)"
   ]
  },
  {
   "cell_type": "markdown",
   "metadata": {},
   "source": [
    "#### Use (Stardardized + PCA) tf-idf vectors as features"
   ]
  },
  {
   "cell_type": "code",
   "execution_count": 58,
   "metadata": {},
   "outputs": [
    {
     "data": {
      "text/plain": [
       "RandomForestClassifier(bootstrap=True, class_weight=None, criterion='gini',\n",
       "            max_depth=None, max_features='auto', max_leaf_nodes=None,\n",
       "            min_impurity_split=1e-07, min_samples_leaf=1,\n",
       "            min_samples_split=2, min_weight_fraction_leaf=0.0,\n",
       "            n_estimators=10, n_jobs=1, oob_score=False, random_state=None,\n",
       "            verbose=0, warm_start=False)"
      ]
     },
     "execution_count": 58,
     "metadata": {},
     "output_type": "execute_result"
    }
   ],
   "source": [
    "# Build a Random Forest Classifier\n",
    "\n",
    "from sklearn.ensemble import RandomForestClassifier\n",
    "\n",
    "rf_pca = RandomForestClassifier()\n",
    "rf_pca.fit(train_components,target_train)"
   ]
  },
  {
   "cell_type": "code",
   "execution_count": 59,
   "metadata": {},
   "outputs": [
    {
     "data": {
      "text/plain": [
       "0.9907473309608541"
      ]
     },
     "execution_count": 59,
     "metadata": {},
     "output_type": "execute_result"
    }
   ],
   "source": [
    "# Get score for training set\n",
    "rf_pca.score(train_components,target_train)"
   ]
  },
  {
   "cell_type": "code",
   "execution_count": 60,
   "metadata": {},
   "outputs": [
    {
     "data": {
      "text/plain": [
       "0.76597510373443989"
      ]
     },
     "execution_count": 60,
     "metadata": {},
     "output_type": "execute_result"
    }
   ],
   "source": [
    "# Get score for test set\n",
    "rf_pca.score(test_components,target_test)"
   ]
  },
  {
   "cell_type": "code",
   "execution_count": 61,
   "metadata": {},
   "outputs": [
    {
     "data": {
      "text/plain": [
       "array([ 0.08478956,  0.03077596,  0.02090383,  0.01487199,  0.01905859,\n",
       "        0.02416132,  0.0189291 ,  0.01790462,  0.01673686,  0.03227241,\n",
       "        0.01497985,  0.02207383,  0.01903185,  0.01174993,  0.01707134,\n",
       "        0.02242941,  0.01821779,  0.01254587,  0.0183739 ,  0.01408027,\n",
       "        0.02019037,  0.01721269,  0.01983474,  0.0214117 ,  0.01578269,\n",
       "        0.0139524 ,  0.02194591,  0.01225971,  0.01587733,  0.02102611,\n",
       "        0.01250005,  0.02022572,  0.01901666,  0.02448498,  0.02175809,\n",
       "        0.02091044,  0.01592863,  0.01365634,  0.01644001,  0.01628258,\n",
       "        0.0176677 ,  0.02005792,  0.01768186,  0.01240476,  0.01914922,\n",
       "        0.02271843,  0.01992806,  0.02512342,  0.01366288,  0.01995034])"
      ]
     },
     "execution_count": 61,
     "metadata": {},
     "output_type": "execute_result"
    }
   ],
   "source": [
    "rf_pca.feature_importances_"
   ]
  },
  {
   "cell_type": "markdown",
   "metadata": {},
   "source": [
    "Comments: Using random forest model, overfitting is not fixed with PCA."
   ]
  },
  {
   "cell_type": "code",
   "execution_count": 62,
   "metadata": {},
   "outputs": [
    {
     "data": {
      "text/plain": [
       "<matplotlib.text.Text at 0x121c41c10>"
      ]
     },
     "execution_count": 62,
     "metadata": {},
     "output_type": "execute_result"
    },
    {
     "data": {
      "image/png": "[encoded data removed]",
      "text/plain": [
       "<matplotlib.figure.Figure at 0x121c432d0>"
      ]
     },
     "metadata": {},
     "output_type": "display_data"
    }
   ],
   "source": [
    "pca_range = np.arange(n_components) + 1\n",
    "\n",
    "pca_names = ['PCA_%s' % i for i in pca_range]\n",
    "\n",
    "fig, ax = plt.subplots(figsize=(13,6))\n",
    "ax.bar(pca_range, rf_pca.feature_importances_ , align='center')\n",
    "\n",
    "ax.set_xticks(pca_range)\n",
    "ax.set_xticklabels(pca_names,rotation =90)\n",
    "ax.set_ylabel('RandomForest feature importances')\n",
    "\n"
   ]
  },
  {
   "cell_type": "code",
   "execution_count": null,
   "metadata": {
    "collapsed": true
   },
   "outputs": [],
   "source": []
  },
  {
   "cell_type": "code",
   "execution_count": null,
   "metadata": {
    "collapsed": true
   },
   "outputs": [],
   "source": []
  },
  {
   "cell_type": "markdown",
   "metadata": {},
   "source": [
    "## Cluster restaurants from their category information"
   ]
  },
  {
   "cell_type": "code",
   "execution_count": 63,
   "metadata": {},
   "outputs": [],
   "source": [
    "documents_category = df['categories'].values\n",
    "documents_category_train, documents_category_test = train_test_split(documents_category,test_size=0.8, random_state=42)"
   ]
  },
  {
   "cell_type": "code",
   "execution_count": 74,
   "metadata": {},
   "outputs": [],
   "source": [
    "stop_catg = set(stopwords.words('english'))\n",
    "stop_catg.add(u\"restaurants\")\n",
    "vectorizer_catg = TfidfVectorizer(stop_words=stop_catg)"
   ]
  },
  {
   "cell_type": "code",
   "execution_count": 75,
   "metadata": {
    "collapsed": true
   },
   "outputs": [],
   "source": [
    "vectors_catg_train = vectorizer_catg.fit_transform(documents_category_train).toarray()"
   ]
  },
  {
   "cell_type": "code",
   "execution_count": 76,
   "metadata": {
    "collapsed": true
   },
   "outputs": [],
   "source": [
    "vectors_catg_all = vectorizer_catg.transform(documents_category).toarray()"
   ]
  },
  {
   "cell_type": "code",
   "execution_count": 104,
   "metadata": {},
   "outputs": [],
   "source": [
    "words_catg = vectorizer_catg.get_feature_names()\n"
   ]
  },
  {
   "cell_type": "code",
   "execution_count": 81,
   "metadata": {},
   "outputs": [
    {
     "data": {
      "text/plain": [
       "KMeans(algorithm='auto', copy_x=True, init='k-means++', max_iter=1000,\n",
       "    n_clusters=10, n_init=10, n_jobs=1, precompute_distances='auto',\n",
       "    random_state=None, tol=0.0001, verbose=0)"
      ]
     },
     "execution_count": 81,
     "metadata": {},
     "output_type": "execute_result"
    }
   ],
   "source": [
    "kmeans_catg = KMeans(n_clusters= 10, max_iter=1000)\n",
    "kmeans_catg.fit(vectors_catg_train)"
   ]
  },
  {
   "cell_type": "code",
   "execution_count": 82,
   "metadata": {},
   "outputs": [],
   "source": [
    "assigned_catg_cluster = kmeans_catg.predict(vectors_catg_all)\n"
   ]
  },
  {
   "cell_type": "code",
   "execution_count": 83,
   "metadata": {},
   "outputs": [
    {
     "name": "stdout",
     "output_type": "stream",
     "text": [
      "top features for each cluster:\n",
      "0: food, burgers, steakhouses, fast, thai, seafood, tea, sandwiches, cafes, services\n",
      "1: american, new, traditional, burgers, steakhouses, seafood, food, southern, sandwiches, desserts\n",
      "2: chinese, dim, sum, asian, fusion, cantonese, noodles, thai, taiwanese, vietnamese\n",
      "3: bars, nightlife, american, wine, new, sports, cocktail, traditional, beer, pubs\n",
      "4: pizza, italian, food, wings, chicken, sandwiches, salad, seafood, delis, services\n",
      "5: sushi, japanese, bars, fusion, asian, seafood, steakhouses, food, nightlife, salad\n",
      "6: buffets, breakfast, brunch, sandwiches, food, american, brazilian, traditional, new, steakhouses\n",
      "7: korean, barbeque, fusion, asian, japanese, tapas, plates, small, hawaiian, thai\n",
      "8: breakfast, brunch, american, traditional, new, sandwiches, food, burgers, diners, cafes\n",
      "9: mexican, nightlife, bars, fast, lounges, food, seafood, flavor, local, vegan\n"
     ]
    }
   ],
   "source": [
    "top_centroids_catg = kmeans_catg.cluster_centers_.argsort()[:,-1:-11:-1]\n",
    "print \"top features for each cluster:\"\n",
    "for num, centroid in enumerate(top_centroids_catg):\n",
    "    print \"%d: %s\" % (num, \", \".join(words_catg[i] for i in centroid))"
   ]
  },
  {
   "cell_type": "code",
   "execution_count": 84,
   "metadata": {},
   "outputs": [
    {
     "name": "stdout",
     "output_type": "stream",
     "text": [
      "cluster 0:\n",
      "    [Steakhouses, Spanish, Restaurants, Tapas/Small Plates]\n",
      "    [Steakhouses, Spanish, Restaurants, Tapas/Small Plates]\n",
      "    [French, Food, Bakeries, Restaurants]\n",
      "cluster 1:\n",
      "    [Burgers, American (Traditional), Restaurants, Pizza]\n",
      "    [Restaurants, Burgers, Bars, American (Traditional), Nightlife, American (New)]\n",
      "    [American (New), American (Traditional), Social Clubs, Restaurants, Arts & Entertainment, Desserts, Food]\n",
      "cluster 2:\n",
      "    [Restaurants, American (New), Asian Fusion, Chinese]\n",
      "    [Restaurants, Chinese]\n",
      "    [Restaurants, Chinese]\n",
      "cluster 3:\n",
      "    [Cocktail Bars, Nightlife, Bars, Restaurants, Steakhouses]\n",
      "    [Nightlife, American (New), Bars, Restaurants]\n",
      "    [Automotive, Car Dealers, Restaurants, Thai, Bars, Wine Bars, Nightlife]\n",
      "cluster 4:\n",
      "    [Italian, Restaurants]\n",
      "    [Restaurants, Sandwiches, Pizza, Italian, Gluten-Free, Food, Food Delivery Services]\n",
      "    [Pizza, Restaurants]\n",
      "cluster 5:\n",
      "    [Sushi Bars, Japanese, Asian Fusion, Restaurants, Salad]\n",
      "    [Restaurants, Japanese, Sushi Bars]\n",
      "    [Restaurants, Japanese, Sushi Bars]\n",
      "cluster 6:\n",
      "    [American (New), Arts & Entertainment, Casinos, Restaurants, Buffets]\n",
      "    [Restaurants, Buffets, American (Traditional)]\n",
      "    [Buffets, Sandwiches, Food, Restaurants, Breakfast & Brunch]\n",
      "cluster 7:\n",
      "    [Asian Fusion, Japanese, Restaurants, Fast Food]\n",
      "    [Korean, Japanese, Restaurants, Tapas/Small Plates, Asian Fusion, Barbeque]\n",
      "    [Barbeque, Restaurants, Nightlife, Bars, Asian Fusion, Chicken Wings, Korean]\n",
      "cluster 8:\n",
      "    [Restaurants, Steakhouses, French, Breakfast & Brunch]\n",
      "    [Restaurants, Steakhouses, French, Breakfast & Brunch]\n",
      "    [American (New), Nightlife, Restaurants, Burgers, Breakfast & Brunch, Bars, American (Traditional), Pubs, African]\n",
      "cluster 9:\n",
      "    [Restaurants, Mexican]\n",
      "    [Restaurants, Pizza, Mexican, Burgers]\n",
      "    [Restaurants, Mexican, Bars, Nightlife]\n"
     ]
    }
   ],
   "source": [
    "for i in range(kmeans_catg.n_clusters):\n",
    "    cluster = np.arange(df.index[0], df.index[-1]+1)[assigned_catg_cluster==i]\n",
    "    sample_catg = np.random.choice(cluster, 3, replace=False)\n",
    "    print \"cluster %d:\" % i\n",
    "    for catg in sample_catg:\n",
    "        print \"    %s\" % df.ix[catg]['categories']\n",
    "\n",
    "\n"
   ]
  },
  {
   "cell_type": "code",
   "execution_count": null,
   "metadata": {
    "collapsed": true
   },
   "outputs": [],
   "source": []
  }
 ],
 "metadata": {
  "anaconda-cloud": {},
  "kernelspec": {
   "display_name": "Python 2",
   "language": "python",
   "name": "python2"
  },
  "language_info": {
   "codemirror_mode": {
    "name": "ipython",
    "version": 2
   },
   "file_extension": ".py",
   "mimetype": "text/x-python",
   "name": "python",
   "nbconvert_exporter": "python",
   "pygments_lexer": "ipython2",
   "version": "2.7.13"
  }
 },
 "nbformat": 4,
 "nbformat_minor": 1
}
