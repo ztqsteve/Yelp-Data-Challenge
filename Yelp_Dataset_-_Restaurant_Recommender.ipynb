{
 "cells": [
  {
   "cell_type": "markdown",
   "metadata": {},
   "source": [
    "# Yelp Data Challenge - Restaurant Recommender"
   ]
  },
  {
   "cell_type": "code",
   "execution_count": 3,
   "metadata": {},
   "outputs": [],
   "source": [
    "import pandas as pd\n",
    "import numpy as np\n",
    "import matplotlib.pyplot as plt\n",
    "% matplotlib inline\n",
    "plt.style.use(\"ggplot\")\n"
   ]
  },
  {
   "cell_type": "code",
   "execution_count": 2,
   "metadata": {
    "collapsed": true
   },
   "outputs": [],
   "source": [
    "df = pd.read_csv('data/last_2_years_restaurant_reviews.csv')"
   ]
  },
  {
   "cell_type": "code",
   "execution_count": 3,
   "metadata": {
    "scrolled": true
   },
   "outputs": [
    {
     "data": {
      "text/html": [
       "<div>\n",
       "<table border=\"1\" class=\"dataframe\">\n",
       "  <thead>\n",
       "    <tr style=\"text-align: right;\">\n",
       "      <th></th>\n",
       "      <th>business_id</th>\n",
       "      <th>name</th>\n",
       "      <th>categories</th>\n",
       "      <th>avg_stars</th>\n",
       "      <th>cool</th>\n",
       "      <th>date</th>\n",
       "      <th>funny</th>\n",
       "      <th>review_id</th>\n",
       "      <th>stars</th>\n",
       "      <th>text</th>\n",
       "      <th>type</th>\n",
       "      <th>useful</th>\n",
       "      <th>user_id</th>\n",
       "    </tr>\n",
       "  </thead>\n",
       "  <tbody>\n",
       "    <tr>\n",
       "      <th>0</th>\n",
       "      <td>--9e1ONYQuAa-CB_Rrw7Tw</td>\n",
       "      <td>Delmonico Steakhouse</td>\n",
       "      <td>[Steakhouses, Restaurants, Cajun/Creole]</td>\n",
       "      <td>4.0</td>\n",
       "      <td>0</td>\n",
       "      <td>2015-06-26</td>\n",
       "      <td>0</td>\n",
       "      <td>nCqdz-NW64KazpxqnDr0sQ</td>\n",
       "      <td>1</td>\n",
       "      <td>I mainly went for the ceasar salad prepared ta...</td>\n",
       "      <td>review</td>\n",
       "      <td>0</td>\n",
       "      <td>0XVzm4kVIAaH4eQAxWbhvw</td>\n",
       "    </tr>\n",
       "    <tr>\n",
       "      <th>1</th>\n",
       "      <td>--9e1ONYQuAa-CB_Rrw7Tw</td>\n",
       "      <td>Delmonico Steakhouse</td>\n",
       "      <td>[Steakhouses, Restaurants, Cajun/Creole]</td>\n",
       "      <td>4.0</td>\n",
       "      <td>0</td>\n",
       "      <td>2015-06-29</td>\n",
       "      <td>0</td>\n",
       "      <td>iwx6s6yQxc7yjS7NFANZig</td>\n",
       "      <td>4</td>\n",
       "      <td>Nice atmosphere and wonderful service. I had t...</td>\n",
       "      <td>review</td>\n",
       "      <td>0</td>\n",
       "      <td>2aeNFntqY2QDZLADNo8iQQ</td>\n",
       "    </tr>\n",
       "    <tr>\n",
       "      <th>2</th>\n",
       "      <td>--9e1ONYQuAa-CB_Rrw7Tw</td>\n",
       "      <td>Delmonico Steakhouse</td>\n",
       "      <td>[Steakhouses, Restaurants, Cajun/Creole]</td>\n",
       "      <td>4.0</td>\n",
       "      <td>0</td>\n",
       "      <td>2015-04-05</td>\n",
       "      <td>0</td>\n",
       "      <td>2HrBENXZTiitcCJfzkELgA</td>\n",
       "      <td>2</td>\n",
       "      <td>To be honest it really quit aweful. First the ...</td>\n",
       "      <td>review</td>\n",
       "      <td>0</td>\n",
       "      <td>WFhv5pMJRDPWSyLnKiWFXA</td>\n",
       "    </tr>\n",
       "    <tr>\n",
       "      <th>3</th>\n",
       "      <td>--9e1ONYQuAa-CB_Rrw7Tw</td>\n",
       "      <td>Delmonico Steakhouse</td>\n",
       "      <td>[Steakhouses, Restaurants, Cajun/Creole]</td>\n",
       "      <td>4.0</td>\n",
       "      <td>0</td>\n",
       "      <td>2016-02-16</td>\n",
       "      <td>0</td>\n",
       "      <td>6YNPXoq41qTMZ2TEi0BYUA</td>\n",
       "      <td>2</td>\n",
       "      <td>The food was decent, but the service was defin...</td>\n",
       "      <td>review</td>\n",
       "      <td>0</td>\n",
       "      <td>2S6gWE-K3DHNcKYYSgN7xA</td>\n",
       "    </tr>\n",
       "    <tr>\n",
       "      <th>4</th>\n",
       "      <td>--9e1ONYQuAa-CB_Rrw7Tw</td>\n",
       "      <td>Delmonico Steakhouse</td>\n",
       "      <td>[Steakhouses, Restaurants, Cajun/Creole]</td>\n",
       "      <td>4.0</td>\n",
       "      <td>0</td>\n",
       "      <td>2016-02-08</td>\n",
       "      <td>1</td>\n",
       "      <td>4bQrVUiRZ642odcKCS0OhQ</td>\n",
       "      <td>2</td>\n",
       "      <td>If you're looking for craptastic service and m...</td>\n",
       "      <td>review</td>\n",
       "      <td>1</td>\n",
       "      <td>rCTVWx_Tws2jWi-K89iEyw</td>\n",
       "    </tr>\n",
       "  </tbody>\n",
       "</table>\n",
       "</div>"
      ],
      "text/plain": [
       "              business_id                  name  \\\n",
       "0  --9e1ONYQuAa-CB_Rrw7Tw  Delmonico Steakhouse   \n",
       "1  --9e1ONYQuAa-CB_Rrw7Tw  Delmonico Steakhouse   \n",
       "2  --9e1ONYQuAa-CB_Rrw7Tw  Delmonico Steakhouse   \n",
       "3  --9e1ONYQuAa-CB_Rrw7Tw  Delmonico Steakhouse   \n",
       "4  --9e1ONYQuAa-CB_Rrw7Tw  Delmonico Steakhouse   \n",
       "\n",
       "                                 categories  avg_stars  cool        date  \\\n",
       "0  [Steakhouses, Restaurants, Cajun/Creole]        4.0     0  2015-06-26   \n",
       "1  [Steakhouses, Restaurants, Cajun/Creole]        4.0     0  2015-06-29   \n",
       "2  [Steakhouses, Restaurants, Cajun/Creole]        4.0     0  2015-04-05   \n",
       "3  [Steakhouses, Restaurants, Cajun/Creole]        4.0     0  2016-02-16   \n",
       "4  [Steakhouses, Restaurants, Cajun/Creole]        4.0     0  2016-02-08   \n",
       "\n",
       "   funny               review_id  stars  \\\n",
       "0      0  nCqdz-NW64KazpxqnDr0sQ      1   \n",
       "1      0  iwx6s6yQxc7yjS7NFANZig      4   \n",
       "2      0  2HrBENXZTiitcCJfzkELgA      2   \n",
       "3      0  6YNPXoq41qTMZ2TEi0BYUA      2   \n",
       "4      1  4bQrVUiRZ642odcKCS0OhQ      2   \n",
       "\n",
       "                                                text    type  useful  \\\n",
       "0  I mainly went for the ceasar salad prepared ta...  review       0   \n",
       "1  Nice atmosphere and wonderful service. I had t...  review       0   \n",
       "2  To be honest it really quit aweful. First the ...  review       0   \n",
       "3  The food was decent, but the service was defin...  review       0   \n",
       "4  If you're looking for craptastic service and m...  review       1   \n",
       "\n",
       "                  user_id  \n",
       "0  0XVzm4kVIAaH4eQAxWbhvw  \n",
       "1  2aeNFntqY2QDZLADNo8iQQ  \n",
       "2  WFhv5pMJRDPWSyLnKiWFXA  \n",
       "3  2S6gWE-K3DHNcKYYSgN7xA  \n",
       "4  rCTVWx_Tws2jWi-K89iEyw  "
      ]
     },
     "execution_count": 3,
     "metadata": {},
     "output_type": "execute_result"
    }
   ],
   "source": [
    "df.head()"
   ]
  },
  {
   "cell_type": "markdown",
   "metadata": {},
   "source": [
    "## 1. Clean data and get rating data "
   ]
  },
  {
   "cell_type": "markdown",
   "metadata": {},
   "source": [
    "#### Select relevant columns in the original dataframe"
   ]
  },
  {
   "cell_type": "code",
   "execution_count": 4,
   "metadata": {
    "collapsed": true
   },
   "outputs": [],
   "source": [
    "# Get business_id, user_id, stars for recommender\n",
    "\n",
    "business_id = df['business_id'].values\n",
    "user_id = df['user_id'].values\n",
    "stars = df['stars'].values"
   ]
  },
  {
   "cell_type": "markdown",
   "metadata": {},
   "source": [
    "#### There are many users that haven't given many reviews, exclude these users from the item-item similarity recommender\n"
   ]
  },
  {
   "cell_type": "code",
   "execution_count": 23,
   "metadata": {},
   "outputs": [
    {
     "data": {
      "text/plain": [
       "4353"
      ]
     },
     "execution_count": 23,
     "metadata": {},
     "output_type": "execute_result"
    }
   ],
   "source": [
    "len(df.business_id.unique())"
   ]
  },
  {
   "cell_type": "code",
   "execution_count": 11,
   "metadata": {},
   "outputs": [],
   "source": [
    "df['count'] = 1\n",
    "df_user_count = df.groupby('user_id').sum()\n"
   ]
  },
  {
   "cell_type": "code",
   "execution_count": 82,
   "metadata": {},
   "outputs": [
    {
     "data": {
      "text/html": [
       "<div>\n",
       "<table border=\"1\" class=\"dataframe\">\n",
       "  <thead>\n",
       "    <tr style=\"text-align: right;\">\n",
       "      <th></th>\n",
       "      <th>avg_stars</th>\n",
       "      <th>cool</th>\n",
       "      <th>funny</th>\n",
       "      <th>stars</th>\n",
       "      <th>useful</th>\n",
       "      <th>count</th>\n",
       "    </tr>\n",
       "    <tr>\n",
       "      <th>user_id</th>\n",
       "      <th></th>\n",
       "      <th></th>\n",
       "      <th></th>\n",
       "      <th></th>\n",
       "      <th></th>\n",
       "      <th></th>\n",
       "    </tr>\n",
       "  </thead>\n",
       "  <tbody>\n",
       "    <tr>\n",
       "      <th>B1829_hxXSEpDPEDJtYeIw</th>\n",
       "      <td>868.5</td>\n",
       "      <td>435</td>\n",
       "      <td>312</td>\n",
       "      <td>774</td>\n",
       "      <td>613</td>\n",
       "      <td>221</td>\n",
       "    </tr>\n",
       "    <tr>\n",
       "      <th>JaqcCU3nxReTW2cBLHounA</th>\n",
       "      <td>932.5</td>\n",
       "      <td>12</td>\n",
       "      <td>5</td>\n",
       "      <td>829</td>\n",
       "      <td>28</td>\n",
       "      <td>231</td>\n",
       "    </tr>\n",
       "    <tr>\n",
       "      <th>PKEzKWv_FktMm2mGPjwd0Q</th>\n",
       "      <td>824.5</td>\n",
       "      <td>2247</td>\n",
       "      <td>1611</td>\n",
       "      <td>735</td>\n",
       "      <td>3063</td>\n",
       "      <td>215</td>\n",
       "    </tr>\n",
       "    <tr>\n",
       "      <th>bLbSNkLggFnqwNNzzq-Ijw</th>\n",
       "      <td>2300.5</td>\n",
       "      <td>5715</td>\n",
       "      <td>4409</td>\n",
       "      <td>1931</td>\n",
       "      <td>7624</td>\n",
       "      <td>581</td>\n",
       "    </tr>\n",
       "  </tbody>\n",
       "</table>\n",
       "</div>"
      ],
      "text/plain": [
       "                        avg_stars  cool  funny  stars  useful  count\n",
       "user_id                                                             \n",
       "B1829_hxXSEpDPEDJtYeIw      868.5   435    312    774     613    221\n",
       "JaqcCU3nxReTW2cBLHounA      932.5    12      5    829      28    231\n",
       "PKEzKWv_FktMm2mGPjwd0Q      824.5  2247   1611    735    3063    215\n",
       "bLbSNkLggFnqwNNzzq-Ijw     2300.5  5715   4409   1931    7624    581"
      ]
     },
     "execution_count": 82,
     "metadata": {},
     "output_type": "execute_result"
    }
   ],
   "source": [
    "df_users = df_user_count[df_user_count['count']>200]\n",
    "df_users"
   ]
  },
  {
   "cell_type": "code",
   "execution_count": 55,
   "metadata": {},
   "outputs": [],
   "source": [
    "flt1 = df['user_id']==df_users.index[0]\n",
    "flt2 = df['user_id']==df_users.index[1]\n",
    "flt3 = df['user_id']==df_users.index[2]\n",
    "flt4 = df['user_id']==df_users.index[3]"
   ]
  },
  {
   "cell_type": "code",
   "execution_count": 63,
   "metadata": {},
   "outputs": [
    {
     "data": {
      "text/html": [
       "<div>\n",
       "<table border=\"1\" class=\"dataframe\">\n",
       "  <thead>\n",
       "    <tr style=\"text-align: right;\">\n",
       "      <th></th>\n",
       "      <th>business_id</th>\n",
       "      <th>name</th>\n",
       "      <th>categories</th>\n",
       "      <th>avg_stars</th>\n",
       "      <th>cool</th>\n",
       "      <th>date</th>\n",
       "      <th>funny</th>\n",
       "      <th>review_id</th>\n",
       "      <th>stars</th>\n",
       "      <th>text</th>\n",
       "      <th>type</th>\n",
       "      <th>useful</th>\n",
       "      <th>user_id</th>\n",
       "      <th>count</th>\n",
       "    </tr>\n",
       "  </thead>\n",
       "  <tbody>\n",
       "    <tr>\n",
       "      <th>385</th>\n",
       "      <td>-3zffZUHoY8bQjGfPSoBKQ</td>\n",
       "      <td>Michael Mina</td>\n",
       "      <td>[Restaurants, Bars, Nightlife, Seafood, Americ...</td>\n",
       "      <td>4.0</td>\n",
       "      <td>9</td>\n",
       "      <td>2015-07-04</td>\n",
       "      <td>7</td>\n",
       "      <td>9RcSDjgN3ifLoSKVwErmXQ</td>\n",
       "      <td>4</td>\n",
       "      <td>I had studied the menus online and had pretty ...</td>\n",
       "      <td>review</td>\n",
       "      <td>14</td>\n",
       "      <td>PKEzKWv_FktMm2mGPjwd0Q</td>\n",
       "      <td>1</td>\n",
       "    </tr>\n",
       "    <tr>\n",
       "      <th>617</th>\n",
       "      <td>-BS4aZAQm9u41YnB9MUASA</td>\n",
       "      <td>Argana</td>\n",
       "      <td>[Moroccan, Restaurants]</td>\n",
       "      <td>4.5</td>\n",
       "      <td>3</td>\n",
       "      <td>2015-02-21</td>\n",
       "      <td>4</td>\n",
       "      <td>GTsscc2tTG1YxTaJ1Iyl3g</td>\n",
       "      <td>4</td>\n",
       "      <td>I had this place bookmarked for ages and final...</td>\n",
       "      <td>review</td>\n",
       "      <td>5</td>\n",
       "      <td>bLbSNkLggFnqwNNzzq-Ijw</td>\n",
       "      <td>1</td>\n",
       "    </tr>\n",
       "    <tr>\n",
       "      <th>871</th>\n",
       "      <td>-C8sSrFqaCxp51pyo-fQLQ</td>\n",
       "      <td>The Rice Shop</td>\n",
       "      <td>[Asian Fusion, Specialty Food, Comfort Food, R...</td>\n",
       "      <td>4.5</td>\n",
       "      <td>15</td>\n",
       "      <td>2015-12-02</td>\n",
       "      <td>9</td>\n",
       "      <td>16FPFJ0aN0WCOYPYm-Gp1Q</td>\n",
       "      <td>4</td>\n",
       "      <td>Formerly a dismal-at-best fried rice counter, ...</td>\n",
       "      <td>review</td>\n",
       "      <td>15</td>\n",
       "      <td>bLbSNkLggFnqwNNzzq-Ijw</td>\n",
       "      <td>1</td>\n",
       "    </tr>\n",
       "    <tr>\n",
       "      <th>892</th>\n",
       "      <td>-CQokjildrY7UZezXCdEBw</td>\n",
       "      <td>Toddy Shop</td>\n",
       "      <td>[Indian, Restaurants, American (Traditional), ...</td>\n",
       "      <td>5.0</td>\n",
       "      <td>10</td>\n",
       "      <td>2016-12-12</td>\n",
       "      <td>8</td>\n",
       "      <td>alUQs2mGsfPCzqbs3H1aBw</td>\n",
       "      <td>5</td>\n",
       "      <td>Chef Hemant Kishore is doing amazing things wi...</td>\n",
       "      <td>review</td>\n",
       "      <td>13</td>\n",
       "      <td>PKEzKWv_FktMm2mGPjwd0Q</td>\n",
       "      <td>1</td>\n",
       "    </tr>\n",
       "    <tr>\n",
       "      <th>894</th>\n",
       "      <td>-CQokjildrY7UZezXCdEBw</td>\n",
       "      <td>Toddy Shop</td>\n",
       "      <td>[Indian, Restaurants, American (Traditional), ...</td>\n",
       "      <td>5.0</td>\n",
       "      <td>24</td>\n",
       "      <td>2016-11-06</td>\n",
       "      <td>15</td>\n",
       "      <td>pHfISlpZ6rwHiFK2HfUpZg</td>\n",
       "      <td>5</td>\n",
       "      <td>The Toddy Shop is the epitome of what I love a...</td>\n",
       "      <td>review</td>\n",
       "      <td>27</td>\n",
       "      <td>bLbSNkLggFnqwNNzzq-Ijw</td>\n",
       "      <td>1</td>\n",
       "    </tr>\n",
       "    <tr>\n",
       "      <th>994</th>\n",
       "      <td>-FcZY7a7qgxTUlTvwuyJnQ</td>\n",
       "      <td>8 Noodle Bar</td>\n",
       "      <td>[Asian Fusion, Chinese, Restaurants, Japanese]</td>\n",
       "      <td>3.0</td>\n",
       "      <td>9</td>\n",
       "      <td>2016-08-09</td>\n",
       "      <td>4</td>\n",
       "      <td>8wu0q5bPcgORe-xCpottgA</td>\n",
       "      <td>4</td>\n",
       "      <td>After four visits to 8 Noodle Bar, I have to w...</td>\n",
       "      <td>review</td>\n",
       "      <td>11</td>\n",
       "      <td>PKEzKWv_FktMm2mGPjwd0Q</td>\n",
       "      <td>1</td>\n",
       "    </tr>\n",
       "    <tr>\n",
       "      <th>1054</th>\n",
       "      <td>-FcZY7a7qgxTUlTvwuyJnQ</td>\n",
       "      <td>8 Noodle Bar</td>\n",
       "      <td>[Asian Fusion, Chinese, Restaurants, Japanese]</td>\n",
       "      <td>3.0</td>\n",
       "      <td>7</td>\n",
       "      <td>2015-09-28</td>\n",
       "      <td>7</td>\n",
       "      <td>DazOeGA-0SwSw5wmDqbiAA</td>\n",
       "      <td>3</td>\n",
       "      <td>If you're walking through Red Rock Casino, thi...</td>\n",
       "      <td>review</td>\n",
       "      <td>9</td>\n",
       "      <td>bLbSNkLggFnqwNNzzq-Ijw</td>\n",
       "      <td>1</td>\n",
       "    </tr>\n",
       "    <tr>\n",
       "      <th>1258</th>\n",
       "      <td>-IWsoxH7mLJTTpU5MmWY4w</td>\n",
       "      <td>Kinh Do</td>\n",
       "      <td>[Restaurants, Noodles, Vietnamese]</td>\n",
       "      <td>4.0</td>\n",
       "      <td>4</td>\n",
       "      <td>2015-10-02</td>\n",
       "      <td>5</td>\n",
       "      <td>xSlPCyBTxP1hyJ3_gR21DQ</td>\n",
       "      <td>4</td>\n",
       "      <td>Mixed feelings about this place, but they have...</td>\n",
       "      <td>review</td>\n",
       "      <td>3</td>\n",
       "      <td>bLbSNkLggFnqwNNzzq-Ijw</td>\n",
       "      <td>1</td>\n",
       "    </tr>\n",
       "    <tr>\n",
       "      <th>1628</th>\n",
       "      <td>-NjZ5HZApXjRJaTVZeSO_w</td>\n",
       "      <td>San Salvador Restaurant</td>\n",
       "      <td>[American (New), Salvadoran, Restaurants, Mexi...</td>\n",
       "      <td>4.0</td>\n",
       "      <td>12</td>\n",
       "      <td>2015-12-19</td>\n",
       "      <td>8</td>\n",
       "      <td>6vx28G5Ch2fkxUvR1pkNHQ</td>\n",
       "      <td>4</td>\n",
       "      <td>The pupusas revueltas here are so freaking goo...</td>\n",
       "      <td>review</td>\n",
       "      <td>14</td>\n",
       "      <td>bLbSNkLggFnqwNNzzq-Ijw</td>\n",
       "      <td>1</td>\n",
       "    </tr>\n",
       "    <tr>\n",
       "      <th>1659</th>\n",
       "      <td>-OEIW0dO96-492qa_luxaw</td>\n",
       "      <td>Aces &amp; Ales</td>\n",
       "      <td>[Music Venues, Beer Bar, Arts &amp; Entertainment,...</td>\n",
       "      <td>4.0</td>\n",
       "      <td>0</td>\n",
       "      <td>2016-10-22</td>\n",
       "      <td>0</td>\n",
       "      <td>giJNuwmRjJFTL5OLpFVyjQ</td>\n",
       "      <td>3</td>\n",
       "      <td>This review is for 3.5 stars. \\n\\nI like the o...</td>\n",
       "      <td>review</td>\n",
       "      <td>0</td>\n",
       "      <td>JaqcCU3nxReTW2cBLHounA</td>\n",
       "      <td>1</td>\n",
       "    </tr>\n",
       "    <tr>\n",
       "      <th>1977</th>\n",
       "      <td>-RJ216TTIghZshCkUlD1WQ</td>\n",
       "      <td>Sushi Takashi</td>\n",
       "      <td>[Japanese, Restaurants, Sushi Bars]</td>\n",
       "      <td>4.5</td>\n",
       "      <td>9</td>\n",
       "      <td>2015-07-08</td>\n",
       "      <td>8</td>\n",
       "      <td>iOAkp1zqGO2tloACw4f_vQ</td>\n",
       "      <td>4</td>\n",
       "      <td>I didn't partake of the 10- or 12-course meal ...</td>\n",
       "      <td>review</td>\n",
       "      <td>13</td>\n",
       "      <td>bLbSNkLggFnqwNNzzq-Ijw</td>\n",
       "      <td>1</td>\n",
       "    </tr>\n",
       "    <tr>\n",
       "      <th>2161</th>\n",
       "      <td>-U7tvCtaraTQ9b0zBhpBMA</td>\n",
       "      <td>MGM Grand Buffet</td>\n",
       "      <td>[Restaurants, Buffets, American (Traditional)]</td>\n",
       "      <td>2.5</td>\n",
       "      <td>6</td>\n",
       "      <td>2015-10-18</td>\n",
       "      <td>5</td>\n",
       "      <td>GGXF80g1-kWrGGH4uwj2Gg</td>\n",
       "      <td>3</td>\n",
       "      <td>It's been about 10 years since I was to the MG...</td>\n",
       "      <td>review</td>\n",
       "      <td>13</td>\n",
       "      <td>PKEzKWv_FktMm2mGPjwd0Q</td>\n",
       "      <td>1</td>\n",
       "    </tr>\n",
       "    <tr>\n",
       "      <th>3152</th>\n",
       "      <td>-_TSaVr53qiEGqMkwyEMaQ</td>\n",
       "      <td>Parsley Modern Mediterranean</td>\n",
       "      <td>[Sandwiches, Restaurants, Mediterranean, Middl...</td>\n",
       "      <td>4.5</td>\n",
       "      <td>11</td>\n",
       "      <td>2016-07-06</td>\n",
       "      <td>7</td>\n",
       "      <td>8u_ZNI82IqhB3hxSAIo3fA</td>\n",
       "      <td>4</td>\n",
       "      <td>A poor experience at the other location kept m...</td>\n",
       "      <td>review</td>\n",
       "      <td>18</td>\n",
       "      <td>bLbSNkLggFnqwNNzzq-Ijw</td>\n",
       "      <td>1</td>\n",
       "    </tr>\n",
       "    <tr>\n",
       "      <th>3438</th>\n",
       "      <td>-a857YYdjzgOdOjFFRsRXQ</td>\n",
       "      <td>Beer Park</td>\n",
       "      <td>[Nightlife, Restaurants, Beer Bar, Bars, Cockt...</td>\n",
       "      <td>4.0</td>\n",
       "      <td>9</td>\n",
       "      <td>2016-06-18</td>\n",
       "      <td>5</td>\n",
       "      <td>WQEDaxzHHst0BwP13oAfog</td>\n",
       "      <td>4</td>\n",
       "      <td>Beer Park must have been designed by one of th...</td>\n",
       "      <td>review</td>\n",
       "      <td>16</td>\n",
       "      <td>bLbSNkLggFnqwNNzzq-Ijw</td>\n",
       "      <td>1</td>\n",
       "    </tr>\n",
       "    <tr>\n",
       "      <th>3724</th>\n",
       "      <td>-ed0Yc9on37RoIoG2ZgxBA</td>\n",
       "      <td>Le Thai</td>\n",
       "      <td>[Thai, Beer Gardens, Nightlife, Restaurants]</td>\n",
       "      <td>4.0</td>\n",
       "      <td>0</td>\n",
       "      <td>2017-01-08</td>\n",
       "      <td>0</td>\n",
       "      <td>zjV9ivwCIna8fDJdtg0dRA</td>\n",
       "      <td>4</td>\n",
       "      <td>Considering this was Fremont St. I was expecti...</td>\n",
       "      <td>review</td>\n",
       "      <td>0</td>\n",
       "      <td>JaqcCU3nxReTW2cBLHounA</td>\n",
       "      <td>1</td>\n",
       "    </tr>\n",
       "    <tr>\n",
       "      <th>3912</th>\n",
       "      <td>-ed0Yc9on37RoIoG2ZgxBA</td>\n",
       "      <td>Le Thai</td>\n",
       "      <td>[Thai, Beer Gardens, Nightlife, Restaurants]</td>\n",
       "      <td>4.0</td>\n",
       "      <td>5</td>\n",
       "      <td>2015-07-30</td>\n",
       "      <td>7</td>\n",
       "      <td>R-Fj4mJ87kN_rCAvQYJs-Q</td>\n",
       "      <td>2</td>\n",
       "      <td>This spot is lauded as one of Vegas' best Thai...</td>\n",
       "      <td>review</td>\n",
       "      <td>10</td>\n",
       "      <td>bLbSNkLggFnqwNNzzq-Ijw</td>\n",
       "      <td>1</td>\n",
       "    </tr>\n",
       "    <tr>\n",
       "      <th>4178</th>\n",
       "      <td>-sEbDB_5jI_yIlklu1o1VQ</td>\n",
       "      <td>Haifa Restaurant</td>\n",
       "      <td>[Halal, Mediterranean, Restaurants, Kosher, Mo...</td>\n",
       "      <td>3.5</td>\n",
       "      <td>12</td>\n",
       "      <td>2016-04-20</td>\n",
       "      <td>15</td>\n",
       "      <td>knCp-2h9yjo9nfpvQVA9mw</td>\n",
       "      <td>2</td>\n",
       "      <td>I found this spot on Yelp, checked out the web...</td>\n",
       "      <td>review</td>\n",
       "      <td>18</td>\n",
       "      <td>bLbSNkLggFnqwNNzzq-Ijw</td>\n",
       "      <td>1</td>\n",
       "    </tr>\n",
       "    <tr>\n",
       "      <th>4423</th>\n",
       "      <td>-wCtRhzWJ40Z4F8mmg7kWg</td>\n",
       "      <td>Herringbone</td>\n",
       "      <td>[Restaurants, American (New), Seafood]</td>\n",
       "      <td>4.0</td>\n",
       "      <td>9</td>\n",
       "      <td>2016-01-13</td>\n",
       "      <td>7</td>\n",
       "      <td>4b2QqpeelVygsxF2MLAmMQ</td>\n",
       "      <td>4</td>\n",
       "      <td>Three of us met for lunch at Brian Malarkey's ...</td>\n",
       "      <td>review</td>\n",
       "      <td>16</td>\n",
       "      <td>PKEzKWv_FktMm2mGPjwd0Q</td>\n",
       "      <td>1</td>\n",
       "    </tr>\n",
       "    <tr>\n",
       "      <th>4846</th>\n",
       "      <td>01VPJkcU0m8WzlA7dCEpVQ</td>\n",
       "      <td>Tea Space</td>\n",
       "      <td>[Restaurants, American (Traditional), Tea Room...</td>\n",
       "      <td>4.5</td>\n",
       "      <td>14</td>\n",
       "      <td>2016-07-10</td>\n",
       "      <td>6</td>\n",
       "      <td>Kb45k_XQiTIgR70ZVBYVfQ</td>\n",
       "      <td>4</td>\n",
       "      <td>Tea Space has the best boba in the area but th...</td>\n",
       "      <td>review</td>\n",
       "      <td>20</td>\n",
       "      <td>bLbSNkLggFnqwNNzzq-Ijw</td>\n",
       "      <td>1</td>\n",
       "    </tr>\n",
       "    <tr>\n",
       "      <th>5312</th>\n",
       "      <td>07AZL5XenCQ_-op_onKLdw</td>\n",
       "      <td>BLT Steak</td>\n",
       "      <td>[American (Traditional), Steakhouses, Restaura...</td>\n",
       "      <td>4.0</td>\n",
       "      <td>10</td>\n",
       "      <td>2015-08-06</td>\n",
       "      <td>10</td>\n",
       "      <td>6jpp6kXWZRQ4VuiIDBiZBw</td>\n",
       "      <td>5</td>\n",
       "      <td>In a word: incredible. I wasn't expecting much...</td>\n",
       "      <td>review</td>\n",
       "      <td>14</td>\n",
       "      <td>bLbSNkLggFnqwNNzzq-Ijw</td>\n",
       "      <td>1</td>\n",
       "    </tr>\n",
       "    <tr>\n",
       "      <th>5776</th>\n",
       "      <td>0CB7YB1qRSWLQvMbHw3Fmw</td>\n",
       "      <td>Easy Life Boba Tea</td>\n",
       "      <td>[Restaurants, Bubble Tea, Coffee &amp; Tea, Taiwan...</td>\n",
       "      <td>4.0</td>\n",
       "      <td>0</td>\n",
       "      <td>2016-07-31</td>\n",
       "      <td>0</td>\n",
       "      <td>NW8rnAkb11VzgFdAMjf7Tg</td>\n",
       "      <td>4</td>\n",
       "      <td>I just happened to be next door finishing up w...</td>\n",
       "      <td>review</td>\n",
       "      <td>0</td>\n",
       "      <td>B1829_hxXSEpDPEDJtYeIw</td>\n",
       "      <td>1</td>\n",
       "    </tr>\n",
       "    <tr>\n",
       "      <th>6053</th>\n",
       "      <td>0EgYXYjt2XJL4hlsKnzrcw</td>\n",
       "      <td>PublicUs</td>\n",
       "      <td>[Cafes, American (New), Restaurants, Food, Cof...</td>\n",
       "      <td>4.5</td>\n",
       "      <td>8</td>\n",
       "      <td>2015-04-18</td>\n",
       "      <td>5</td>\n",
       "      <td>zKQM1KLDfh_ydluLh-tBaQ</td>\n",
       "      <td>3</td>\n",
       "      <td>I stopped in here for a late lunch/early dinne...</td>\n",
       "      <td>review</td>\n",
       "      <td>8</td>\n",
       "      <td>PKEzKWv_FktMm2mGPjwd0Q</td>\n",
       "      <td>1</td>\n",
       "    </tr>\n",
       "    <tr>\n",
       "      <th>6101</th>\n",
       "      <td>0EgYXYjt2XJL4hlsKnzrcw</td>\n",
       "      <td>PublicUs</td>\n",
       "      <td>[Cafes, American (New), Restaurants, Food, Cof...</td>\n",
       "      <td>4.5</td>\n",
       "      <td>0</td>\n",
       "      <td>2016-07-17</td>\n",
       "      <td>0</td>\n",
       "      <td>7NYPAmtsHL_eyJaiQy9_vQ</td>\n",
       "      <td>4</td>\n",
       "      <td>A typical high quality brunch place in downtow...</td>\n",
       "      <td>review</td>\n",
       "      <td>0</td>\n",
       "      <td>JaqcCU3nxReTW2cBLHounA</td>\n",
       "      <td>1</td>\n",
       "    </tr>\n",
       "    <tr>\n",
       "      <th>6248</th>\n",
       "      <td>0EgYXYjt2XJL4hlsKnzrcw</td>\n",
       "      <td>PublicUs</td>\n",
       "      <td>[Cafes, American (New), Restaurants, Food, Cof...</td>\n",
       "      <td>4.5</td>\n",
       "      <td>10</td>\n",
       "      <td>2015-03-28</td>\n",
       "      <td>9</td>\n",
       "      <td>_7FBW11RBupFJClUHrDUBA</td>\n",
       "      <td>4</td>\n",
       "      <td>A welcome new addition to the local coffee sce...</td>\n",
       "      <td>review</td>\n",
       "      <td>12</td>\n",
       "      <td>bLbSNkLggFnqwNNzzq-Ijw</td>\n",
       "      <td>1</td>\n",
       "    </tr>\n",
       "    <tr>\n",
       "      <th>6344</th>\n",
       "      <td>0EpnzIpeFvhISkxMTIv9WA</td>\n",
       "      <td>Paradise Place Jamaican Cuisine</td>\n",
       "      <td>[Caribbean, Seafood, Food, Restaurants]</td>\n",
       "      <td>4.5</td>\n",
       "      <td>10</td>\n",
       "      <td>2016-12-17</td>\n",
       "      <td>5</td>\n",
       "      <td>UpPJuqzRU5s3ga7EBns2nw</td>\n",
       "      <td>3</td>\n",
       "      <td>I was so excited to see the signage for this n...</td>\n",
       "      <td>review</td>\n",
       "      <td>18</td>\n",
       "      <td>bLbSNkLggFnqwNNzzq-Ijw</td>\n",
       "      <td>1</td>\n",
       "    </tr>\n",
       "    <tr>\n",
       "      <th>6592</th>\n",
       "      <td>0Hcks5q-DgJbDlmEWolx4A</td>\n",
       "      <td>Bonefish Grill</td>\n",
       "      <td>[Restaurants, Seafood, American (New)]</td>\n",
       "      <td>3.5</td>\n",
       "      <td>8</td>\n",
       "      <td>2015-03-30</td>\n",
       "      <td>5</td>\n",
       "      <td>KoRw9rizXhFTDmIygNsE-w</td>\n",
       "      <td>4</td>\n",
       "      <td>With a new menu roll-out and a $10 off coupon ...</td>\n",
       "      <td>review</td>\n",
       "      <td>8</td>\n",
       "      <td>bLbSNkLggFnqwNNzzq-Ijw</td>\n",
       "      <td>1</td>\n",
       "    </tr>\n",
       "    <tr>\n",
       "      <th>6974</th>\n",
       "      <td>0NmTwqYEQiKErDv4a55obg</td>\n",
       "      <td>Scarpetta</td>\n",
       "      <td>[Restaurants, Italian]</td>\n",
       "      <td>4.0</td>\n",
       "      <td>0</td>\n",
       "      <td>2016-07-23</td>\n",
       "      <td>0</td>\n",
       "      <td>MgcufEXk9px5HwQLV-D-sg</td>\n",
       "      <td>4</td>\n",
       "      <td>This review is for 4.5 stars.\\n\\nSome of the b...</td>\n",
       "      <td>review</td>\n",
       "      <td>0</td>\n",
       "      <td>JaqcCU3nxReTW2cBLHounA</td>\n",
       "      <td>1</td>\n",
       "    </tr>\n",
       "    <tr>\n",
       "      <th>7071</th>\n",
       "      <td>0NmTwqYEQiKErDv4a55obg</td>\n",
       "      <td>Scarpetta</td>\n",
       "      <td>[Restaurants, Italian]</td>\n",
       "      <td>4.0</td>\n",
       "      <td>17</td>\n",
       "      <td>2016-06-29</td>\n",
       "      <td>11</td>\n",
       "      <td>He0UBRVneAProWygChUYaw</td>\n",
       "      <td>3</td>\n",
       "      <td>I thought Scarpetta was supposed to be a step ...</td>\n",
       "      <td>review</td>\n",
       "      <td>23</td>\n",
       "      <td>bLbSNkLggFnqwNNzzq-Ijw</td>\n",
       "      <td>1</td>\n",
       "    </tr>\n",
       "    <tr>\n",
       "      <th>7230</th>\n",
       "      <td>0OdZXIKQypu6vplpxFilsA</td>\n",
       "      <td>Kneaders Bakery &amp; Cafe</td>\n",
       "      <td>[Food, Restaurants, Bakeries, Desserts, Sandwi...</td>\n",
       "      <td>3.5</td>\n",
       "      <td>19</td>\n",
       "      <td>2016-09-16</td>\n",
       "      <td>9</td>\n",
       "      <td>EAuxbZnDV9KRsjBjdn7Cjw</td>\n",
       "      <td>3</td>\n",
       "      <td>PROS:\\n+ So much fresh bread, several varietie...</td>\n",
       "      <td>review</td>\n",
       "      <td>19</td>\n",
       "      <td>bLbSNkLggFnqwNNzzq-Ijw</td>\n",
       "      <td>1</td>\n",
       "    </tr>\n",
       "    <tr>\n",
       "      <th>7680</th>\n",
       "      <td>0WoQQlMXVIDEgI0xNdENKA</td>\n",
       "      <td>Feast Buffet</td>\n",
       "      <td>[Buffets, Restaurants]</td>\n",
       "      <td>3.5</td>\n",
       "      <td>3</td>\n",
       "      <td>2016-09-07</td>\n",
       "      <td>1</td>\n",
       "      <td>OG-1Pbc-lBJZzRQHeefkSw</td>\n",
       "      <td>4</td>\n",
       "      <td>I came here on a Friday for their seafood buff...</td>\n",
       "      <td>review</td>\n",
       "      <td>3</td>\n",
       "      <td>B1829_hxXSEpDPEDJtYeIw</td>\n",
       "      <td>1</td>\n",
       "    </tr>\n",
       "    <tr>\n",
       "      <th>...</th>\n",
       "      <td>...</td>\n",
       "      <td>...</td>\n",
       "      <td>...</td>\n",
       "      <td>...</td>\n",
       "      <td>...</td>\n",
       "      <td>...</td>\n",
       "      <td>...</td>\n",
       "      <td>...</td>\n",
       "      <td>...</td>\n",
       "      <td>...</td>\n",
       "      <td>...</td>\n",
       "      <td>...</td>\n",
       "      <td>...</td>\n",
       "      <td>...</td>\n",
       "    </tr>\n",
       "    <tr>\n",
       "      <th>341388</th>\n",
       "      <td>yp2nRId4v-bDtrYl5A3F-g</td>\n",
       "      <td>Nittaya's Secret Kitchen</td>\n",
       "      <td>[Restaurants, Thai]</td>\n",
       "      <td>4.0</td>\n",
       "      <td>7</td>\n",
       "      <td>2016-08-14</td>\n",
       "      <td>4</td>\n",
       "      <td>bOt7n4Vbm_CGJbLBvQi9OA</td>\n",
       "      <td>3</td>\n",
       "      <td>On the way back from DTLV, I stopped at Nittay...</td>\n",
       "      <td>review</td>\n",
       "      <td>15</td>\n",
       "      <td>PKEzKWv_FktMm2mGPjwd0Q</td>\n",
       "      <td>1</td>\n",
       "    </tr>\n",
       "    <tr>\n",
       "      <th>341471</th>\n",
       "      <td>yp2nRId4v-bDtrYl5A3F-g</td>\n",
       "      <td>Nittaya's Secret Kitchen</td>\n",
       "      <td>[Restaurants, Thai]</td>\n",
       "      <td>4.0</td>\n",
       "      <td>45</td>\n",
       "      <td>2015-08-19</td>\n",
       "      <td>28</td>\n",
       "      <td>jcvvYX5cA5M536wbv4GzvA</td>\n",
       "      <td>4</td>\n",
       "      <td>The \"Not So Secret Salad\" is one of my favorit...</td>\n",
       "      <td>review</td>\n",
       "      <td>51</td>\n",
       "      <td>bLbSNkLggFnqwNNzzq-Ijw</td>\n",
       "      <td>1</td>\n",
       "    </tr>\n",
       "    <tr>\n",
       "      <th>341502</th>\n",
       "      <td>ypfFfR3-PbtoslIhohNstw</td>\n",
       "      <td>Lee's Korean BBQ</td>\n",
       "      <td>[Local Services, Restaurants, Korean]</td>\n",
       "      <td>3.5</td>\n",
       "      <td>3</td>\n",
       "      <td>2015-05-21</td>\n",
       "      <td>2</td>\n",
       "      <td>EGYeai_maKWuBh9_eLKMww</td>\n",
       "      <td>4</td>\n",
       "      <td>Don't underestimate this place based on the ex...</td>\n",
       "      <td>review</td>\n",
       "      <td>3</td>\n",
       "      <td>B1829_hxXSEpDPEDJtYeIw</td>\n",
       "      <td>1</td>\n",
       "    </tr>\n",
       "    <tr>\n",
       "      <th>342122</th>\n",
       "      <td>ysv6yhVYOoH9Pf7PlMyD0g</td>\n",
       "      <td>Wahlburgers</td>\n",
       "      <td>[American (Traditional), Restaurants, Burgers]</td>\n",
       "      <td>3.0</td>\n",
       "      <td>10</td>\n",
       "      <td>2016-09-10</td>\n",
       "      <td>9</td>\n",
       "      <td>CO4ib7hEbqTLnHl90zL6aQ</td>\n",
       "      <td>2</td>\n",
       "      <td>Marky Mark &amp; Co. are failing the masses. Came ...</td>\n",
       "      <td>review</td>\n",
       "      <td>26</td>\n",
       "      <td>bLbSNkLggFnqwNNzzq-Ijw</td>\n",
       "      <td>1</td>\n",
       "    </tr>\n",
       "    <tr>\n",
       "      <th>342192</th>\n",
       "      <td>ytk8XVFegCSdSBXLDZutpw</td>\n",
       "      <td>Bachi Kitchen</td>\n",
       "      <td>[Breakfast &amp; Brunch, Asian Fusion, Nightlife, ...</td>\n",
       "      <td>3.5</td>\n",
       "      <td>3</td>\n",
       "      <td>2016-07-31</td>\n",
       "      <td>1</td>\n",
       "      <td>E1fEygvsOjbTnF4Pc3VBuQ</td>\n",
       "      <td>4</td>\n",
       "      <td>The menu is identical as far as I noticed to b...</td>\n",
       "      <td>review</td>\n",
       "      <td>3</td>\n",
       "      <td>B1829_hxXSEpDPEDJtYeIw</td>\n",
       "      <td>1</td>\n",
       "    </tr>\n",
       "    <tr>\n",
       "      <th>342392</th>\n",
       "      <td>ytk8XVFegCSdSBXLDZutpw</td>\n",
       "      <td>Bachi Kitchen</td>\n",
       "      <td>[Breakfast &amp; Brunch, Asian Fusion, Nightlife, ...</td>\n",
       "      <td>3.5</td>\n",
       "      <td>9</td>\n",
       "      <td>2015-12-19</td>\n",
       "      <td>8</td>\n",
       "      <td>YB1I2JcTueH-upggOEAz0w</td>\n",
       "      <td>3</td>\n",
       "      <td>The burgers are great, but the HH offerings ne...</td>\n",
       "      <td>review</td>\n",
       "      <td>10</td>\n",
       "      <td>bLbSNkLggFnqwNNzzq-Ijw</td>\n",
       "      <td>1</td>\n",
       "    </tr>\n",
       "    <tr>\n",
       "      <th>342482</th>\n",
       "      <td>yvqcZrHixuf_oIUW83xUcQ</td>\n",
       "      <td>Macayo's Mexican Restaurant</td>\n",
       "      <td>[Mexican, Restaurants]</td>\n",
       "      <td>3.0</td>\n",
       "      <td>12</td>\n",
       "      <td>2016-04-18</td>\n",
       "      <td>10</td>\n",
       "      <td>NiJNJM6i3Iug4N_B3lkvBA</td>\n",
       "      <td>3</td>\n",
       "      <td>\"White-washed Mexican food\"? Yeah, kind of. Yo...</td>\n",
       "      <td>review</td>\n",
       "      <td>18</td>\n",
       "      <td>bLbSNkLggFnqwNNzzq-Ijw</td>\n",
       "      <td>1</td>\n",
       "    </tr>\n",
       "    <tr>\n",
       "      <th>342679</th>\n",
       "      <td>z-OhppazxWfHnUCzFTKQhw</td>\n",
       "      <td>Snow White Cafe</td>\n",
       "      <td>[Shaved Ice, Cafes, Coffee &amp; Tea, Restaurants,...</td>\n",
       "      <td>4.0</td>\n",
       "      <td>3</td>\n",
       "      <td>2016-09-19</td>\n",
       "      <td>1</td>\n",
       "      <td>DNpJEzyVlo1zfVUfB5nYVQ</td>\n",
       "      <td>5</td>\n",
       "      <td>I LOVE shaved ice, and my favorite is the Japa...</td>\n",
       "      <td>review</td>\n",
       "      <td>4</td>\n",
       "      <td>B1829_hxXSEpDPEDJtYeIw</td>\n",
       "      <td>1</td>\n",
       "    </tr>\n",
       "    <tr>\n",
       "      <th>342762</th>\n",
       "      <td>z-OhppazxWfHnUCzFTKQhw</td>\n",
       "      <td>Snow White Cafe</td>\n",
       "      <td>[Shaved Ice, Cafes, Coffee &amp; Tea, Restaurants,...</td>\n",
       "      <td>4.0</td>\n",
       "      <td>27</td>\n",
       "      <td>2016-05-06</td>\n",
       "      <td>17</td>\n",
       "      <td>ItHZBiXH5vAyaYDwCE6F-g</td>\n",
       "      <td>4</td>\n",
       "      <td>I've been waiting for Snow White to open since...</td>\n",
       "      <td>review</td>\n",
       "      <td>27</td>\n",
       "      <td>bLbSNkLggFnqwNNzzq-Ijw</td>\n",
       "      <td>1</td>\n",
       "    </tr>\n",
       "    <tr>\n",
       "      <th>343536</th>\n",
       "      <td>z65wZ11iw7Y-WBZ9UDZhnA</td>\n",
       "      <td>Pisa Pizza</td>\n",
       "      <td>[Restaurants, Pizza]</td>\n",
       "      <td>4.0</td>\n",
       "      <td>12</td>\n",
       "      <td>2016-11-10</td>\n",
       "      <td>9</td>\n",
       "      <td>9eT0BwSzjbP_tjzzDJaVtg</td>\n",
       "      <td>1</td>\n",
       "      <td>The garlic knots and calzones on display looke...</td>\n",
       "      <td>review</td>\n",
       "      <td>20</td>\n",
       "      <td>bLbSNkLggFnqwNNzzq-Ijw</td>\n",
       "      <td>1</td>\n",
       "    </tr>\n",
       "    <tr>\n",
       "      <th>344287</th>\n",
       "      <td>zK7sltLeRRioqYwgLiWUIA</td>\n",
       "      <td>Flippin' Good Burgers &amp; Shakes</td>\n",
       "      <td>[Food, Burgers, Local Flavor, Desserts, Restau...</td>\n",
       "      <td>4.0</td>\n",
       "      <td>11</td>\n",
       "      <td>2015-12-15</td>\n",
       "      <td>7</td>\n",
       "      <td>d6H5MoFYmj-RbCRWaKINMQ</td>\n",
       "      <td>3</td>\n",
       "      <td>Flippin' Good is a flippin' cheap option for F...</td>\n",
       "      <td>review</td>\n",
       "      <td>11</td>\n",
       "      <td>bLbSNkLggFnqwNNzzq-Ijw</td>\n",
       "      <td>1</td>\n",
       "    </tr>\n",
       "    <tr>\n",
       "      <th>344459</th>\n",
       "      <td>zRqi6L1u-YmmVAHjeUbGMQ</td>\n",
       "      <td>SkinnyFATS</td>\n",
       "      <td>[Food, Breakfast &amp; Brunch, American (New), Jui...</td>\n",
       "      <td>4.5</td>\n",
       "      <td>1</td>\n",
       "      <td>2015-03-13</td>\n",
       "      <td>4</td>\n",
       "      <td>Rqmhp4eT1l50R5Z3nN5V6Q</td>\n",
       "      <td>3</td>\n",
       "      <td>i was a bit confused as to why this place is c...</td>\n",
       "      <td>review</td>\n",
       "      <td>3</td>\n",
       "      <td>B1829_hxXSEpDPEDJtYeIw</td>\n",
       "      <td>1</td>\n",
       "    </tr>\n",
       "    <tr>\n",
       "      <th>344744</th>\n",
       "      <td>zRqi6L1u-YmmVAHjeUbGMQ</td>\n",
       "      <td>SkinnyFATS</td>\n",
       "      <td>[Food, Breakfast &amp; Brunch, American (New), Jui...</td>\n",
       "      <td>4.5</td>\n",
       "      <td>10</td>\n",
       "      <td>2015-08-11</td>\n",
       "      <td>9</td>\n",
       "      <td>8NEyWXo0FvFsz0gYjxWp7w</td>\n",
       "      <td>4</td>\n",
       "      <td>I came here with a party numbering about 15 an...</td>\n",
       "      <td>review</td>\n",
       "      <td>14</td>\n",
       "      <td>PKEzKWv_FktMm2mGPjwd0Q</td>\n",
       "      <td>1</td>\n",
       "    </tr>\n",
       "    <tr>\n",
       "      <th>344795</th>\n",
       "      <td>zRqi6L1u-YmmVAHjeUbGMQ</td>\n",
       "      <td>SkinnyFATS</td>\n",
       "      <td>[Food, Breakfast &amp; Brunch, American (New), Jui...</td>\n",
       "      <td>4.5</td>\n",
       "      <td>0</td>\n",
       "      <td>2016-05-02</td>\n",
       "      <td>0</td>\n",
       "      <td>GRkSTRn8lRtsxOrkcet4mg</td>\n",
       "      <td>4</td>\n",
       "      <td>I'm not sure I'm on the hype train, but Skinny...</td>\n",
       "      <td>review</td>\n",
       "      <td>0</td>\n",
       "      <td>JaqcCU3nxReTW2cBLHounA</td>\n",
       "      <td>1</td>\n",
       "    </tr>\n",
       "    <tr>\n",
       "      <th>344974</th>\n",
       "      <td>zRqi6L1u-YmmVAHjeUbGMQ</td>\n",
       "      <td>SkinnyFATS</td>\n",
       "      <td>[Food, Breakfast &amp; Brunch, American (New), Jui...</td>\n",
       "      <td>4.5</td>\n",
       "      <td>5</td>\n",
       "      <td>2015-03-24</td>\n",
       "      <td>5</td>\n",
       "      <td>j-LtgNdGG_7CIEt-1Req4w</td>\n",
       "      <td>3</td>\n",
       "      <td>This location is brighter and more spacious th...</td>\n",
       "      <td>review</td>\n",
       "      <td>6</td>\n",
       "      <td>bLbSNkLggFnqwNNzzq-Ijw</td>\n",
       "      <td>1</td>\n",
       "    </tr>\n",
       "    <tr>\n",
       "      <th>345278</th>\n",
       "      <td>zU9w_xRlQSRIYXxGo-HSOA</td>\n",
       "      <td>Carnegie</td>\n",
       "      <td>[Sandwiches, American (New), Delis, Restaurant...</td>\n",
       "      <td>3.0</td>\n",
       "      <td>0</td>\n",
       "      <td>2016-01-02</td>\n",
       "      <td>0</td>\n",
       "      <td>WWZqOyaQI7LUBuCgQKlVfA</td>\n",
       "      <td>4</td>\n",
       "      <td>This restaurant deserves 4 stars for the porti...</td>\n",
       "      <td>review</td>\n",
       "      <td>0</td>\n",
       "      <td>JaqcCU3nxReTW2cBLHounA</td>\n",
       "      <td>1</td>\n",
       "    </tr>\n",
       "    <tr>\n",
       "      <th>345787</th>\n",
       "      <td>z_46RY-L3vcMrH3-wxCp9w</td>\n",
       "      <td>Sushi Hero</td>\n",
       "      <td>[Sushi Bars, Japanese, Restaurants]</td>\n",
       "      <td>5.0</td>\n",
       "      <td>9</td>\n",
       "      <td>2016-09-26</td>\n",
       "      <td>11</td>\n",
       "      <td>i4MbpJkuZazYbsBxvHFDRg</td>\n",
       "      <td>2</td>\n",
       "      <td>There's a third Sushi Hero in town- the first ...</td>\n",
       "      <td>review</td>\n",
       "      <td>22</td>\n",
       "      <td>bLbSNkLggFnqwNNzzq-Ijw</td>\n",
       "      <td>1</td>\n",
       "    </tr>\n",
       "    <tr>\n",
       "      <th>346098</th>\n",
       "      <td>zcScEL0WEdFkROcnz5379g</td>\n",
       "      <td>The Boiling Crab</td>\n",
       "      <td>[Seafood, Cajun/Creole, Restaurants]</td>\n",
       "      <td>4.0</td>\n",
       "      <td>10</td>\n",
       "      <td>2015-10-29</td>\n",
       "      <td>8</td>\n",
       "      <td>WtI-82_5fCOs9zPIJCgwZA</td>\n",
       "      <td>3</td>\n",
       "      <td>Team Hot &amp; Juicy! Sorry, for fresh seafood, I ...</td>\n",
       "      <td>review</td>\n",
       "      <td>14</td>\n",
       "      <td>bLbSNkLggFnqwNNzzq-Ijw</td>\n",
       "      <td>1</td>\n",
       "    </tr>\n",
       "    <tr>\n",
       "      <th>346282</th>\n",
       "      <td>zdE82PiD6wquvjYLyhOJNA</td>\n",
       "      <td>KoMex Fusion</td>\n",
       "      <td>[Restaurants, Asian Fusion, Korean, Mexican]</td>\n",
       "      <td>4.5</td>\n",
       "      <td>0</td>\n",
       "      <td>2016-02-06</td>\n",
       "      <td>0</td>\n",
       "      <td>ZeCswkMtWMpZ3oAwo8sgKw</td>\n",
       "      <td>4</td>\n",
       "      <td>KoMex was awesome.  Just what you'd expect wit...</td>\n",
       "      <td>review</td>\n",
       "      <td>0</td>\n",
       "      <td>JaqcCU3nxReTW2cBLHounA</td>\n",
       "      <td>1</td>\n",
       "    </tr>\n",
       "    <tr>\n",
       "      <th>346474</th>\n",
       "      <td>zdcesxBdjljRgS0QmCgkBg</td>\n",
       "      <td>Harrie's Bagelmania</td>\n",
       "      <td>[Bagels, Restaurants, Delis, Food]</td>\n",
       "      <td>4.0</td>\n",
       "      <td>3</td>\n",
       "      <td>2015-07-06</td>\n",
       "      <td>2</td>\n",
       "      <td>cvrbODtuH3fsgxZMen-jUA</td>\n",
       "      <td>3</td>\n",
       "      <td>Much like the Bagel Café on the west side of t...</td>\n",
       "      <td>review</td>\n",
       "      <td>8</td>\n",
       "      <td>bLbSNkLggFnqwNNzzq-Ijw</td>\n",
       "      <td>1</td>\n",
       "    </tr>\n",
       "    <tr>\n",
       "      <th>346571</th>\n",
       "      <td>zjvnqTjBp56NhMp1GrlO5g</td>\n",
       "      <td>Mingo Kitchen &amp; Lounge</td>\n",
       "      <td>[Nightlife, Lounges, Bars, Restaurants, Mexica...</td>\n",
       "      <td>4.0</td>\n",
       "      <td>0</td>\n",
       "      <td>2016-02-06</td>\n",
       "      <td>0</td>\n",
       "      <td>AThbPIAcgd_H6Xzu5JsDkw</td>\n",
       "      <td>2</td>\n",
       "      <td>I was not a fan of Mingo Kitchen, especially w...</td>\n",
       "      <td>review</td>\n",
       "      <td>0</td>\n",
       "      <td>JaqcCU3nxReTW2cBLHounA</td>\n",
       "      <td>1</td>\n",
       "    </tr>\n",
       "    <tr>\n",
       "      <th>346595</th>\n",
       "      <td>zjvnqTjBp56NhMp1GrlO5g</td>\n",
       "      <td>Mingo Kitchen &amp; Lounge</td>\n",
       "      <td>[Nightlife, Lounges, Bars, Restaurants, Mexica...</td>\n",
       "      <td>4.0</td>\n",
       "      <td>10</td>\n",
       "      <td>2015-05-31</td>\n",
       "      <td>4</td>\n",
       "      <td>6xDTW6HFTRb-oCRk8FlC7g</td>\n",
       "      <td>4</td>\n",
       "      <td>Hit this spot for a hoppin' happy hour, 3-7PM ...</td>\n",
       "      <td>review</td>\n",
       "      <td>8</td>\n",
       "      <td>bLbSNkLggFnqwNNzzq-Ijw</td>\n",
       "      <td>1</td>\n",
       "    </tr>\n",
       "    <tr>\n",
       "      <th>346685</th>\n",
       "      <td>zmltWmTpoBt5sCU-5Kzj-Q</td>\n",
       "      <td>PT's Brewing</td>\n",
       "      <td>[Bars, Food, Restaurants, Breweries, Nightlife]</td>\n",
       "      <td>3.5</td>\n",
       "      <td>0</td>\n",
       "      <td>2016-03-03</td>\n",
       "      <td>0</td>\n",
       "      <td>gwMryxY9SJjgE4ZkbDX1Mg</td>\n",
       "      <td>3</td>\n",
       "      <td>Eh.  Plenty of better brews in town.  It is so...</td>\n",
       "      <td>review</td>\n",
       "      <td>1</td>\n",
       "      <td>JaqcCU3nxReTW2cBLHounA</td>\n",
       "      <td>1</td>\n",
       "    </tr>\n",
       "    <tr>\n",
       "      <th>346977</th>\n",
       "      <td>zp-K5s3pGTWuuaVBWo6WZA</td>\n",
       "      <td>HoneyBaked Ham</td>\n",
       "      <td>[Caterers, Event Planning &amp; Services, Meat Sho...</td>\n",
       "      <td>4.0</td>\n",
       "      <td>9</td>\n",
       "      <td>2015-06-02</td>\n",
       "      <td>10</td>\n",
       "      <td>Gy7n0ebtTLUcVec_OMBcEA</td>\n",
       "      <td>3</td>\n",
       "      <td>Let's get one thing straight: I am not a fan o...</td>\n",
       "      <td>review</td>\n",
       "      <td>8</td>\n",
       "      <td>bLbSNkLggFnqwNNzzq-Ijw</td>\n",
       "      <td>1</td>\n",
       "    </tr>\n",
       "    <tr>\n",
       "      <th>346982</th>\n",
       "      <td>zpoZ6WyQUYff18-z4ZU1mA</td>\n",
       "      <td>The Goodwich</td>\n",
       "      <td>[Restaurants, Street Vendors, Sandwiches, Food...</td>\n",
       "      <td>4.5</td>\n",
       "      <td>9</td>\n",
       "      <td>2016-09-27</td>\n",
       "      <td>1</td>\n",
       "      <td>GM9M_8oKCxA3VCBhKV3zJg</td>\n",
       "      <td>5</td>\n",
       "      <td>Wow. Now there's a sit-down indoor place, they...</td>\n",
       "      <td>review</td>\n",
       "      <td>4</td>\n",
       "      <td>B1829_hxXSEpDPEDJtYeIw</td>\n",
       "      <td>1</td>\n",
       "    </tr>\n",
       "    <tr>\n",
       "      <th>347098</th>\n",
       "      <td>zpoZ6WyQUYff18-z4ZU1mA</td>\n",
       "      <td>The Goodwich</td>\n",
       "      <td>[Restaurants, Street Vendors, Sandwiches, Food...</td>\n",
       "      <td>4.5</td>\n",
       "      <td>0</td>\n",
       "      <td>2016-01-01</td>\n",
       "      <td>0</td>\n",
       "      <td>KqwJclsmH23SWYLEIXgZbA</td>\n",
       "      <td>5</td>\n",
       "      <td>Best sandwich in Vegas!\\n\\nI cam here for lunc...</td>\n",
       "      <td>review</td>\n",
       "      <td>0</td>\n",
       "      <td>JaqcCU3nxReTW2cBLHounA</td>\n",
       "      <td>1</td>\n",
       "    </tr>\n",
       "    <tr>\n",
       "      <th>347169</th>\n",
       "      <td>zpoZ6WyQUYff18-z4ZU1mA</td>\n",
       "      <td>The Goodwich</td>\n",
       "      <td>[Restaurants, Street Vendors, Sandwiches, Food...</td>\n",
       "      <td>4.5</td>\n",
       "      <td>17</td>\n",
       "      <td>2016-05-22</td>\n",
       "      <td>7</td>\n",
       "      <td>GCj0N7SPAEuyYPukTnt6cQ</td>\n",
       "      <td>4</td>\n",
       "      <td>It feels like I've been waiting ages for Goodw...</td>\n",
       "      <td>review</td>\n",
       "      <td>17</td>\n",
       "      <td>bLbSNkLggFnqwNNzzq-Ijw</td>\n",
       "      <td>1</td>\n",
       "    </tr>\n",
       "    <tr>\n",
       "      <th>347211</th>\n",
       "      <td>zsQk990PubOHjr1YcLkQFw</td>\n",
       "      <td>Dakao Sandwiches</td>\n",
       "      <td>[Restaurants, Sandwiches, Vietnamese]</td>\n",
       "      <td>4.0</td>\n",
       "      <td>4</td>\n",
       "      <td>2015-09-15</td>\n",
       "      <td>3</td>\n",
       "      <td>Lt9iInCM677t5-RaFBPEdA</td>\n",
       "      <td>4</td>\n",
       "      <td>I had heard that this palace is the best in Ve...</td>\n",
       "      <td>review</td>\n",
       "      <td>5</td>\n",
       "      <td>B1829_hxXSEpDPEDJtYeIw</td>\n",
       "      <td>1</td>\n",
       "    </tr>\n",
       "    <tr>\n",
       "      <th>347410</th>\n",
       "      <td>zuwba6QEBIDZT0tJZmNhdQ</td>\n",
       "      <td>Kobe Sushi Bar</td>\n",
       "      <td>[Sushi Bars, Restaurants, Tapas Bars, Japanese]</td>\n",
       "      <td>3.0</td>\n",
       "      <td>4</td>\n",
       "      <td>2015-01-29</td>\n",
       "      <td>2</td>\n",
       "      <td>XQDK_c8gueMcXMlxjC-U8Q</td>\n",
       "      <td>3</td>\n",
       "      <td>I love sushi as much as the next person, and f...</td>\n",
       "      <td>review</td>\n",
       "      <td>7</td>\n",
       "      <td>bLbSNkLggFnqwNNzzq-Ijw</td>\n",
       "      <td>1</td>\n",
       "    </tr>\n",
       "    <tr>\n",
       "      <th>347421</th>\n",
       "      <td>zwNC-Ow4eIMan2__bS9-rg</td>\n",
       "      <td>Taco Y Taco</td>\n",
       "      <td>[Mexican, Vegetarian, Restaurants]</td>\n",
       "      <td>4.0</td>\n",
       "      <td>1</td>\n",
       "      <td>2015-12-10</td>\n",
       "      <td>0</td>\n",
       "      <td>gFPa6WdMlQYZOhB98zJ2tw</td>\n",
       "      <td>5</td>\n",
       "      <td>Just when I gave up hope for any good Mexican ...</td>\n",
       "      <td>review</td>\n",
       "      <td>3</td>\n",
       "      <td>B1829_hxXSEpDPEDJtYeIw</td>\n",
       "      <td>1</td>\n",
       "    </tr>\n",
       "  </tbody>\n",
       "</table>\n",
       "<p>1248 rows × 14 columns</p>\n",
       "</div>"
      ],
      "text/plain": [
       "                   business_id                             name  \\\n",
       "385     -3zffZUHoY8bQjGfPSoBKQ                     Michael Mina   \n",
       "617     -BS4aZAQm9u41YnB9MUASA                           Argana   \n",
       "871     -C8sSrFqaCxp51pyo-fQLQ                    The Rice Shop   \n",
       "892     -CQokjildrY7UZezXCdEBw                       Toddy Shop   \n",
       "894     -CQokjildrY7UZezXCdEBw                       Toddy Shop   \n",
       "994     -FcZY7a7qgxTUlTvwuyJnQ                     8 Noodle Bar   \n",
       "1054    -FcZY7a7qgxTUlTvwuyJnQ                     8 Noodle Bar   \n",
       "1258    -IWsoxH7mLJTTpU5MmWY4w                          Kinh Do   \n",
       "1628    -NjZ5HZApXjRJaTVZeSO_w          San Salvador Restaurant   \n",
       "1659    -OEIW0dO96-492qa_luxaw                      Aces & Ales   \n",
       "1977    -RJ216TTIghZshCkUlD1WQ                    Sushi Takashi   \n",
       "2161    -U7tvCtaraTQ9b0zBhpBMA                 MGM Grand Buffet   \n",
       "3152    -_TSaVr53qiEGqMkwyEMaQ     Parsley Modern Mediterranean   \n",
       "3438    -a857YYdjzgOdOjFFRsRXQ                        Beer Park   \n",
       "3724    -ed0Yc9on37RoIoG2ZgxBA                          Le Thai   \n",
       "3912    -ed0Yc9on37RoIoG2ZgxBA                          Le Thai   \n",
       "4178    -sEbDB_5jI_yIlklu1o1VQ                 Haifa Restaurant   \n",
       "4423    -wCtRhzWJ40Z4F8mmg7kWg                      Herringbone   \n",
       "4846    01VPJkcU0m8WzlA7dCEpVQ                        Tea Space   \n",
       "5312    07AZL5XenCQ_-op_onKLdw                        BLT Steak   \n",
       "5776    0CB7YB1qRSWLQvMbHw3Fmw               Easy Life Boba Tea   \n",
       "6053    0EgYXYjt2XJL4hlsKnzrcw                         PublicUs   \n",
       "6101    0EgYXYjt2XJL4hlsKnzrcw                         PublicUs   \n",
       "6248    0EgYXYjt2XJL4hlsKnzrcw                         PublicUs   \n",
       "6344    0EpnzIpeFvhISkxMTIv9WA  Paradise Place Jamaican Cuisine   \n",
       "6592    0Hcks5q-DgJbDlmEWolx4A                   Bonefish Grill   \n",
       "6974    0NmTwqYEQiKErDv4a55obg                        Scarpetta   \n",
       "7071    0NmTwqYEQiKErDv4a55obg                        Scarpetta   \n",
       "7230    0OdZXIKQypu6vplpxFilsA           Kneaders Bakery & Cafe   \n",
       "7680    0WoQQlMXVIDEgI0xNdENKA                     Feast Buffet   \n",
       "...                        ...                              ...   \n",
       "341388  yp2nRId4v-bDtrYl5A3F-g         Nittaya's Secret Kitchen   \n",
       "341471  yp2nRId4v-bDtrYl5A3F-g         Nittaya's Secret Kitchen   \n",
       "341502  ypfFfR3-PbtoslIhohNstw                 Lee's Korean BBQ   \n",
       "342122  ysv6yhVYOoH9Pf7PlMyD0g                      Wahlburgers   \n",
       "342192  ytk8XVFegCSdSBXLDZutpw                    Bachi Kitchen   \n",
       "342392  ytk8XVFegCSdSBXLDZutpw                    Bachi Kitchen   \n",
       "342482  yvqcZrHixuf_oIUW83xUcQ      Macayo's Mexican Restaurant   \n",
       "342679  z-OhppazxWfHnUCzFTKQhw                  Snow White Cafe   \n",
       "342762  z-OhppazxWfHnUCzFTKQhw                  Snow White Cafe   \n",
       "343536  z65wZ11iw7Y-WBZ9UDZhnA                       Pisa Pizza   \n",
       "344287  zK7sltLeRRioqYwgLiWUIA   Flippin' Good Burgers & Shakes   \n",
       "344459  zRqi6L1u-YmmVAHjeUbGMQ                       SkinnyFATS   \n",
       "344744  zRqi6L1u-YmmVAHjeUbGMQ                       SkinnyFATS   \n",
       "344795  zRqi6L1u-YmmVAHjeUbGMQ                       SkinnyFATS   \n",
       "344974  zRqi6L1u-YmmVAHjeUbGMQ                       SkinnyFATS   \n",
       "345278  zU9w_xRlQSRIYXxGo-HSOA                         Carnegie   \n",
       "345787  z_46RY-L3vcMrH3-wxCp9w                       Sushi Hero   \n",
       "346098  zcScEL0WEdFkROcnz5379g                 The Boiling Crab   \n",
       "346282  zdE82PiD6wquvjYLyhOJNA                     KoMex Fusion   \n",
       "346474  zdcesxBdjljRgS0QmCgkBg              Harrie's Bagelmania   \n",
       "346571  zjvnqTjBp56NhMp1GrlO5g           Mingo Kitchen & Lounge   \n",
       "346595  zjvnqTjBp56NhMp1GrlO5g           Mingo Kitchen & Lounge   \n",
       "346685  zmltWmTpoBt5sCU-5Kzj-Q                     PT's Brewing   \n",
       "346977  zp-K5s3pGTWuuaVBWo6WZA                   HoneyBaked Ham   \n",
       "346982  zpoZ6WyQUYff18-z4ZU1mA                     The Goodwich   \n",
       "347098  zpoZ6WyQUYff18-z4ZU1mA                     The Goodwich   \n",
       "347169  zpoZ6WyQUYff18-z4ZU1mA                     The Goodwich   \n",
       "347211  zsQk990PubOHjr1YcLkQFw                 Dakao Sandwiches   \n",
       "347410  zuwba6QEBIDZT0tJZmNhdQ                   Kobe Sushi Bar   \n",
       "347421  zwNC-Ow4eIMan2__bS9-rg                      Taco Y Taco   \n",
       "\n",
       "                                               categories  avg_stars  cool  \\\n",
       "385     [Restaurants, Bars, Nightlife, Seafood, Americ...        4.0     9   \n",
       "617                               [Moroccan, Restaurants]        4.5     3   \n",
       "871     [Asian Fusion, Specialty Food, Comfort Food, R...        4.5    15   \n",
       "892     [Indian, Restaurants, American (Traditional), ...        5.0    10   \n",
       "894     [Indian, Restaurants, American (Traditional), ...        5.0    24   \n",
       "994        [Asian Fusion, Chinese, Restaurants, Japanese]        3.0     9   \n",
       "1054       [Asian Fusion, Chinese, Restaurants, Japanese]        3.0     7   \n",
       "1258                   [Restaurants, Noodles, Vietnamese]        4.0     4   \n",
       "1628    [American (New), Salvadoran, Restaurants, Mexi...        4.0    12   \n",
       "1659    [Music Venues, Beer Bar, Arts & Entertainment,...        4.0     0   \n",
       "1977                  [Japanese, Restaurants, Sushi Bars]        4.5     9   \n",
       "2161       [Restaurants, Buffets, American (Traditional)]        2.5     6   \n",
       "3152    [Sandwiches, Restaurants, Mediterranean, Middl...        4.5    11   \n",
       "3438    [Nightlife, Restaurants, Beer Bar, Bars, Cockt...        4.0     9   \n",
       "3724         [Thai, Beer Gardens, Nightlife, Restaurants]        4.0     0   \n",
       "3912         [Thai, Beer Gardens, Nightlife, Restaurants]        4.0     5   \n",
       "4178    [Halal, Mediterranean, Restaurants, Kosher, Mo...        3.5    12   \n",
       "4423               [Restaurants, American (New), Seafood]        4.0     9   \n",
       "4846    [Restaurants, American (Traditional), Tea Room...        4.5    14   \n",
       "5312    [American (Traditional), Steakhouses, Restaura...        4.0    10   \n",
       "5776    [Restaurants, Bubble Tea, Coffee & Tea, Taiwan...        4.0     0   \n",
       "6053    [Cafes, American (New), Restaurants, Food, Cof...        4.5     8   \n",
       "6101    [Cafes, American (New), Restaurants, Food, Cof...        4.5     0   \n",
       "6248    [Cafes, American (New), Restaurants, Food, Cof...        4.5    10   \n",
       "6344              [Caribbean, Seafood, Food, Restaurants]        4.5    10   \n",
       "6592               [Restaurants, Seafood, American (New)]        3.5     8   \n",
       "6974                               [Restaurants, Italian]        4.0     0   \n",
       "7071                               [Restaurants, Italian]        4.0    17   \n",
       "7230    [Food, Restaurants, Bakeries, Desserts, Sandwi...        3.5    19   \n",
       "7680                               [Buffets, Restaurants]        3.5     3   \n",
       "...                                                   ...        ...   ...   \n",
       "341388                                [Restaurants, Thai]        4.0     7   \n",
       "341471                                [Restaurants, Thai]        4.0    45   \n",
       "341502              [Local Services, Restaurants, Korean]        3.5     3   \n",
       "342122     [American (Traditional), Restaurants, Burgers]        3.0    10   \n",
       "342192  [Breakfast & Brunch, Asian Fusion, Nightlife, ...        3.5     3   \n",
       "342392  [Breakfast & Brunch, Asian Fusion, Nightlife, ...        3.5     9   \n",
       "342482                             [Mexican, Restaurants]        3.0    12   \n",
       "342679  [Shaved Ice, Cafes, Coffee & Tea, Restaurants,...        4.0     3   \n",
       "342762  [Shaved Ice, Cafes, Coffee & Tea, Restaurants,...        4.0    27   \n",
       "343536                               [Restaurants, Pizza]        4.0    12   \n",
       "344287  [Food, Burgers, Local Flavor, Desserts, Restau...        4.0    11   \n",
       "344459  [Food, Breakfast & Brunch, American (New), Jui...        4.5     1   \n",
       "344744  [Food, Breakfast & Brunch, American (New), Jui...        4.5    10   \n",
       "344795  [Food, Breakfast & Brunch, American (New), Jui...        4.5     0   \n",
       "344974  [Food, Breakfast & Brunch, American (New), Jui...        4.5     5   \n",
       "345278  [Sandwiches, American (New), Delis, Restaurant...        3.0     0   \n",
       "345787                [Sushi Bars, Japanese, Restaurants]        5.0     9   \n",
       "346098               [Seafood, Cajun/Creole, Restaurants]        4.0    10   \n",
       "346282       [Restaurants, Asian Fusion, Korean, Mexican]        4.5     0   \n",
       "346474                 [Bagels, Restaurants, Delis, Food]        4.0     3   \n",
       "346571  [Nightlife, Lounges, Bars, Restaurants, Mexica...        4.0     0   \n",
       "346595  [Nightlife, Lounges, Bars, Restaurants, Mexica...        4.0    10   \n",
       "346685    [Bars, Food, Restaurants, Breweries, Nightlife]        3.5     0   \n",
       "346977  [Caterers, Event Planning & Services, Meat Sho...        4.0     9   \n",
       "346982  [Restaurants, Street Vendors, Sandwiches, Food...        4.5     9   \n",
       "347098  [Restaurants, Street Vendors, Sandwiches, Food...        4.5     0   \n",
       "347169  [Restaurants, Street Vendors, Sandwiches, Food...        4.5    17   \n",
       "347211              [Restaurants, Sandwiches, Vietnamese]        4.0     4   \n",
       "347410    [Sushi Bars, Restaurants, Tapas Bars, Japanese]        3.0     4   \n",
       "347421                 [Mexican, Vegetarian, Restaurants]        4.0     1   \n",
       "\n",
       "              date  funny               review_id  stars  \\\n",
       "385     2015-07-04      7  9RcSDjgN3ifLoSKVwErmXQ      4   \n",
       "617     2015-02-21      4  GTsscc2tTG1YxTaJ1Iyl3g      4   \n",
       "871     2015-12-02      9  16FPFJ0aN0WCOYPYm-Gp1Q      4   \n",
       "892     2016-12-12      8  alUQs2mGsfPCzqbs3H1aBw      5   \n",
       "894     2016-11-06     15  pHfISlpZ6rwHiFK2HfUpZg      5   \n",
       "994     2016-08-09      4  8wu0q5bPcgORe-xCpottgA      4   \n",
       "1054    2015-09-28      7  DazOeGA-0SwSw5wmDqbiAA      3   \n",
       "1258    2015-10-02      5  xSlPCyBTxP1hyJ3_gR21DQ      4   \n",
       "1628    2015-12-19      8  6vx28G5Ch2fkxUvR1pkNHQ      4   \n",
       "1659    2016-10-22      0  giJNuwmRjJFTL5OLpFVyjQ      3   \n",
       "1977    2015-07-08      8  iOAkp1zqGO2tloACw4f_vQ      4   \n",
       "2161    2015-10-18      5  GGXF80g1-kWrGGH4uwj2Gg      3   \n",
       "3152    2016-07-06      7  8u_ZNI82IqhB3hxSAIo3fA      4   \n",
       "3438    2016-06-18      5  WQEDaxzHHst0BwP13oAfog      4   \n",
       "3724    2017-01-08      0  zjV9ivwCIna8fDJdtg0dRA      4   \n",
       "3912    2015-07-30      7  R-Fj4mJ87kN_rCAvQYJs-Q      2   \n",
       "4178    2016-04-20     15  knCp-2h9yjo9nfpvQVA9mw      2   \n",
       "4423    2016-01-13      7  4b2QqpeelVygsxF2MLAmMQ      4   \n",
       "4846    2016-07-10      6  Kb45k_XQiTIgR70ZVBYVfQ      4   \n",
       "5312    2015-08-06     10  6jpp6kXWZRQ4VuiIDBiZBw      5   \n",
       "5776    2016-07-31      0  NW8rnAkb11VzgFdAMjf7Tg      4   \n",
       "6053    2015-04-18      5  zKQM1KLDfh_ydluLh-tBaQ      3   \n",
       "6101    2016-07-17      0  7NYPAmtsHL_eyJaiQy9_vQ      4   \n",
       "6248    2015-03-28      9  _7FBW11RBupFJClUHrDUBA      4   \n",
       "6344    2016-12-17      5  UpPJuqzRU5s3ga7EBns2nw      3   \n",
       "6592    2015-03-30      5  KoRw9rizXhFTDmIygNsE-w      4   \n",
       "6974    2016-07-23      0  MgcufEXk9px5HwQLV-D-sg      4   \n",
       "7071    2016-06-29     11  He0UBRVneAProWygChUYaw      3   \n",
       "7230    2016-09-16      9  EAuxbZnDV9KRsjBjdn7Cjw      3   \n",
       "7680    2016-09-07      1  OG-1Pbc-lBJZzRQHeefkSw      4   \n",
       "...            ...    ...                     ...    ...   \n",
       "341388  2016-08-14      4  bOt7n4Vbm_CGJbLBvQi9OA      3   \n",
       "341471  2015-08-19     28  jcvvYX5cA5M536wbv4GzvA      4   \n",
       "341502  2015-05-21      2  EGYeai_maKWuBh9_eLKMww      4   \n",
       "342122  2016-09-10      9  CO4ib7hEbqTLnHl90zL6aQ      2   \n",
       "342192  2016-07-31      1  E1fEygvsOjbTnF4Pc3VBuQ      4   \n",
       "342392  2015-12-19      8  YB1I2JcTueH-upggOEAz0w      3   \n",
       "342482  2016-04-18     10  NiJNJM6i3Iug4N_B3lkvBA      3   \n",
       "342679  2016-09-19      1  DNpJEzyVlo1zfVUfB5nYVQ      5   \n",
       "342762  2016-05-06     17  ItHZBiXH5vAyaYDwCE6F-g      4   \n",
       "343536  2016-11-10      9  9eT0BwSzjbP_tjzzDJaVtg      1   \n",
       "344287  2015-12-15      7  d6H5MoFYmj-RbCRWaKINMQ      3   \n",
       "344459  2015-03-13      4  Rqmhp4eT1l50R5Z3nN5V6Q      3   \n",
       "344744  2015-08-11      9  8NEyWXo0FvFsz0gYjxWp7w      4   \n",
       "344795  2016-05-02      0  GRkSTRn8lRtsxOrkcet4mg      4   \n",
       "344974  2015-03-24      5  j-LtgNdGG_7CIEt-1Req4w      3   \n",
       "345278  2016-01-02      0  WWZqOyaQI7LUBuCgQKlVfA      4   \n",
       "345787  2016-09-26     11  i4MbpJkuZazYbsBxvHFDRg      2   \n",
       "346098  2015-10-29      8  WtI-82_5fCOs9zPIJCgwZA      3   \n",
       "346282  2016-02-06      0  ZeCswkMtWMpZ3oAwo8sgKw      4   \n",
       "346474  2015-07-06      2  cvrbODtuH3fsgxZMen-jUA      3   \n",
       "346571  2016-02-06      0  AThbPIAcgd_H6Xzu5JsDkw      2   \n",
       "346595  2015-05-31      4  6xDTW6HFTRb-oCRk8FlC7g      4   \n",
       "346685  2016-03-03      0  gwMryxY9SJjgE4ZkbDX1Mg      3   \n",
       "346977  2015-06-02     10  Gy7n0ebtTLUcVec_OMBcEA      3   \n",
       "346982  2016-09-27      1  GM9M_8oKCxA3VCBhKV3zJg      5   \n",
       "347098  2016-01-01      0  KqwJclsmH23SWYLEIXgZbA      5   \n",
       "347169  2016-05-22      7  GCj0N7SPAEuyYPukTnt6cQ      4   \n",
       "347211  2015-09-15      3  Lt9iInCM677t5-RaFBPEdA      4   \n",
       "347410  2015-01-29      2  XQDK_c8gueMcXMlxjC-U8Q      3   \n",
       "347421  2015-12-10      0  gFPa6WdMlQYZOhB98zJ2tw      5   \n",
       "\n",
       "                                                     text    type  useful  \\\n",
       "385     I had studied the menus online and had pretty ...  review      14   \n",
       "617     I had this place bookmarked for ages and final...  review       5   \n",
       "871     Formerly a dismal-at-best fried rice counter, ...  review      15   \n",
       "892     Chef Hemant Kishore is doing amazing things wi...  review      13   \n",
       "894     The Toddy Shop is the epitome of what I love a...  review      27   \n",
       "994     After four visits to 8 Noodle Bar, I have to w...  review      11   \n",
       "1054    If you're walking through Red Rock Casino, thi...  review       9   \n",
       "1258    Mixed feelings about this place, but they have...  review       3   \n",
       "1628    The pupusas revueltas here are so freaking goo...  review      14   \n",
       "1659    This review is for 3.5 stars. \\n\\nI like the o...  review       0   \n",
       "1977    I didn't partake of the 10- or 12-course meal ...  review      13   \n",
       "2161    It's been about 10 years since I was to the MG...  review      13   \n",
       "3152    A poor experience at the other location kept m...  review      18   \n",
       "3438    Beer Park must have been designed by one of th...  review      16   \n",
       "3724    Considering this was Fremont St. I was expecti...  review       0   \n",
       "3912    This spot is lauded as one of Vegas' best Thai...  review      10   \n",
       "4178    I found this spot on Yelp, checked out the web...  review      18   \n",
       "4423    Three of us met for lunch at Brian Malarkey's ...  review      16   \n",
       "4846    Tea Space has the best boba in the area but th...  review      20   \n",
       "5312    In a word: incredible. I wasn't expecting much...  review      14   \n",
       "5776    I just happened to be next door finishing up w...  review       0   \n",
       "6053    I stopped in here for a late lunch/early dinne...  review       8   \n",
       "6101    A typical high quality brunch place in downtow...  review       0   \n",
       "6248    A welcome new addition to the local coffee sce...  review      12   \n",
       "6344    I was so excited to see the signage for this n...  review      18   \n",
       "6592    With a new menu roll-out and a $10 off coupon ...  review       8   \n",
       "6974    This review is for 4.5 stars.\\n\\nSome of the b...  review       0   \n",
       "7071    I thought Scarpetta was supposed to be a step ...  review      23   \n",
       "7230    PROS:\\n+ So much fresh bread, several varietie...  review      19   \n",
       "7680    I came here on a Friday for their seafood buff...  review       3   \n",
       "...                                                   ...     ...     ...   \n",
       "341388  On the way back from DTLV, I stopped at Nittay...  review      15   \n",
       "341471  The \"Not So Secret Salad\" is one of my favorit...  review      51   \n",
       "341502  Don't underestimate this place based on the ex...  review       3   \n",
       "342122  Marky Mark & Co. are failing the masses. Came ...  review      26   \n",
       "342192  The menu is identical as far as I noticed to b...  review       3   \n",
       "342392  The burgers are great, but the HH offerings ne...  review      10   \n",
       "342482  \"White-washed Mexican food\"? Yeah, kind of. Yo...  review      18   \n",
       "342679  I LOVE shaved ice, and my favorite is the Japa...  review       4   \n",
       "342762  I've been waiting for Snow White to open since...  review      27   \n",
       "343536  The garlic knots and calzones on display looke...  review      20   \n",
       "344287  Flippin' Good is a flippin' cheap option for F...  review      11   \n",
       "344459  i was a bit confused as to why this place is c...  review       3   \n",
       "344744  I came here with a party numbering about 15 an...  review      14   \n",
       "344795  I'm not sure I'm on the hype train, but Skinny...  review       0   \n",
       "344974  This location is brighter and more spacious th...  review       6   \n",
       "345278  This restaurant deserves 4 stars for the porti...  review       0   \n",
       "345787  There's a third Sushi Hero in town- the first ...  review      22   \n",
       "346098  Team Hot & Juicy! Sorry, for fresh seafood, I ...  review      14   \n",
       "346282  KoMex was awesome.  Just what you'd expect wit...  review       0   \n",
       "346474  Much like the Bagel Café on the west side of t...  review       8   \n",
       "346571  I was not a fan of Mingo Kitchen, especially w...  review       0   \n",
       "346595  Hit this spot for a hoppin' happy hour, 3-7PM ...  review       8   \n",
       "346685  Eh.  Plenty of better brews in town.  It is so...  review       1   \n",
       "346977  Let's get one thing straight: I am not a fan o...  review       8   \n",
       "346982  Wow. Now there's a sit-down indoor place, they...  review       4   \n",
       "347098  Best sandwich in Vegas!\\n\\nI cam here for lunc...  review       0   \n",
       "347169  It feels like I've been waiting ages for Goodw...  review      17   \n",
       "347211  I had heard that this palace is the best in Ve...  review       5   \n",
       "347410  I love sushi as much as the next person, and f...  review       7   \n",
       "347421  Just when I gave up hope for any good Mexican ...  review       3   \n",
       "\n",
       "                       user_id  count  \n",
       "385     PKEzKWv_FktMm2mGPjwd0Q      1  \n",
       "617     bLbSNkLggFnqwNNzzq-Ijw      1  \n",
       "871     bLbSNkLggFnqwNNzzq-Ijw      1  \n",
       "892     PKEzKWv_FktMm2mGPjwd0Q      1  \n",
       "894     bLbSNkLggFnqwNNzzq-Ijw      1  \n",
       "994     PKEzKWv_FktMm2mGPjwd0Q      1  \n",
       "1054    bLbSNkLggFnqwNNzzq-Ijw      1  \n",
       "1258    bLbSNkLggFnqwNNzzq-Ijw      1  \n",
       "1628    bLbSNkLggFnqwNNzzq-Ijw      1  \n",
       "1659    JaqcCU3nxReTW2cBLHounA      1  \n",
       "1977    bLbSNkLggFnqwNNzzq-Ijw      1  \n",
       "2161    PKEzKWv_FktMm2mGPjwd0Q      1  \n",
       "3152    bLbSNkLggFnqwNNzzq-Ijw      1  \n",
       "3438    bLbSNkLggFnqwNNzzq-Ijw      1  \n",
       "3724    JaqcCU3nxReTW2cBLHounA      1  \n",
       "3912    bLbSNkLggFnqwNNzzq-Ijw      1  \n",
       "4178    bLbSNkLggFnqwNNzzq-Ijw      1  \n",
       "4423    PKEzKWv_FktMm2mGPjwd0Q      1  \n",
       "4846    bLbSNkLggFnqwNNzzq-Ijw      1  \n",
       "5312    bLbSNkLggFnqwNNzzq-Ijw      1  \n",
       "5776    B1829_hxXSEpDPEDJtYeIw      1  \n",
       "6053    PKEzKWv_FktMm2mGPjwd0Q      1  \n",
       "6101    JaqcCU3nxReTW2cBLHounA      1  \n",
       "6248    bLbSNkLggFnqwNNzzq-Ijw      1  \n",
       "6344    bLbSNkLggFnqwNNzzq-Ijw      1  \n",
       "6592    bLbSNkLggFnqwNNzzq-Ijw      1  \n",
       "6974    JaqcCU3nxReTW2cBLHounA      1  \n",
       "7071    bLbSNkLggFnqwNNzzq-Ijw      1  \n",
       "7230    bLbSNkLggFnqwNNzzq-Ijw      1  \n",
       "7680    B1829_hxXSEpDPEDJtYeIw      1  \n",
       "...                        ...    ...  \n",
       "341388  PKEzKWv_FktMm2mGPjwd0Q      1  \n",
       "341471  bLbSNkLggFnqwNNzzq-Ijw      1  \n",
       "341502  B1829_hxXSEpDPEDJtYeIw      1  \n",
       "342122  bLbSNkLggFnqwNNzzq-Ijw      1  \n",
       "342192  B1829_hxXSEpDPEDJtYeIw      1  \n",
       "342392  bLbSNkLggFnqwNNzzq-Ijw      1  \n",
       "342482  bLbSNkLggFnqwNNzzq-Ijw      1  \n",
       "342679  B1829_hxXSEpDPEDJtYeIw      1  \n",
       "342762  bLbSNkLggFnqwNNzzq-Ijw      1  \n",
       "343536  bLbSNkLggFnqwNNzzq-Ijw      1  \n",
       "344287  bLbSNkLggFnqwNNzzq-Ijw      1  \n",
       "344459  B1829_hxXSEpDPEDJtYeIw      1  \n",
       "344744  PKEzKWv_FktMm2mGPjwd0Q      1  \n",
       "344795  JaqcCU3nxReTW2cBLHounA      1  \n",
       "344974  bLbSNkLggFnqwNNzzq-Ijw      1  \n",
       "345278  JaqcCU3nxReTW2cBLHounA      1  \n",
       "345787  bLbSNkLggFnqwNNzzq-Ijw      1  \n",
       "346098  bLbSNkLggFnqwNNzzq-Ijw      1  \n",
       "346282  JaqcCU3nxReTW2cBLHounA      1  \n",
       "346474  bLbSNkLggFnqwNNzzq-Ijw      1  \n",
       "346571  JaqcCU3nxReTW2cBLHounA      1  \n",
       "346595  bLbSNkLggFnqwNNzzq-Ijw      1  \n",
       "346685  JaqcCU3nxReTW2cBLHounA      1  \n",
       "346977  bLbSNkLggFnqwNNzzq-Ijw      1  \n",
       "346982  B1829_hxXSEpDPEDJtYeIw      1  \n",
       "347098  JaqcCU3nxReTW2cBLHounA      1  \n",
       "347169  bLbSNkLggFnqwNNzzq-Ijw      1  \n",
       "347211  B1829_hxXSEpDPEDJtYeIw      1  \n",
       "347410  bLbSNkLggFnqwNNzzq-Ijw      1  \n",
       "347421  B1829_hxXSEpDPEDJtYeIw      1  \n",
       "\n",
       "[1248 rows x 14 columns]"
      ]
     },
     "execution_count": 63,
     "metadata": {},
     "output_type": "execute_result"
    }
   ],
   "source": [
    "df_cleaned = df[flt1|flt2|flt3|flt4]\n"
   ]
  },
  {
   "cell_type": "markdown",
   "metadata": {},
   "source": [
    "#### Create utility matrix from records"
   ]
  },
  {
   "cell_type": "code",
   "execution_count": 64,
   "metadata": {
    "collapsed": true
   },
   "outputs": [],
   "source": [
    "df_utility = pd.pivot_table(data=df_cleaned, \n",
    "                            values='stars', \n",
    "                            index='user_id', \n",
    "                            columns='business_id', \n",
    "                            fill_value=0)"
   ]
  },
  {
   "cell_type": "code",
   "execution_count": 87,
   "metadata": {},
   "outputs": [
    {
     "data": {
      "text/html": [
       "<div>\n",
       "<table border=\"1\" class=\"dataframe\">\n",
       "  <thead>\n",
       "    <tr style=\"text-align: right;\">\n",
       "      <th>business_id</th>\n",
       "      <th>-3zffZUHoY8bQjGfPSoBKQ</th>\n",
       "      <th>-BS4aZAQm9u41YnB9MUASA</th>\n",
       "      <th>-C8sSrFqaCxp51pyo-fQLQ</th>\n",
       "      <th>-CQokjildrY7UZezXCdEBw</th>\n",
       "      <th>-FcZY7a7qgxTUlTvwuyJnQ</th>\n",
       "      <th>-IWsoxH7mLJTTpU5MmWY4w</th>\n",
       "      <th>-NjZ5HZApXjRJaTVZeSO_w</th>\n",
       "      <th>-OEIW0dO96-492qa_luxaw</th>\n",
       "      <th>-RJ216TTIghZshCkUlD1WQ</th>\n",
       "      <th>-U7tvCtaraTQ9b0zBhpBMA</th>\n",
       "      <th>...</th>\n",
       "      <th>zcScEL0WEdFkROcnz5379g</th>\n",
       "      <th>zdE82PiD6wquvjYLyhOJNA</th>\n",
       "      <th>zdcesxBdjljRgS0QmCgkBg</th>\n",
       "      <th>zjvnqTjBp56NhMp1GrlO5g</th>\n",
       "      <th>zmltWmTpoBt5sCU-5Kzj-Q</th>\n",
       "      <th>zp-K5s3pGTWuuaVBWo6WZA</th>\n",
       "      <th>zpoZ6WyQUYff18-z4ZU1mA</th>\n",
       "      <th>zsQk990PubOHjr1YcLkQFw</th>\n",
       "      <th>zuwba6QEBIDZT0tJZmNhdQ</th>\n",
       "      <th>zwNC-Ow4eIMan2__bS9-rg</th>\n",
       "    </tr>\n",
       "    <tr>\n",
       "      <th>user_id</th>\n",
       "      <th></th>\n",
       "      <th></th>\n",
       "      <th></th>\n",
       "      <th></th>\n",
       "      <th></th>\n",
       "      <th></th>\n",
       "      <th></th>\n",
       "      <th></th>\n",
       "      <th></th>\n",
       "      <th></th>\n",
       "      <th></th>\n",
       "      <th></th>\n",
       "      <th></th>\n",
       "      <th></th>\n",
       "      <th></th>\n",
       "      <th></th>\n",
       "      <th></th>\n",
       "      <th></th>\n",
       "      <th></th>\n",
       "      <th></th>\n",
       "      <th></th>\n",
       "    </tr>\n",
       "  </thead>\n",
       "  <tbody>\n",
       "    <tr>\n",
       "      <th>B1829_hxXSEpDPEDJtYeIw</th>\n",
       "      <td>0</td>\n",
       "      <td>0</td>\n",
       "      <td>0</td>\n",
       "      <td>0</td>\n",
       "      <td>0</td>\n",
       "      <td>0</td>\n",
       "      <td>0</td>\n",
       "      <td>0</td>\n",
       "      <td>0</td>\n",
       "      <td>0</td>\n",
       "      <td>...</td>\n",
       "      <td>0</td>\n",
       "      <td>0</td>\n",
       "      <td>0</td>\n",
       "      <td>0</td>\n",
       "      <td>0</td>\n",
       "      <td>0</td>\n",
       "      <td>5</td>\n",
       "      <td>4</td>\n",
       "      <td>0</td>\n",
       "      <td>5</td>\n",
       "    </tr>\n",
       "    <tr>\n",
       "      <th>JaqcCU3nxReTW2cBLHounA</th>\n",
       "      <td>0</td>\n",
       "      <td>0</td>\n",
       "      <td>0</td>\n",
       "      <td>0</td>\n",
       "      <td>0</td>\n",
       "      <td>0</td>\n",
       "      <td>0</td>\n",
       "      <td>3</td>\n",
       "      <td>0</td>\n",
       "      <td>0</td>\n",
       "      <td>...</td>\n",
       "      <td>0</td>\n",
       "      <td>4</td>\n",
       "      <td>0</td>\n",
       "      <td>2</td>\n",
       "      <td>3</td>\n",
       "      <td>0</td>\n",
       "      <td>5</td>\n",
       "      <td>0</td>\n",
       "      <td>0</td>\n",
       "      <td>0</td>\n",
       "    </tr>\n",
       "    <tr>\n",
       "      <th>PKEzKWv_FktMm2mGPjwd0Q</th>\n",
       "      <td>4</td>\n",
       "      <td>0</td>\n",
       "      <td>0</td>\n",
       "      <td>5</td>\n",
       "      <td>4</td>\n",
       "      <td>0</td>\n",
       "      <td>0</td>\n",
       "      <td>0</td>\n",
       "      <td>0</td>\n",
       "      <td>3</td>\n",
       "      <td>...</td>\n",
       "      <td>0</td>\n",
       "      <td>0</td>\n",
       "      <td>0</td>\n",
       "      <td>0</td>\n",
       "      <td>0</td>\n",
       "      <td>0</td>\n",
       "      <td>0</td>\n",
       "      <td>0</td>\n",
       "      <td>0</td>\n",
       "      <td>0</td>\n",
       "    </tr>\n",
       "    <tr>\n",
       "      <th>bLbSNkLggFnqwNNzzq-Ijw</th>\n",
       "      <td>0</td>\n",
       "      <td>4</td>\n",
       "      <td>4</td>\n",
       "      <td>5</td>\n",
       "      <td>3</td>\n",
       "      <td>4</td>\n",
       "      <td>4</td>\n",
       "      <td>0</td>\n",
       "      <td>4</td>\n",
       "      <td>0</td>\n",
       "      <td>...</td>\n",
       "      <td>3</td>\n",
       "      <td>0</td>\n",
       "      <td>3</td>\n",
       "      <td>4</td>\n",
       "      <td>0</td>\n",
       "      <td>3</td>\n",
       "      <td>4</td>\n",
       "      <td>0</td>\n",
       "      <td>3</td>\n",
       "      <td>0</td>\n",
       "    </tr>\n",
       "  </tbody>\n",
       "</table>\n",
       "<p>4 rows × 960 columns</p>\n",
       "</div>"
      ],
      "text/plain": [
       "business_id             -3zffZUHoY8bQjGfPSoBKQ  -BS4aZAQm9u41YnB9MUASA  \\\n",
       "user_id                                                                  \n",
       "B1829_hxXSEpDPEDJtYeIw                       0                       0   \n",
       "JaqcCU3nxReTW2cBLHounA                       0                       0   \n",
       "PKEzKWv_FktMm2mGPjwd0Q                       4                       0   \n",
       "bLbSNkLggFnqwNNzzq-Ijw                       0                       4   \n",
       "\n",
       "business_id             -C8sSrFqaCxp51pyo-fQLQ  -CQokjildrY7UZezXCdEBw  \\\n",
       "user_id                                                                  \n",
       "B1829_hxXSEpDPEDJtYeIw                       0                       0   \n",
       "JaqcCU3nxReTW2cBLHounA                       0                       0   \n",
       "PKEzKWv_FktMm2mGPjwd0Q                       0                       5   \n",
       "bLbSNkLggFnqwNNzzq-Ijw                       4                       5   \n",
       "\n",
       "business_id             -FcZY7a7qgxTUlTvwuyJnQ  -IWsoxH7mLJTTpU5MmWY4w  \\\n",
       "user_id                                                                  \n",
       "B1829_hxXSEpDPEDJtYeIw                       0                       0   \n",
       "JaqcCU3nxReTW2cBLHounA                       0                       0   \n",
       "PKEzKWv_FktMm2mGPjwd0Q                       4                       0   \n",
       "bLbSNkLggFnqwNNzzq-Ijw                       3                       4   \n",
       "\n",
       "business_id             -NjZ5HZApXjRJaTVZeSO_w  -OEIW0dO96-492qa_luxaw  \\\n",
       "user_id                                                                  \n",
       "B1829_hxXSEpDPEDJtYeIw                       0                       0   \n",
       "JaqcCU3nxReTW2cBLHounA                       0                       3   \n",
       "PKEzKWv_FktMm2mGPjwd0Q                       0                       0   \n",
       "bLbSNkLggFnqwNNzzq-Ijw                       4                       0   \n",
       "\n",
       "business_id             -RJ216TTIghZshCkUlD1WQ  -U7tvCtaraTQ9b0zBhpBMA  \\\n",
       "user_id                                                                  \n",
       "B1829_hxXSEpDPEDJtYeIw                       0                       0   \n",
       "JaqcCU3nxReTW2cBLHounA                       0                       0   \n",
       "PKEzKWv_FktMm2mGPjwd0Q                       0                       3   \n",
       "bLbSNkLggFnqwNNzzq-Ijw                       4                       0   \n",
       "\n",
       "business_id                      ...            zcScEL0WEdFkROcnz5379g  \\\n",
       "user_id                          ...                                     \n",
       "B1829_hxXSEpDPEDJtYeIw           ...                                 0   \n",
       "JaqcCU3nxReTW2cBLHounA           ...                                 0   \n",
       "PKEzKWv_FktMm2mGPjwd0Q           ...                                 0   \n",
       "bLbSNkLggFnqwNNzzq-Ijw           ...                                 3   \n",
       "\n",
       "business_id             zdE82PiD6wquvjYLyhOJNA  zdcesxBdjljRgS0QmCgkBg  \\\n",
       "user_id                                                                  \n",
       "B1829_hxXSEpDPEDJtYeIw                       0                       0   \n",
       "JaqcCU3nxReTW2cBLHounA                       4                       0   \n",
       "PKEzKWv_FktMm2mGPjwd0Q                       0                       0   \n",
       "bLbSNkLggFnqwNNzzq-Ijw                       0                       3   \n",
       "\n",
       "business_id             zjvnqTjBp56NhMp1GrlO5g  zmltWmTpoBt5sCU-5Kzj-Q  \\\n",
       "user_id                                                                  \n",
       "B1829_hxXSEpDPEDJtYeIw                       0                       0   \n",
       "JaqcCU3nxReTW2cBLHounA                       2                       3   \n",
       "PKEzKWv_FktMm2mGPjwd0Q                       0                       0   \n",
       "bLbSNkLggFnqwNNzzq-Ijw                       4                       0   \n",
       "\n",
       "business_id             zp-K5s3pGTWuuaVBWo6WZA  zpoZ6WyQUYff18-z4ZU1mA  \\\n",
       "user_id                                                                  \n",
       "B1829_hxXSEpDPEDJtYeIw                       0                       5   \n",
       "JaqcCU3nxReTW2cBLHounA                       0                       5   \n",
       "PKEzKWv_FktMm2mGPjwd0Q                       0                       0   \n",
       "bLbSNkLggFnqwNNzzq-Ijw                       3                       4   \n",
       "\n",
       "business_id             zsQk990PubOHjr1YcLkQFw  zuwba6QEBIDZT0tJZmNhdQ  \\\n",
       "user_id                                                                  \n",
       "B1829_hxXSEpDPEDJtYeIw                       4                       0   \n",
       "JaqcCU3nxReTW2cBLHounA                       0                       0   \n",
       "PKEzKWv_FktMm2mGPjwd0Q                       0                       0   \n",
       "bLbSNkLggFnqwNNzzq-Ijw                       0                       3   \n",
       "\n",
       "business_id             zwNC-Ow4eIMan2__bS9-rg  \n",
       "user_id                                         \n",
       "B1829_hxXSEpDPEDJtYeIw                       5  \n",
       "JaqcCU3nxReTW2cBLHounA                       0  \n",
       "PKEzKWv_FktMm2mGPjwd0Q                       0  \n",
       "bLbSNkLggFnqwNNzzq-Ijw                       0  \n",
       "\n",
       "[4 rows x 960 columns]"
      ]
     },
     "execution_count": 87,
     "metadata": {},
     "output_type": "execute_result"
    }
   ],
   "source": [
    "df_utility"
   ]
  },
  {
   "cell_type": "code",
   "execution_count": 72,
   "metadata": {},
   "outputs": [
    {
     "data": {
      "text/plain": [
       "array([[0, 0, 0, ..., 4, 0, 5],\n",
       "       [0, 0, 0, ..., 0, 0, 0],\n",
       "       [4, 0, 0, ..., 0, 0, 0],\n",
       "       [0, 4, 4, ..., 0, 3, 0]])"
      ]
     },
     "execution_count": 72,
     "metadata": {},
     "output_type": "execute_result"
    }
   ],
   "source": [
    "utility_mat = df_utility.as_matrix()"
   ]
  },
  {
   "cell_type": "markdown",
   "metadata": {},
   "source": [
    "## 2. Item-Item similarity recommender"
   ]
  },
  {
   "cell_type": "code",
   "execution_count": 79,
   "metadata": {},
   "outputs": [],
   "source": [
    "from sklearn.metrics.pairwise import cosine_similarity\n",
    "\n",
    "item_sim_mat = cosine_similarity(utility_mat.T)\n"
   ]
  },
  {
   "cell_type": "code",
   "execution_count": 80,
   "metadata": {
    "collapsed": true
   },
   "outputs": [],
   "source": [
    "least_to_most_sim_indexes = np.argsort(item_sim_mat, axis=1)\n",
    "\n",
    "# Neighborhoods\n",
    "neighborhood_size = 75\n",
    "neighborhoods = least_to_most_sim_indexes[:, -neighborhood_size:]"
   ]
  },
  {
   "cell_type": "code",
   "execution_count": 100,
   "metadata": {},
   "outputs": [
    {
     "data": {
      "text/plain": [
       "array([[240, 658, 311, ..., 157, 726,   0],\n",
       "       [122, 124, 654, ..., 536, 534, 479],\n",
       "       [122, 124, 654, ..., 536, 534, 479],\n",
       "       ..., \n",
       "       [604, 251, 244, ..., 144, 718, 959],\n",
       "       [122, 124, 654, ..., 536, 534, 479],\n",
       "       [604, 251, 244, ..., 144, 718, 959]])"
      ]
     },
     "execution_count": 100,
     "metadata": {},
     "output_type": "execute_result"
    }
   ],
   "source": [
    "neighborhoods"
   ]
  },
  {
   "cell_type": "code",
   "execution_count": 108,
   "metadata": {},
   "outputs": [],
   "source": [
    "user_id = 3\n"
   ]
  },
  {
   "cell_type": "code",
   "execution_count": 132,
   "metadata": {},
   "outputs": [
    {
     "name": "stdout",
     "output_type": "stream",
     "text": [
      "[ 0.          3.22666667  3.22666667  3.44434252  3.41026882  3.22666667\n",
      "  3.22666667  0.          3.22666667  0.          3.22666667  3.22666667\n",
      "  3.40184832  3.22666667  0.          3.22666667  3.22666667  0.\n",
      "  3.56448108  3.22666667  3.22666667  3.58061965  3.22666667  3.54784141\n",
      "  0.          0.          3.49996447  3.22666667  3.4826983   0.          0.\n",
      "  3.22666667  3.22666667  3.22666667  3.22666667  0.          3.3942412   0.\n",
      "  0.          0.          0.          0.          3.22666667  3.55909282\n",
      "  3.57205492  3.22666667  3.56751977  3.44434252  3.22666667  0.\n",
      "  3.22666667  3.22666667  0.          0.          0.          3.68833603\n",
      "  3.22666667  3.37006092  3.22666667  3.22666667  0.          3.22666667\n",
      "  0.          0.          3.22666667  0.          3.48230852  3.22666667\n",
      "  0.          0.          3.43550351  0.          3.32459752  3.22666667\n",
      "  3.22666667  3.56751977  0.          3.22666667  0.          3.22666667\n",
      "  3.22666667  0.          3.22666667  3.58738174  3.22666667  3.22666667\n",
      "  3.22666667  0.          3.22666667  0.          3.22666667  3.22666667\n",
      "  3.22666667  0.          3.36320431  3.7468005   0.          0.\n",
      "  3.32725663  2.4090824   3.39617434  3.22666667  3.22666667  0.\n",
      "  3.22666667  0.          3.22666667  3.22666667  3.22666667  3.22666667\n",
      "  3.22666667  0.          3.22666667  3.22666667  0.          0.          0.\n",
      "  3.55703305  3.4826983   0.          3.22666667  0.          3.22666667\n",
      "  0.          3.22666667  3.22666667  0.          3.22666667  3.69415478\n",
      "  3.22666667  0.          3.22666667  0.          0.          3.22666667\n",
      "  3.49523195  0.          3.22666667  3.22666667  0.          3.22666667\n",
      "  3.22666667  3.56811286  0.          0.          0.          3.22666667\n",
      "  0.          3.22666667  3.22666667  3.22666667  0.          0.\n",
      "  3.22666667  3.22666667  3.22666667  3.27832757  0.          3.22666667\n",
      "  0.          3.22666667  0.          3.37006092  3.22666667  3.22666667\n",
      "  3.22666667  3.22666667  3.22666667  3.4826983   3.22666667  0.\n",
      "  3.22666667  0.          3.56751977  0.          3.22666667  3.22666667\n",
      "  3.22666667  0.          0.          0.          0.          3.57810818\n",
      "  3.22666667  3.22666667  0.          3.22666667  3.22666667  0.\n",
      "  3.22666667  0.          3.22666667  3.22666667  0.          0.          0.\n",
      "  0.          3.53831117  0.          3.22666667  0.          0.\n",
      "  3.22666667  0.          3.22666667  3.22666667  3.49192536  0.          0.\n",
      "  3.57205492  3.22666667  3.22666667  3.22666667  3.49532891  3.22666667\n",
      "  0.          3.22666667  3.44434252  3.22666667  3.22666667  3.57810818\n",
      "  3.22666667  3.68833603  3.53528624  3.22666667  3.22666667  3.45681842\n",
      "  0.          3.43881983  3.22666667  0.          0.          3.22666667\n",
      "  0.          3.22666667  3.22666667  0.          0.          3.54784141\n",
      "  0.          0.          0.          0.          3.22666667  0.\n",
      "  3.22666667  3.22666667  3.22666667  0.          3.22666667  3.22666667\n",
      "  0.          3.22666667  3.32725663  0.          3.51664169  3.69415478\n",
      "  0.          0.          0.          3.22666667  0.          3.22666667\n",
      "  3.41163909  0.          0.          3.22666667  3.22666667  0.          0.\n",
      "  3.22666667  3.39617434  3.22666667  3.22666667  3.27832757  0.\n",
      "  3.49192536  0.          0.          3.22666667  0.          0.\n",
      "  3.22666667  0.          3.22666667  0.          3.46179128  3.22666667\n",
      "  0.          3.22666667  3.22666667  0.          3.22666667  0.\n",
      "  3.22666667  3.22666667  3.58738174  3.22666667  3.22666667  3.22666667\n",
      "  0.          3.22666667  3.70710243  0.          3.22666667  3.24991544\n",
      "  3.22666667  3.56751977  3.22666667  3.24991544  3.22666667  0.\n",
      "  3.22666667  3.22666667  3.4826983   0.          0.          0.\n",
      "  3.32459752  3.4826983   3.22666667  0.          3.57205492  3.44434252\n",
      "  0.          3.56751977  3.50310439  0.          0.          3.5132049   0.\n",
      "  3.22666667  3.22666667  3.22666667  3.56751977  0.          3.22666667\n",
      "  0.          3.22666667  3.22666667  0.          0.          3.22666667\n",
      "  0.          3.22666667  3.49632015  3.56751977  3.22666667  3.22666667\n",
      "  3.62888863  3.44434252  3.22666667  0.          3.22666667  3.57134561\n",
      "  3.22666667  3.22666667  0.          3.49592572  3.22666667  3.22666667\n",
      "  3.22666667  3.22666667  0.          3.22666667  0.          3.22666667\n",
      "  3.22666667  3.22666667  3.22666667  0.          0.          0.\n",
      "  3.22666667  3.22666667  0.          3.22666667  0.          3.22666667\n",
      "  3.22666667  3.56751977  3.5302574   0.          3.22666667  3.22666667\n",
      "  3.53528624  3.22666667  1.          3.22666667  3.51740083  3.22666667\n",
      "  3.58061965  3.22666667  0.          3.22666667  0.          0.\n",
      "  3.22666667  3.56751977  3.22666667  3.22666667  3.22666667  3.56751977\n",
      "  3.58061965  0.          3.22666667  3.28418104  0.          3.22666667\n",
      "  3.22666667  0.          0.          3.22666667  3.00862479  3.22666667\n",
      "  0.          0.          3.22666667  3.58061965  3.22666667  3.22666667\n",
      "  3.57810818  3.22666667  3.22666667  3.56751977  3.51740083  3.22666667\n",
      "  0.          0.          3.22666667  3.22666667  3.22666667  0.          0.\n",
      "  3.22666667  3.22666667  3.22666667  0.          3.22666667  0.\n",
      "  3.22666667  0.          0.          3.22666667  3.41026882  0.          0.\n",
      "  3.22666667  0.          3.49632015  3.22666667  3.70710243  3.22666667\n",
      "  0.          0.          3.56448108  3.22666667  0.          0.\n",
      "  3.22666667  3.22666667  3.22666667  3.22666667  0.          3.22666667\n",
      "  3.57810818  3.22666667  0.          3.22666667  0.          0.\n",
      "  3.22666667  3.22666667  3.22666667  3.22666667  3.22666667  0.\n",
      "  3.22666667  0.          3.22666667  0.          0.          0.\n",
      "  3.22666667  0.          0.          3.22666667  3.28418104  0.\n",
      "  3.22666667  0.          0.          3.22666667  3.48664848  3.22666667\n",
      "  3.57205492  3.22666667  0.          3.22666667  3.39165316  0.\n",
      "  3.56751977  3.22666667  3.69415478  3.22666667  3.22666667  3.22666667\n",
      "  0.          3.27573644  0.          3.54784141  3.22666667  0.\n",
      "  3.22666667  0.          3.22666667  3.22666667  0.          3.39165316\n",
      "  3.22666667  0.          3.22666667  3.51664169  3.22666667  3.22666667\n",
      "  3.22666667  3.27832757  3.22666667  3.22666667  3.56751977  3.22666667\n",
      "  0.          0.          3.66403001  3.22666667  3.22666667  3.22666667\n",
      "  0.          0.          3.22666667  3.22666667  0.          0.          0.\n",
      "  0.          3.4826983   3.22666667  3.24286306  0.          3.58061965\n",
      "  2.9570894   3.22666667  3.44434252  2.9570894   3.22666667  0.\n",
      "  3.22666667  0.          3.41026882  3.22666667  0.          0.\n",
      "  3.22666667  3.22666667  3.44434252  3.57810818  3.22666667  0.\n",
      "  3.32459752  3.22666667  3.22666667  0.          0.          3.62888863\n",
      "  3.22666667  0.          3.22666667  3.22666667  0.          0.\n",
      "  3.22666667  3.22666667  3.22666667  3.57215915  3.22666667  0.\n",
      "  3.22666667  3.39165316  0.          3.22666667  3.22666667  3.49523195\n",
      "  3.22666667  3.49192536  3.22666667  3.69415478  0.          3.22666667\n",
      "  2.60856005  0.          0.          0.          0.          3.22666667\n",
      "  0.          3.22666667  3.41210937  0.          3.22666667  3.22666667\n",
      "  3.63277787  3.41026882  3.44434252  3.41210937  3.22666667  3.22666667\n",
      "  3.32909861  3.22666667  3.62888863  0.          3.44434252  3.24552787\n",
      "  3.22666667  3.56448108  3.22666667  0.          0.          3.51740083\n",
      "  0.          3.55511345  0.          3.22666667  3.54784141  3.22666667\n",
      "  3.44434252  3.56751977  3.22666667  3.66109316  0.          3.55398584\n",
      "  3.22666667  3.22666667  3.58061965  3.22666667  3.          3.57205492\n",
      "  0.          3.22666667  3.22666667  0.          3.37006092  3.22666667\n",
      "  3.22666667  3.22666667  3.22666667  0.          0.          0.          0.\n",
      "  3.39165316  3.4890574   0.          3.58061965  0.          3.22666667\n",
      "  0.          3.22666667  0.          3.22666667  0.          3.32459752\n",
      "  0.          0.          3.22666667  3.22666667  3.22666667  3.57205492\n",
      "  3.56448108  0.          3.22666667  3.57810818  3.22666667  0.\n",
      "  3.22666667  3.22666667  3.47093797  0.          3.22666667  3.22666667\n",
      "  3.22666667  3.28418104  3.22666667  3.22666667  3.53528624  3.57215915\n",
      "  3.56751977  3.22666667  3.28418104  0.          3.22666667  3.22666667\n",
      "  3.56751977  0.          3.56751977  3.22666667  3.49632015  0.\n",
      "  3.22666667  3.4826983   3.58738174  3.51740083  3.6355188   0.\n",
      "  3.56751977  3.49592572  0.          3.22666667  0.          0.\n",
      "  2.64391834  0.          0.          3.22666667  3.22666667  3.28418104\n",
      "  3.22666667  0.          3.22666667  0.          0.          3.22666667\n",
      "  3.22666667  3.22666667  0.          1.          0.          3.22666667\n",
      "  3.45681842  3.22666667  3.22666667  0.          3.57215915  3.27832757\n",
      "  3.22666667  3.22666667  3.22666667  3.22666667  3.22666667  0.\n",
      "  3.22666667  3.22666667  0.          0.          3.22666667  0.          0.\n",
      "  0.          0.          3.22666667  3.22666667  3.58061965  0.          0.\n",
      "  0.          0.          0.          3.56035918  0.          3.22666667\n",
      "  3.22666667  0.          0.          3.22666667  0.          3.22666667\n",
      "  0.          3.22666667  3.22666667  3.66915758  0.          0.          0.\n",
      "  3.22666667  3.3942412   3.41026882  3.22666667  3.22666667  3.22666667\n",
      "  0.          0.          0.          3.22666667  0.          3.22666667\n",
      "  3.22666667  3.22666667  3.22666667  0.          3.22666667  0.\n",
      "  3.22666667  0.          3.36320431  3.22666667  3.22666667  3.3942412\n",
      "  3.22666667  3.57215915  3.44434252  0.          3.22666667  3.51740083\n",
      "  3.22666667  3.22666667  0.          3.54943015  3.22666667  3.22666667\n",
      "  3.22666667  0.          0.          0.          0.          0.          0.\n",
      "  3.56751977  0.          0.          3.51664169  0.          3.22666667\n",
      "  3.5908667   0.          3.74750578  3.58061965  0.          3.4826983   0.\n",
      "  3.22666667  0.          3.22666667  3.58061965  3.56411583  3.56751977\n",
      "  3.22666667  0.          3.22666667  3.22666667  3.22666667  3.3942412\n",
      "  3.22666667  3.22666667  3.27832757  0.          0.          0.\n",
      "  3.58061965  0.          3.56751977  3.5549211   0.          3.49192536\n",
      "  0.          0.          3.22666667  3.22666667  3.22666667  3.57215915\n",
      "  3.22666667  0.          3.22666667  3.56751977  0.          1.          0.\n",
      "  3.22666667  3.22666667  0.          3.22666667  3.22666667  3.44434252\n",
      "  0.          3.43066438  3.22666667  3.22666667  3.22666667  0.\n",
      "  3.22666667  0.          3.27832757  0.          0.          3.22666667\n",
      "  3.22666667  3.22666667  3.56751977  3.22666667  3.22666667  0.\n",
      "  3.22666667  3.22666667  3.22666667  0.          0.          3.49428477\n",
      "  0.          3.68833603  3.44434252  3.22666667  3.22666667  0.\n",
      "  3.22666667  0.          0.          3.22666667  3.56751977  3.22666667\n",
      "  0.          3.22666667  3.31146979  3.22666667  3.22666667  3.56751977\n",
      "  3.22666667  3.22666667  0.          3.37181162  3.22666667  3.22666667\n",
      "  3.22666667  3.51740083  0.          3.22666667  0.          0.\n",
      "  3.22666667  3.40920745  0.          3.49632015  3.4826983   0.\n",
      "  3.22666667  3.54784141  3.22666667  3.57205492  3.22666667  3.22666667\n",
      "  3.54957152  0.          3.22666667  3.22666667  0.          3.22666667\n",
      "  3.52826139  0.          3.22666667  3.37195652  0.          3.22666667\n",
      "  0.        ]\n"
     ]
    },
    {
     "name": "stderr",
     "output_type": "stream",
     "text": [
      "/Users/zhangtianqi/anaconda/lib/python2.7/site-packages/ipykernel/__main__.py:11: RuntimeWarning: invalid value encountered in double_scalars\n"
     ]
    }
   ],
   "source": [
    "n_users = utility_mat.shape[0]\n",
    "n_items = utility_mat.shape[1]\n",
    "\n",
    "items_rated_by_this_user = utility_mat[user_id].nonzero()[0]\n",
    "# Just initializing so we have somewhere to put rating preds\n",
    "out = np.zeros(n_items)\n",
    "for item_to_rate in xrange(n_items):\n",
    "    relevant_items = np.intersect1d(neighborhoods[item_to_rate],\n",
    "                                    items_rated_by_this_user,\n",
    "                                    assume_unique=True)  # assume_unique speeds up intersection op\n",
    "    out[item_to_rate] = np.dot(utility_mat[user_id, relevant_items] ,\\\n",
    "        item_sim_mat[item_to_rate, relevant_items]) / \\\n",
    "        item_sim_mat[item_to_rate, relevant_items].sum()\n",
    "\n",
    "\n",
    "pred_ratings = np.nan_to_num(out)\n",
    "print pred_ratings"
   ]
  },
  {
   "cell_type": "code",
   "execution_count": 133,
   "metadata": {},
   "outputs": [
    {
     "data": {
      "text/plain": [
       "(960,)"
      ]
     },
     "execution_count": 133,
     "metadata": {},
     "output_type": "execute_result"
    }
   ],
   "source": [
    "pred_ratings.shape"
   ]
  },
  {
   "cell_type": "code",
   "execution_count": 136,
   "metadata": {},
   "outputs": [
    {
     "data": {
      "text/plain": [
       "[842, 573, 349, 618, 610, 637, 503, 595, 256, 128]"
      ]
     },
     "execution_count": 136,
     "metadata": {},
     "output_type": "execute_result"
    }
   ],
   "source": [
    "n = 10\n",
    "# Get item indexes sorted by predicted rating\n",
    "item_index_sorted_by_pred_rating = list(np.argsort(pred_ratings))\n",
    "\n",
    "# exclude the items that have been rated by user\n",
    "unrated_items_by_pred_rating = [item for item in item_index_sorted_by_pred_rating\n",
    "                                if item not in items_rated_by_this_user]\n",
    "\n",
    "unrated_index = unrated_items_by_pred_rating[-n:]\n",
    "unrated_index"
   ]
  },
  {
   "cell_type": "code",
   "execution_count": 165,
   "metadata": {},
   "outputs": [
    {
     "name": "stdout",
     "output_type": "stream",
     "text": [
      "Top 10 restaurants recommended for the user:\n",
      "\n",
      "BARDOT Brasserie\n",
      "T-Bones Chophouse\n",
      "Wicked Spoon\n",
      "Gordon Ramsay BurGR\n",
      "STK Las Vegas\n",
      "Todd English P.U.B.\n",
      "Nine Fine Irishmen\n",
      "Fish N Bowl\n",
      "The Henry\n",
      "JJANGA Japanese Restaurant\n"
     ]
    }
   ],
   "source": [
    "print 'Top 10 restaurants recommended for the user:\\n'\n",
    "for index in unrated_index:\n",
    "    for name in df[df['business_id']==df_utility.columns[index]]['name']:\n",
    "        print name\n",
    "        break"
   ]
  },
  {
   "cell_type": "markdown",
   "metadata": {},
   "source": [
    "## 3. Matrix Factorization recommender"
   ]
  },
  {
   "cell_type": "code",
   "execution_count": 166,
   "metadata": {
    "collapsed": true
   },
   "outputs": [],
   "source": [
    "import graphlab"
   ]
  },
  {
   "cell_type": "code",
   "execution_count": 167,
   "metadata": {},
   "outputs": [
    {
     "name": "stdout",
     "output_type": "stream",
     "text": [
      "This non-commercial license of GraphLab Create for academic use is assigned to tiazhang@umass.edu and will expire on July 04, 2018.\n"
     ]
    },
    {
     "name": "stderr",
     "output_type": "stream",
     "text": [
      "[INFO] graphlab.cython.cy_server: GraphLab Create v2.1 started. Logging: /tmp/graphlab_server_1499149138.log\n"
     ]
    }
   ],
   "source": [
    "sf = graphlab.SFrame(df[['user_id', 'business_id', 'stars']])"
   ]
  },
  {
   "cell_type": "code",
   "execution_count": 168,
   "metadata": {},
   "outputs": [
    {
     "data": {
      "text/html": [
       "<pre>Recsys training: model = factorization_recommender</pre>"
      ],
      "text/plain": [
       "Recsys training: model = factorization_recommender"
      ]
     },
     "metadata": {},
     "output_type": "display_data"
    },
    {
     "data": {
      "text/html": [
       "<pre>Preparing data set.</pre>"
      ],
      "text/plain": [
       "Preparing data set."
      ]
     },
     "metadata": {},
     "output_type": "display_data"
    },
    {
     "data": {
      "text/html": [
       "<pre>    Data has 347619 observations with 160703 users and 4353 items.</pre>"
      ],
      "text/plain": [
       "    Data has 347619 observations with 160703 users and 4353 items."
      ]
     },
     "metadata": {},
     "output_type": "display_data"
    },
    {
     "data": {
      "text/html": [
       "<pre>    Data prepared in: 0.592539s</pre>"
      ],
      "text/plain": [
       "    Data prepared in: 0.592539s"
      ]
     },
     "metadata": {},
     "output_type": "display_data"
    },
    {
     "data": {
      "text/html": [
       "<pre>Training factorization_recommender for recommendations.</pre>"
      ],
      "text/plain": [
       "Training factorization_recommender for recommendations."
      ]
     },
     "metadata": {},
     "output_type": "display_data"
    },
    {
     "data": {
      "text/html": [
       "<pre>+------------------------------+--------------------------------------------------+----------+</pre>"
      ],
      "text/plain": [
       "+------------------------------+--------------------------------------------------+----------+"
      ]
     },
     "metadata": {},
     "output_type": "display_data"
    },
    {
     "data": {
      "text/html": [
       "<pre>| Parameter                    | Description                                      | Value    |</pre>"
      ],
      "text/plain": [
       "| Parameter                    | Description                                      | Value    |"
      ]
     },
     "metadata": {},
     "output_type": "display_data"
    },
    {
     "data": {
      "text/html": [
       "<pre>+------------------------------+--------------------------------------------------+----------+</pre>"
      ],
      "text/plain": [
       "+------------------------------+--------------------------------------------------+----------+"
      ]
     },
     "metadata": {},
     "output_type": "display_data"
    },
    {
     "data": {
      "text/html": [
       "<pre>| num_factors                  | Factor Dimension                                 | 8        |</pre>"
      ],
      "text/plain": [
       "| num_factors                  | Factor Dimension                                 | 8        |"
      ]
     },
     "metadata": {},
     "output_type": "display_data"
    },
    {
     "data": {
      "text/html": [
       "<pre>| regularization               | L2 Regularization on Factors                     | 1e-08    |</pre>"
      ],
      "text/plain": [
       "| regularization               | L2 Regularization on Factors                     | 1e-08    |"
      ]
     },
     "metadata": {},
     "output_type": "display_data"
    },
    {
     "data": {
      "text/html": [
       "<pre>| max_iterations               | Maximum Number of Iterations                     | 50       |</pre>"
      ],
      "text/plain": [
       "| max_iterations               | Maximum Number of Iterations                     | 50       |"
      ]
     },
     "metadata": {},
     "output_type": "display_data"
    },
    {
     "data": {
      "text/html": [
       "<pre>| solver                       | Solver used for training                         | als      |</pre>"
      ],
      "text/plain": [
       "| solver                       | Solver used for training                         | als      |"
      ]
     },
     "metadata": {},
     "output_type": "display_data"
    },
    {
     "data": {
      "text/html": [
       "<pre>+------------------------------+--------------------------------------------------+----------+</pre>"
      ],
      "text/plain": [
       "+------------------------------+--------------------------------------------------+----------+"
      ]
     },
     "metadata": {},
     "output_type": "display_data"
    },
    {
     "data": {
      "text/html": [
       "<pre>+---------+--------------+------------------------+</pre>"
      ],
      "text/plain": [
       "+---------+--------------+------------------------+"
      ]
     },
     "metadata": {},
     "output_type": "display_data"
    },
    {
     "data": {
      "text/html": [
       "<pre>| Iter.   | Elapsed time | RMSE                   |</pre>"
      ],
      "text/plain": [
       "| Iter.   | Elapsed time | RMSE                   |"
      ]
     },
     "metadata": {},
     "output_type": "display_data"
    },
    {
     "data": {
      "text/html": [
       "<pre>+---------+--------------+------------------------+</pre>"
      ],
      "text/plain": [
       "+---------+--------------+------------------------+"
      ]
     },
     "metadata": {},
     "output_type": "display_data"
    },
    {
     "data": {
      "text/html": [
       "<pre>| Initial | 436us        | NA                     |</pre>"
      ],
      "text/plain": [
       "| Initial | 436us        | NA                     |"
      ]
     },
     "metadata": {},
     "output_type": "display_data"
    },
    {
     "data": {
      "text/html": [
       "<pre>+---------+--------------+------------------------+</pre>"
      ],
      "text/plain": [
       "+---------+--------------+------------------------+"
      ]
     },
     "metadata": {},
     "output_type": "display_data"
    },
    {
     "data": {
      "text/html": [
       "<pre>| 0       | 505.581ms    | 0.825314               |</pre>"
      ],
      "text/plain": [
       "| 0       | 505.581ms    | 0.825314               |"
      ]
     },
     "metadata": {},
     "output_type": "display_data"
    },
    {
     "data": {
      "text/html": [
       "<pre>| 1       | 1.56s        | 0.357233               |</pre>"
      ],
      "text/plain": [
       "| 1       | 1.56s        | 0.357233               |"
      ]
     },
     "metadata": {},
     "output_type": "display_data"
    },
    {
     "data": {
      "text/html": [
       "<pre>| 2       | 2.15s        | 0.338659               |</pre>"
      ],
      "text/plain": [
       "| 2       | 2.15s        | 0.338659               |"
      ]
     },
     "metadata": {},
     "output_type": "display_data"
    },
    {
     "data": {
      "text/html": [
       "<pre>| 3       | 2.55s        | 0.326579               |</pre>"
      ],
      "text/plain": [
       "| 3       | 2.55s        | 0.326579               |"
      ]
     },
     "metadata": {},
     "output_type": "display_data"
    },
    {
     "data": {
      "text/html": [
       "<pre>| 4       | 2.91s        | 0.317528               |</pre>"
      ],
      "text/plain": [
       "| 4       | 2.91s        | 0.317528               |"
      ]
     },
     "metadata": {},
     "output_type": "display_data"
    },
    {
     "data": {
      "text/html": [
       "<pre>| 5       | 3.26s        | 0.310281               |</pre>"
      ],
      "text/plain": [
       "| 5       | 3.26s        | 0.310281               |"
      ]
     },
     "metadata": {},
     "output_type": "display_data"
    },
    {
     "data": {
      "text/html": [
       "<pre>| 6       | 3.60s        | 0.304249               |</pre>"
      ],
      "text/plain": [
       "| 6       | 3.60s        | 0.304249               |"
      ]
     },
     "metadata": {},
     "output_type": "display_data"
    },
    {
     "data": {
      "text/html": [
       "<pre>| 7       | 4.11s        | 0.299053               |</pre>"
      ],
      "text/plain": [
       "| 7       | 4.11s        | 0.299053               |"
      ]
     },
     "metadata": {},
     "output_type": "display_data"
    },
    {
     "data": {
      "text/html": [
       "<pre>| 8       | 4.52s        | 0.294478               |</pre>"
      ],
      "text/plain": [
       "| 8       | 4.52s        | 0.294478               |"
      ]
     },
     "metadata": {},
     "output_type": "display_data"
    },
    {
     "data": {
      "text/html": [
       "<pre>| 9       | 4.94s        | 0.29045                |</pre>"
      ],
      "text/plain": [
       "| 9       | 4.94s        | 0.29045                |"
      ]
     },
     "metadata": {},
     "output_type": "display_data"
    },
    {
     "data": {
      "text/html": [
       "<pre>| 10      | 5.38s        | 0.286879               |</pre>"
      ],
      "text/plain": [
       "| 10      | 5.38s        | 0.286879               |"
      ]
     },
     "metadata": {},
     "output_type": "display_data"
    },
    {
     "data": {
      "text/html": [
       "<pre>| 11      | 5.81s        | 0.283711               |</pre>"
      ],
      "text/plain": [
       "| 11      | 5.81s        | 0.283711               |"
      ]
     },
     "metadata": {},
     "output_type": "display_data"
    },
    {
     "data": {
      "text/html": [
       "<pre>| 12      | 6.24s        | 0.280855               |</pre>"
      ],
      "text/plain": [
       "| 12      | 6.24s        | 0.280855               |"
      ]
     },
     "metadata": {},
     "output_type": "display_data"
    },
    {
     "data": {
      "text/html": [
       "<pre>| 13      | 6.64s        | 0.278255               |</pre>"
      ],
      "text/plain": [
       "| 13      | 6.64s        | 0.278255               |"
      ]
     },
     "metadata": {},
     "output_type": "display_data"
    },
    {
     "data": {
      "text/html": [
       "<pre>| 14      | 7.01s        | 0.275854               |</pre>"
      ],
      "text/plain": [
       "| 14      | 7.01s        | 0.275854               |"
      ]
     },
     "metadata": {},
     "output_type": "display_data"
    },
    {
     "data": {
      "text/html": [
       "<pre>| 15      | 7.36s        | 0.273621               |</pre>"
      ],
      "text/plain": [
       "| 15      | 7.36s        | 0.273621               |"
      ]
     },
     "metadata": {},
     "output_type": "display_data"
    },
    {
     "data": {
      "text/html": [
       "<pre>| 16      | 7.73s        | 0.271547               |</pre>"
      ],
      "text/plain": [
       "| 16      | 7.73s        | 0.271547               |"
      ]
     },
     "metadata": {},
     "output_type": "display_data"
    },
    {
     "data": {
      "text/html": [
       "<pre>| 17      | 8.12s        | 0.269604               |</pre>"
      ],
      "text/plain": [
       "| 17      | 8.12s        | 0.269604               |"
      ]
     },
     "metadata": {},
     "output_type": "display_data"
    },
    {
     "data": {
      "text/html": [
       "<pre>| 18      | 8.49s        | 0.267777               |</pre>"
      ],
      "text/plain": [
       "| 18      | 8.49s        | 0.267777               |"
      ]
     },
     "metadata": {},
     "output_type": "display_data"
    },
    {
     "data": {
      "text/html": [
       "<pre>| 19      | 8.84s        | 0.266049               |</pre>"
      ],
      "text/plain": [
       "| 19      | 8.84s        | 0.266049               |"
      ]
     },
     "metadata": {},
     "output_type": "display_data"
    },
    {
     "data": {
      "text/html": [
       "<pre>| 20      | 9.18s        | 0.264425               |</pre>"
      ],
      "text/plain": [
       "| 20      | 9.18s        | 0.264425               |"
      ]
     },
     "metadata": {},
     "output_type": "display_data"
    },
    {
     "data": {
      "text/html": [
       "<pre>| 21      | 9.52s        | 0.262899               |</pre>"
      ],
      "text/plain": [
       "| 21      | 9.52s        | 0.262899               |"
      ]
     },
     "metadata": {},
     "output_type": "display_data"
    },
    {
     "data": {
      "text/html": [
       "<pre>| 22      | 9.86s        | 0.261456               |</pre>"
      ],
      "text/plain": [
       "| 22      | 9.86s        | 0.261456               |"
      ]
     },
     "metadata": {},
     "output_type": "display_data"
    },
    {
     "data": {
      "text/html": [
       "<pre>| 23      | 10.21s       | 0.260097               |</pre>"
      ],
      "text/plain": [
       "| 23      | 10.21s       | 0.260097               |"
      ]
     },
     "metadata": {},
     "output_type": "display_data"
    },
    {
     "data": {
      "text/html": [
       "<pre>| 24      | 10.62s       | 0.258814               |</pre>"
      ],
      "text/plain": [
       "| 24      | 10.62s       | 0.258814               |"
      ]
     },
     "metadata": {},
     "output_type": "display_data"
    },
    {
     "data": {
      "text/html": [
       "<pre>| 25      | 10.96s       | 0.257597               |</pre>"
      ],
      "text/plain": [
       "| 25      | 10.96s       | 0.257597               |"
      ]
     },
     "metadata": {},
     "output_type": "display_data"
    },
    {
     "data": {
      "text/html": [
       "<pre>| 26      | 11.30s       | 0.25644                |</pre>"
      ],
      "text/plain": [
       "| 26      | 11.30s       | 0.25644                |"
      ]
     },
     "metadata": {},
     "output_type": "display_data"
    },
    {
     "data": {
      "text/html": [
       "<pre>| 27      | 11.63s       | 0.255335               |</pre>"
      ],
      "text/plain": [
       "| 27      | 11.63s       | 0.255335               |"
      ]
     },
     "metadata": {},
     "output_type": "display_data"
    },
    {
     "data": {
      "text/html": [
       "<pre>| 28      | 11.97s       | 0.25428                |</pre>"
      ],
      "text/plain": [
       "| 28      | 11.97s       | 0.25428                |"
      ]
     },
     "metadata": {},
     "output_type": "display_data"
    },
    {
     "data": {
      "text/html": [
       "<pre>| 29      | 12.30s       | 0.253267               |</pre>"
      ],
      "text/plain": [
       "| 29      | 12.30s       | 0.253267               |"
      ]
     },
     "metadata": {},
     "output_type": "display_data"
    },
    {
     "data": {
      "text/html": [
       "<pre>| 30      | 12.63s       | 0.252295               |</pre>"
      ],
      "text/plain": [
       "| 30      | 12.63s       | 0.252295               |"
      ]
     },
     "metadata": {},
     "output_type": "display_data"
    },
    {
     "data": {
      "text/html": [
       "<pre>| 31      | 12.97s       | 0.251362               |</pre>"
      ],
      "text/plain": [
       "| 31      | 12.97s       | 0.251362               |"
      ]
     },
     "metadata": {},
     "output_type": "display_data"
    },
    {
     "data": {
      "text/html": [
       "<pre>| 32      | 13.31s       | 0.250465               |</pre>"
      ],
      "text/plain": [
       "| 32      | 13.31s       | 0.250465               |"
      ]
     },
     "metadata": {},
     "output_type": "display_data"
    },
    {
     "data": {
      "text/html": [
       "<pre>| 33      | 13.64s       | 0.249601               |</pre>"
      ],
      "text/plain": [
       "| 33      | 13.64s       | 0.249601               |"
      ]
     },
     "metadata": {},
     "output_type": "display_data"
    },
    {
     "data": {
      "text/html": [
       "<pre>| 34      | 13.98s       | 0.248767               |</pre>"
      ],
      "text/plain": [
       "| 34      | 13.98s       | 0.248767               |"
      ]
     },
     "metadata": {},
     "output_type": "display_data"
    },
    {
     "data": {
      "text/html": [
       "<pre>| 35      | 14.31s       | 0.247964               |</pre>"
      ],
      "text/plain": [
       "| 35      | 14.31s       | 0.247964               |"
      ]
     },
     "metadata": {},
     "output_type": "display_data"
    },
    {
     "data": {
      "text/html": [
       "<pre>| 36      | 14.64s       | 0.247185               |</pre>"
      ],
      "text/plain": [
       "| 36      | 14.64s       | 0.247185               |"
      ]
     },
     "metadata": {},
     "output_type": "display_data"
    },
    {
     "data": {
      "text/html": [
       "<pre>| 37      | 14.98s       | 0.246429               |</pre>"
      ],
      "text/plain": [
       "| 37      | 14.98s       | 0.246429               |"
      ]
     },
     "metadata": {},
     "output_type": "display_data"
    },
    {
     "data": {
      "text/html": [
       "<pre>| 38      | 15.31s       | 0.245698               |</pre>"
      ],
      "text/plain": [
       "| 38      | 15.31s       | 0.245698               |"
      ]
     },
     "metadata": {},
     "output_type": "display_data"
    },
    {
     "data": {
      "text/html": [
       "<pre>| 39      | 15.65s       | 0.244988               |</pre>"
      ],
      "text/plain": [
       "| 39      | 15.65s       | 0.244988               |"
      ]
     },
     "metadata": {},
     "output_type": "display_data"
    },
    {
     "data": {
      "text/html": [
       "<pre>| 40      | 16.01s       | 0.244295               |</pre>"
      ],
      "text/plain": [
       "| 40      | 16.01s       | 0.244295               |"
      ]
     },
     "metadata": {},
     "output_type": "display_data"
    },
    {
     "data": {
      "text/html": [
       "<pre>| 41      | 16.34s       | 0.243622               |</pre>"
      ],
      "text/plain": [
       "| 41      | 16.34s       | 0.243622               |"
      ]
     },
     "metadata": {},
     "output_type": "display_data"
    },
    {
     "data": {
      "text/html": [
       "<pre>| 42      | 16.67s       | 0.242967               |</pre>"
      ],
      "text/plain": [
       "| 42      | 16.67s       | 0.242967               |"
      ]
     },
     "metadata": {},
     "output_type": "display_data"
    },
    {
     "data": {
      "text/html": [
       "<pre>| 43      | 17.00s       | 0.242329               |</pre>"
      ],
      "text/plain": [
       "| 43      | 17.00s       | 0.242329               |"
      ]
     },
     "metadata": {},
     "output_type": "display_data"
    },
    {
     "data": {
      "text/html": [
       "<pre>| 44      | 17.33s       | 0.241708               |</pre>"
      ],
      "text/plain": [
       "| 44      | 17.33s       | 0.241708               |"
      ]
     },
     "metadata": {},
     "output_type": "display_data"
    },
    {
     "data": {
      "text/html": [
       "<pre>| 45      | 17.66s       | 0.241104               |</pre>"
      ],
      "text/plain": [
       "| 45      | 17.66s       | 0.241104               |"
      ]
     },
     "metadata": {},
     "output_type": "display_data"
    },
    {
     "data": {
      "text/html": [
       "<pre>| 46      | 17.99s       | 0.240516               |</pre>"
      ],
      "text/plain": [
       "| 46      | 17.99s       | 0.240516               |"
      ]
     },
     "metadata": {},
     "output_type": "display_data"
    },
    {
     "data": {
      "text/html": [
       "<pre>| 47      | 18.33s       | 0.239942               |</pre>"
      ],
      "text/plain": [
       "| 47      | 18.33s       | 0.239942               |"
      ]
     },
     "metadata": {},
     "output_type": "display_data"
    },
    {
     "data": {
      "text/html": [
       "<pre>| 48      | 18.66s       | 0.23938                |</pre>"
      ],
      "text/plain": [
       "| 48      | 18.66s       | 0.23938                |"
      ]
     },
     "metadata": {},
     "output_type": "display_data"
    },
    {
     "data": {
      "text/html": [
       "<pre>| 49      | 19.01s       | 0.238831               |</pre>"
      ],
      "text/plain": [
       "| 49      | 19.01s       | 0.238831               |"
      ]
     },
     "metadata": {},
     "output_type": "display_data"
    },
    {
     "data": {
      "text/html": [
       "<pre>| FINAL   | 19.01s       | 0.238831               |</pre>"
      ],
      "text/plain": [
       "| FINAL   | 19.01s       | 0.238831               |"
      ]
     },
     "metadata": {},
     "output_type": "display_data"
    },
    {
     "data": {
      "text/html": [
       "<pre>+---------+--------------+------------------------+</pre>"
      ],
      "text/plain": [
       "+---------+--------------+------------------------+"
      ]
     },
     "metadata": {},
     "output_type": "display_data"
    },
    {
     "data": {
      "text/html": [
       "<pre>Optimization Complete: Iteration limit reached.</pre>"
      ],
      "text/plain": [
       "Optimization Complete: Iteration limit reached."
      ]
     },
     "metadata": {},
     "output_type": "display_data"
    }
   ],
   "source": [
    "rec = graphlab.recommender.factorization_recommender.create(\n",
    "            sf,\n",
    "            user_id='user_id',\n",
    "            item_id='business_id',\n",
    "            target='stars',\n",
    "            solver='als',\n",
    "            side_data_factorization=False)"
   ]
  },
  {
   "cell_type": "code",
   "execution_count": 169,
   "metadata": {
    "collapsed": true
   },
   "outputs": [],
   "source": [
    "one_datapoint_sf = graphlab.SFrame({'user_id': ['bLbSNkLggFnqwNNzzq-Ijw'], 'business_id': ['-3zffZUHoY8bQjGfPSoBKQ']})"
   ]
  },
  {
   "cell_type": "code",
   "execution_count": 170,
   "metadata": {},
   "outputs": [
    {
     "data": {
      "text/html": [
       "<div style=\"max-height:1000px;max-width:1500px;overflow:auto;\"><table frame=\"box\" rules=\"cols\">\n",
       "    <tr>\n",
       "        <th style=\"padding-left: 1em; padding-right: 1em; text-align: center\">business_id</th>\n",
       "        <th style=\"padding-left: 1em; padding-right: 1em; text-align: center\">user_id</th>\n",
       "    </tr>\n",
       "    <tr>\n",
       "        <td style=\"padding-left: 1em; padding-right: 1em; text-align: center; vertical-align: top\">-3zffZUHoY8bQjGfPSoBKQ</td>\n",
       "        <td style=\"padding-left: 1em; padding-right: 1em; text-align: center; vertical-align: top\">bLbSNkLggFnqwNNzzq-Ijw</td>\n",
       "    </tr>\n",
       "</table>\n",
       "[1 rows x 2 columns]<br/>\n",
       "</div>"
      ],
      "text/plain": [
       "Columns:\n",
       "\tbusiness_id\tstr\n",
       "\tuser_id\tstr\n",
       "\n",
       "Rows: 1\n",
       "\n",
       "Data:\n",
       "+------------------------+------------------------+\n",
       "|      business_id       |        user_id         |\n",
       "+------------------------+------------------------+\n",
       "| -3zffZUHoY8bQjGfPSoBKQ | bLbSNkLggFnqwNNzzq-Ijw |\n",
       "+------------------------+------------------------+\n",
       "[1 rows x 2 columns]"
      ]
     },
     "execution_count": 170,
     "metadata": {},
     "output_type": "execute_result"
    }
   ],
   "source": [
    "one_datapoint_sf"
   ]
  },
  {
   "cell_type": "code",
   "execution_count": 171,
   "metadata": {},
   "outputs": [
    {
     "name": "stdout",
     "output_type": "stream",
     "text": [
      "rating: 3.0850566624\n"
     ]
    }
   ],
   "source": [
    "print \"rating:\", rec.predict(one_datapoint_sf)[0]"
   ]
  },
  {
   "cell_type": "code",
   "execution_count": 172,
   "metadata": {},
   "outputs": [
    {
     "data": {
      "text/plain": [
       "['adagrad_momentum_weighting',\n",
       " 'additional_iterations_if_unhealthy',\n",
       " 'binary_target',\n",
       " 'coefficients',\n",
       " 'data_load_time',\n",
       " 'init_random_sigma',\n",
       " 'item_id',\n",
       " 'item_side_data_column_names',\n",
       " 'item_side_data_column_types',\n",
       " 'linear_regularization',\n",
       " 'max_iterations',\n",
       " 'model_name',\n",
       " 'nmf',\n",
       " 'num_factors',\n",
       " 'num_features',\n",
       " 'num_item_side_features',\n",
       " 'num_items',\n",
       " 'num_observations',\n",
       " 'num_tempering_iterations',\n",
       " 'num_user_side_features',\n",
       " 'num_users',\n",
       " 'observation_data_column_names',\n",
       " 'random_seed',\n",
       " 'regularization',\n",
       " 'regularization_type',\n",
       " 'sgd_convergence_interval',\n",
       " 'sgd_convergence_threshold',\n",
       " 'sgd_max_trial_iterations',\n",
       " 'sgd_sampling_block_size',\n",
       " 'sgd_step_adjustment_interval',\n",
       " 'sgd_step_size',\n",
       " 'sgd_trial_sample_minimum_size',\n",
       " 'sgd_trial_sample_proportion',\n",
       " 'side_data_factorization',\n",
       " 'solver',\n",
       " 'step_size_decrease_rate',\n",
       " 'target',\n",
       " 'tempering_regularization_start_value',\n",
       " 'track_exact_loss',\n",
       " 'training_rmse',\n",
       " 'training_stats',\n",
       " 'training_time',\n",
       " 'user_id',\n",
       " 'user_side_data_column_names',\n",
       " 'user_side_data_column_types']"
      ]
     },
     "execution_count": 172,
     "metadata": {},
     "output_type": "execute_result"
    }
   ],
   "source": [
    "rec.list_fields()"
   ]
  },
  {
   "cell_type": "code",
   "execution_count": 173,
   "metadata": {},
   "outputs": [
    {
     "data": {
      "text/plain": [
       "{'business_id': Columns:\n",
       " \tbusiness_id\tstr\n",
       " \tlinear_terms\tfloat\n",
       " \tfactors\tarray\n",
       " \n",
       " Rows: 4353\n",
       " \n",
       " Data:\n",
       " +------------------------+--------------+-------------------------------+\n",
       " |      business_id       | linear_terms |            factors            |\n",
       " +------------------------+--------------+-------------------------------+\n",
       " | --9e1ONYQuAa-CB_Rrw7Tw |     0.0      | [0.294831573963, -0.477617... |\n",
       " | -1vfRrlnNnNJ5boOVghMPA |     0.0      | [2.23690915108, -0.2593723... |\n",
       " | -3zffZUHoY8bQjGfPSoBKQ |     0.0      | [-0.0688893571496, -0.2286... |\n",
       " | -8R_-EkGpUhBk55K9Dd4mg |     0.0      | [0.0635256543756, 0.385396... |\n",
       " | -9YyInW1wapzdNZrhQJ9dg |     0.0      | [1.16600322723, 0.83798778... |\n",
       " | -AD5PiuJHgdUcAK-Vxao2A |     0.0      | [-0.800842523575, 0.694200... |\n",
       " | -AGdGGCeTS-njB_8GkUmjQ |     0.0      | [-0.916050374508, -1.17539... |\n",
       " | -BS4aZAQm9u41YnB9MUASA |     0.0      | [-1.11336481571, -0.672759... |\n",
       " | -Bf8BQ3yMk8U2f45r2DRKw |     0.0      | [0.41498669982, -0.5020682... |\n",
       " | -BmqghX1sv7sgsxOIS2yAg |     0.0      | [0.259241402149, 0.3584900... |\n",
       " +------------------------+--------------+-------------------------------+\n",
       " [4353 rows x 3 columns]\n",
       " Note: Only the head of the SFrame is printed.\n",
       " You can use print_rows(num_rows=m, num_columns=n) to print more rows and columns.,\n",
       " 'intercept': 3.814860522583644,\n",
       " 'user_id': Columns:\n",
       " \tuser_id\tstr\n",
       " \tlinear_terms\tfloat\n",
       " \tfactors\tarray\n",
       " \n",
       " Rows: 160703\n",
       " \n",
       " Data:\n",
       " +------------------------+--------------+-------------------------------+\n",
       " |        user_id         | linear_terms |            factors            |\n",
       " +------------------------+--------------+-------------------------------+\n",
       " | 0XVzm4kVIAaH4eQAxWbhvw |     0.0      | [3.67006111145, -4.9018325... |\n",
       " | 2aeNFntqY2QDZLADNo8iQQ |     0.0      | [-0.162463992834, -0.06981... |\n",
       " | WFhv5pMJRDPWSyLnKiWFXA |     0.0      | [-0.200891211629, 0.322101... |\n",
       " | 2S6gWE-K3DHNcKYYSgN7xA |     0.0      | [-0.55455416441, 0.7813330... |\n",
       " | rCTVWx_Tws2jWi-K89iEyw |     0.0      | [-0.0988175868988, 0.16053... |\n",
       " | TU5j2S_Ub__ojLOpD_UepQ |     0.0      | [-0.0277272891253, -0.0067... |\n",
       " | GQWk8vgYGlN9hp0XP0V05w |     0.0      | [0.718447566032, -0.580722... |\n",
       " | G7ISuG8XlSd4rNsEcCG2dw |     0.0      | [-0.151784405112, -0.21498... |\n",
       " | OC_WdUmY2fK-c1SD4JqSsw |     0.0      | [0.131185233593, -0.210329... |\n",
       " | ymSVFNfDzSVedxOuASOHXA |     0.0      | [-0.716299951077, -0.11690... |\n",
       " +------------------------+--------------+-------------------------------+\n",
       " [160703 rows x 3 columns]\n",
       " Note: Only the head of the SFrame is printed.\n",
       " You can use print_rows(num_rows=m, num_columns=n) to print more rows and columns.}"
      ]
     },
     "execution_count": 173,
     "metadata": {},
     "output_type": "execute_result"
    }
   ],
   "source": [
    "rec['coefficients'] "
   ]
  },
  {
   "cell_type": "code",
   "execution_count": 174,
   "metadata": {},
   "outputs": [
    {
     "name": "stdout",
     "output_type": "stream",
     "text": [
      "4353\n",
      "8\n",
      "160703\n",
      "8\n"
     ]
    }
   ],
   "source": [
    "business = rec['coefficients']['business_id']\n",
    "print len(business)\n",
    "print len(business['factors'][0])\n",
    "user_sf = rec['coefficients']['user_id']\n",
    "print len(user_sf)\n",
    "print len(user_sf['factors'][0])"
   ]
  },
  {
   "cell_type": "code",
   "execution_count": 175,
   "metadata": {},
   "outputs": [
    {
     "data": {
      "text/html": [
       "<div style=\"max-height:1000px;max-width:1500px;overflow:auto;\"><table frame=\"box\" rules=\"cols\">\n",
       "    <tr>\n",
       "        <th style=\"padding-left: 1em; padding-right: 1em; text-align: center\">user_id</th>\n",
       "        <th style=\"padding-left: 1em; padding-right: 1em; text-align: center\">business_id</th>\n",
       "        <th style=\"padding-left: 1em; padding-right: 1em; text-align: center\">stars</th>\n",
       "    </tr>\n",
       "    <tr>\n",
       "        <td style=\"padding-left: 1em; padding-right: 1em; text-align: center; vertical-align: top\">0XVzm4kVIAaH4eQAxWbhvw</td>\n",
       "        <td style=\"padding-left: 1em; padding-right: 1em; text-align: center; vertical-align: top\">--9e1ONYQuAa-CB_Rrw7Tw</td>\n",
       "        <td style=\"padding-left: 1em; padding-right: 1em; text-align: center; vertical-align: top\">1</td>\n",
       "    </tr>\n",
       "    <tr>\n",
       "        <td style=\"padding-left: 1em; padding-right: 1em; text-align: center; vertical-align: top\">2aeNFntqY2QDZLADNo8iQQ</td>\n",
       "        <td style=\"padding-left: 1em; padding-right: 1em; text-align: center; vertical-align: top\">--9e1ONYQuAa-CB_Rrw7Tw</td>\n",
       "        <td style=\"padding-left: 1em; padding-right: 1em; text-align: center; vertical-align: top\">4</td>\n",
       "    </tr>\n",
       "    <tr>\n",
       "        <td style=\"padding-left: 1em; padding-right: 1em; text-align: center; vertical-align: top\">WFhv5pMJRDPWSyLnKiWFXA</td>\n",
       "        <td style=\"padding-left: 1em; padding-right: 1em; text-align: center; vertical-align: top\">--9e1ONYQuAa-CB_Rrw7Tw</td>\n",
       "        <td style=\"padding-left: 1em; padding-right: 1em; text-align: center; vertical-align: top\">2</td>\n",
       "    </tr>\n",
       "    <tr>\n",
       "        <td style=\"padding-left: 1em; padding-right: 1em; text-align: center; vertical-align: top\">2S6gWE-K3DHNcKYYSgN7xA</td>\n",
       "        <td style=\"padding-left: 1em; padding-right: 1em; text-align: center; vertical-align: top\">--9e1ONYQuAa-CB_Rrw7Tw</td>\n",
       "        <td style=\"padding-left: 1em; padding-right: 1em; text-align: center; vertical-align: top\">2</td>\n",
       "    </tr>\n",
       "    <tr>\n",
       "        <td style=\"padding-left: 1em; padding-right: 1em; text-align: center; vertical-align: top\">rCTVWx_Tws2jWi-K89iEyw</td>\n",
       "        <td style=\"padding-left: 1em; padding-right: 1em; text-align: center; vertical-align: top\">--9e1ONYQuAa-CB_Rrw7Tw</td>\n",
       "        <td style=\"padding-left: 1em; padding-right: 1em; text-align: center; vertical-align: top\">2</td>\n",
       "    </tr>\n",
       "    <tr>\n",
       "        <td style=\"padding-left: 1em; padding-right: 1em; text-align: center; vertical-align: top\">TU5j2S_Ub__ojLOpD_UepQ</td>\n",
       "        <td style=\"padding-left: 1em; padding-right: 1em; text-align: center; vertical-align: top\">--9e1ONYQuAa-CB_Rrw7Tw</td>\n",
       "        <td style=\"padding-left: 1em; padding-right: 1em; text-align: center; vertical-align: top\">5</td>\n",
       "    </tr>\n",
       "    <tr>\n",
       "        <td style=\"padding-left: 1em; padding-right: 1em; text-align: center; vertical-align: top\">GQWk8vgYGlN9hp0XP0V05w</td>\n",
       "        <td style=\"padding-left: 1em; padding-right: 1em; text-align: center; vertical-align: top\">--9e1ONYQuAa-CB_Rrw7Tw</td>\n",
       "        <td style=\"padding-left: 1em; padding-right: 1em; text-align: center; vertical-align: top\">5</td>\n",
       "    </tr>\n",
       "    <tr>\n",
       "        <td style=\"padding-left: 1em; padding-right: 1em; text-align: center; vertical-align: top\">G7ISuG8XlSd4rNsEcCG2dw</td>\n",
       "        <td style=\"padding-left: 1em; padding-right: 1em; text-align: center; vertical-align: top\">--9e1ONYQuAa-CB_Rrw7Tw</td>\n",
       "        <td style=\"padding-left: 1em; padding-right: 1em; text-align: center; vertical-align: top\">5</td>\n",
       "    </tr>\n",
       "    <tr>\n",
       "        <td style=\"padding-left: 1em; padding-right: 1em; text-align: center; vertical-align: top\">OC_WdUmY2fK-c1SD4JqSsw</td>\n",
       "        <td style=\"padding-left: 1em; padding-right: 1em; text-align: center; vertical-align: top\">--9e1ONYQuAa-CB_Rrw7Tw</td>\n",
       "        <td style=\"padding-left: 1em; padding-right: 1em; text-align: center; vertical-align: top\">5</td>\n",
       "    </tr>\n",
       "    <tr>\n",
       "        <td style=\"padding-left: 1em; padding-right: 1em; text-align: center; vertical-align: top\">ymSVFNfDzSVedxOuASOHXA</td>\n",
       "        <td style=\"padding-left: 1em; padding-right: 1em; text-align: center; vertical-align: top\">--9e1ONYQuAa-CB_Rrw7Tw</td>\n",
       "        <td style=\"padding-left: 1em; padding-right: 1em; text-align: center; vertical-align: top\">4</td>\n",
       "    </tr>\n",
       "</table>\n",
       "[347619 rows x 3 columns]<br/>Note: Only the head of the SFrame is printed.<br/>You can use print_rows(num_rows=m, num_columns=n) to print more rows and columns.\n",
       "</div>"
      ],
      "text/plain": [
       "Columns:\n",
       "\tuser_id\tstr\n",
       "\tbusiness_id\tstr\n",
       "\tstars\tint\n",
       "\n",
       "Rows: 347619\n",
       "\n",
       "Data:\n",
       "+------------------------+------------------------+-------+\n",
       "|        user_id         |      business_id       | stars |\n",
       "+------------------------+------------------------+-------+\n",
       "| 0XVzm4kVIAaH4eQAxWbhvw | --9e1ONYQuAa-CB_Rrw7Tw |   1   |\n",
       "| 2aeNFntqY2QDZLADNo8iQQ | --9e1ONYQuAa-CB_Rrw7Tw |   4   |\n",
       "| WFhv5pMJRDPWSyLnKiWFXA | --9e1ONYQuAa-CB_Rrw7Tw |   2   |\n",
       "| 2S6gWE-K3DHNcKYYSgN7xA | --9e1ONYQuAa-CB_Rrw7Tw |   2   |\n",
       "| rCTVWx_Tws2jWi-K89iEyw | --9e1ONYQuAa-CB_Rrw7Tw |   2   |\n",
       "| TU5j2S_Ub__ojLOpD_UepQ | --9e1ONYQuAa-CB_Rrw7Tw |   5   |\n",
       "| GQWk8vgYGlN9hp0XP0V05w | --9e1ONYQuAa-CB_Rrw7Tw |   5   |\n",
       "| G7ISuG8XlSd4rNsEcCG2dw | --9e1ONYQuAa-CB_Rrw7Tw |   5   |\n",
       "| OC_WdUmY2fK-c1SD4JqSsw | --9e1ONYQuAa-CB_Rrw7Tw |   5   |\n",
       "| ymSVFNfDzSVedxOuASOHXA | --9e1ONYQuAa-CB_Rrw7Tw |   4   |\n",
       "+------------------------+------------------------+-------+\n",
       "[347619 rows x 3 columns]\n",
       "Note: Only the head of the SFrame is printed.\n",
       "You can use print_rows(num_rows=m, num_columns=n) to print more rows and columns."
      ]
     },
     "execution_count": 175,
     "metadata": {},
     "output_type": "execute_result"
    }
   ],
   "source": [
    "sf"
   ]
  },
  {
   "cell_type": "code",
   "execution_count": 176,
   "metadata": {},
   "outputs": [
    {
     "name": "stdout",
     "output_type": "stream",
     "text": [
      "graphlab's reported rmse: 0.238830800565\n",
      "calculated rmse: 0.238830800565\n"
     ]
    }
   ],
   "source": [
    "from sklearn.metrics import mean_squared_error\n",
    "\n",
    "predictions = rec.predict(sf)\n",
    "rmse = np.sqrt(mean_squared_error(sf['stars'], predictions))\n",
    "\n",
    "print \"graphlab's reported rmse:\", rec['training_rmse']\n",
    "print \"calculated rmse:\", rmse  "
   ]
  },
  {
   "cell_type": "code",
   "execution_count": 177,
   "metadata": {},
   "outputs": [
    {
     "data": {
      "text/plain": [
       "count    347619.000000\n",
       "mean          3.814861\n",
       "std           1.403646\n",
       "min           1.000000\n",
       "25%           3.000000\n",
       "50%           4.000000\n",
       "75%           5.000000\n",
       "max           5.000000\n",
       "dtype: float64"
      ]
     },
     "execution_count": 177,
     "metadata": {},
     "output_type": "execute_result"
    }
   ],
   "source": [
    "pd.Series(sf['stars']).describe()"
   ]
  },
  {
   "cell_type": "code",
   "execution_count": null,
   "metadata": {
    "collapsed": true
   },
   "outputs": [],
   "source": []
  }
 ],
 "metadata": {
  "anaconda-cloud": {},
  "kernelspec": {
   "display_name": "Python 2",
   "language": "python",
   "name": "python2"
  },
  "language_info": {
   "codemirror_mode": {
    "name": "ipython",
    "version": 2
   },
   "file_extension": ".py",
   "mimetype": "text/x-python",
   "name": "python",
   "nbconvert_exporter": "python",
   "pygments_lexer": "ipython2",
   "version": "2.7.13"
  }
 },
 "nbformat": 4,
 "nbformat_minor": 1
}
